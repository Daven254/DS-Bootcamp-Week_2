{
 "cells": [
  {
   "cell_type": "code",
   "execution_count": 1,
   "id": "1c1b8b84",
   "metadata": {},
   "outputs": [],
   "source": [
    "import os\n",
    "from pathlib import Path\n",
    "import pandas as pd\n",
    "from pandas.plotting import scatter_matrix\n",
    "import numpy as np\n",
    "\n",
    "import statsmodels.api as sm\n",
    "import matplotlib.pyplot as plt\n",
    "from sklearn.feature_selection import VarianceThreshold\n",
    "\n",
    "from sklearn.model_selection import train_test_split\n",
    "from statsmodels.stats.outliers_influence import variance_inflation_factor\n",
    "\n",
    "\n"
   ]
  },
  {
   "cell_type": "markdown",
   "id": "721464c1",
   "metadata": {},
   "source": [
    "#### Exercise ####\n"
   ]
  },
  {
   "cell_type": "markdown",
   "id": "869e4320",
   "metadata": {},
   "source": [
    "#### Please refer to module 1 of MultipleRegression - MultipleLinear for Task 1-8\n",
    "#### Task 1\n",
    "##### Import the required packages.\n",
    "##### Set the working directory to data directory.\n",
    "##### Print the working directory.\n",
    "#### Result:\n"
   ]
  },
  {
   "cell_type": "code",
   "execution_count": 2,
   "id": "1860ab65",
   "metadata": {},
   "outputs": [
    {
     "name": "stdout",
     "output_type": "stream",
     "text": [
      "['insurance.csv', '.ipynb_checkpoints', 'ChemicalManufacturingProcess.csv']\n"
     ]
    }
   ],
   "source": [
    "working_dir = Path(os.getcwd())\n",
    "home_dir = working_dir\n",
    "data_dir = str(home_dir) +'/data/'\n",
    "list_files = os.listdir(data_dir)\n",
    "print(list_files)\n",
    "    "
   ]
  },
  {
   "cell_type": "markdown",
   "id": "b0db35c7",
   "metadata": {},
   "source": [
    "#### Task 2\n",
    "##### Read in the `insurance.csv` file and name it as `ex_data`.\n",
    "#### Result:\n"
   ]
  },
  {
   "cell_type": "code",
   "execution_count": 3,
   "id": "c49e4f50",
   "metadata": {},
   "outputs": [],
   "source": [
    "file_name = 'insurance.csv'\n",
    "try:\n",
    "    ex_data = pd.read_csv(data_dir + file_name)\n",
    "except:\n",
    "    print('no file or wrong directory')\n",
    "    "
   ]
  },
  {
   "cell_type": "markdown",
   "id": "db8a645f",
   "metadata": {},
   "source": [
    "#### Task 3\n",
    "##### Create a subset of `charges` and ['age', 'bmi'] from ex_data and save as `ex_regression`.\n",
    "##### Print the head of `ex_regression`.\n",
    "##### Print the summary statistics of `ex_regression`.\n",
    "#### Result:\n"
   ]
  },
  {
   "cell_type": "code",
   "execution_count": 4,
   "id": "b4c1baf1",
   "metadata": {},
   "outputs": [],
   "source": [
    "ex_data.head()\n",
    "columns = ['age','bmi','charges']"
   ]
  },
  {
   "cell_type": "code",
   "execution_count": 5,
   "id": "61e53194-5355-46f8-9059-27e761dac51d",
   "metadata": {},
   "outputs": [],
   "source": [
    "ex_regression = ex_data[columns]"
   ]
  },
  {
   "cell_type": "markdown",
   "id": "efc5b799",
   "metadata": {},
   "source": [
    "#### Task 4\n",
    "##### Print the covariance of `ex_regression`.\n",
    "##### Print the correlation matrix of `ex_regression`. Save it to `ex_cor`.\n",
    "##### Create a correlation plot of `ex_regression` and print it.\n",
    "#### Result:\n"
   ]
  },
  {
   "cell_type": "code",
   "execution_count": 6,
   "id": "4533fb6c",
   "metadata": {},
   "outputs": [
    {
     "name": "stdout",
     "output_type": "stream",
     "text": [
      "covariance matrix:\n"
     ]
    },
    {
     "data": {
      "text/html": [
       "<div>\n",
       "<style scoped>\n",
       "    .dataframe tbody tr th:only-of-type {\n",
       "        vertical-align: middle;\n",
       "    }\n",
       "\n",
       "    .dataframe tbody tr th {\n",
       "        vertical-align: top;\n",
       "    }\n",
       "\n",
       "    .dataframe thead th {\n",
       "        text-align: right;\n",
       "    }\n",
       "</style>\n",
       "<table border=\"1\" class=\"dataframe\">\n",
       "  <thead>\n",
       "    <tr style=\"text-align: right;\">\n",
       "      <th></th>\n",
       "      <th>age</th>\n",
       "      <th>bmi</th>\n",
       "      <th>charges</th>\n",
       "    </tr>\n",
       "  </thead>\n",
       "  <tbody>\n",
       "    <tr>\n",
       "      <th>age</th>\n",
       "      <td>197.243282</td>\n",
       "      <td>9.368233</td>\n",
       "      <td>5.073683e+04</td>\n",
       "    </tr>\n",
       "    <tr>\n",
       "      <th>bmi</th>\n",
       "      <td>9.368233</td>\n",
       "      <td>37.215715</td>\n",
       "      <td>1.465763e+04</td>\n",
       "    </tr>\n",
       "    <tr>\n",
       "      <th>charges</th>\n",
       "      <td>50736.833698</td>\n",
       "      <td>14657.628526</td>\n",
       "      <td>1.466608e+08</td>\n",
       "    </tr>\n",
       "  </tbody>\n",
       "</table>\n",
       "</div>"
      ],
      "text/plain": [
       "                  age           bmi       charges\n",
       "age        197.243282      9.368233  5.073683e+04\n",
       "bmi          9.368233     37.215715  1.465763e+04\n",
       "charges  50736.833698  14657.628526  1.466608e+08"
      ]
     },
     "execution_count": 6,
     "metadata": {},
     "output_type": "execute_result"
    }
   ],
   "source": [
    "print('covariance matrix:')\n",
    "ex_regression.cov()"
   ]
  },
  {
   "cell_type": "code",
   "execution_count": 7,
   "id": "6b3633c0-d4f5-4a7e-b882-0885ce7f671c",
   "metadata": {},
   "outputs": [
    {
     "name": "stdout",
     "output_type": "stream",
     "text": [
      "correlation matrix:\n"
     ]
    },
    {
     "data": {
      "image/png": "[encoded data removed]",
      "text/plain": [
       "<Figure size 288x288 with 1 Axes>"
      ]
     },
     "metadata": {
      "needs_background": "light"
     },
     "output_type": "display_data"
    },
    {
     "data": {
      "text/html": [
       "<style type=\"text/css\">\n",
       "#T_1733e_row0_col0, #T_1733e_row1_col1, #T_1733e_row2_col2 {\n",
       "  background-color: #023858;\n",
       "  color: #f1f1f1;\n",
       "}\n",
       "#T_1733e_row0_col1, #T_1733e_row1_col0, #T_1733e_row1_col2 {\n",
       "  background-color: #fff7fb;\n",
       "  color: #000000;\n",
       "}\n",
       "#T_1733e_row0_col2 {\n",
       "  background-color: #ede7f2;\n",
       "  color: #000000;\n",
       "}\n",
       "#T_1733e_row2_col0 {\n",
       "  background-color: #d9d8ea;\n",
       "  color: #000000;\n",
       "}\n",
       "#T_1733e_row2_col1 {\n",
       "  background-color: #f0eaf4;\n",
       "  color: #000000;\n",
       "}\n",
       "</style>\n",
       "<table id=\"T_1733e_\">\n",
       "  <thead>\n",
       "    <tr>\n",
       "      <th class=\"blank level0\" >&nbsp;</th>\n",
       "      <th class=\"col_heading level0 col0\" >age</th>\n",
       "      <th class=\"col_heading level0 col1\" >bmi</th>\n",
       "      <th class=\"col_heading level0 col2\" >charges</th>\n",
       "    </tr>\n",
       "  </thead>\n",
       "  <tbody>\n",
       "    <tr>\n",
       "      <th id=\"T_1733e_level0_row0\" class=\"row_heading level0 row0\" >age</th>\n",
       "      <td id=\"T_1733e_row0_col0\" class=\"data row0 col0\" >1.000000</td>\n",
       "      <td id=\"T_1733e_row0_col1\" class=\"data row0 col1\" >0.109344</td>\n",
       "      <td id=\"T_1733e_row0_col2\" class=\"data row0 col2\" >0.298308</td>\n",
       "    </tr>\n",
       "    <tr>\n",
       "      <th id=\"T_1733e_level0_row1\" class=\"row_heading level0 row1\" >bmi</th>\n",
       "      <td id=\"T_1733e_row1_col0\" class=\"data row1 col0\" >0.109344</td>\n",
       "      <td id=\"T_1733e_row1_col1\" class=\"data row1 col1\" >1.000000</td>\n",
       "      <td id=\"T_1733e_row1_col2\" class=\"data row1 col2\" >0.198401</td>\n",
       "    </tr>\n",
       "    <tr>\n",
       "      <th id=\"T_1733e_level0_row2\" class=\"row_heading level0 row2\" >charges</th>\n",
       "      <td id=\"T_1733e_row2_col0\" class=\"data row2 col0\" >0.298308</td>\n",
       "      <td id=\"T_1733e_row2_col1\" class=\"data row2 col1\" >0.198401</td>\n",
       "      <td id=\"T_1733e_row2_col2\" class=\"data row2 col2\" >1.000000</td>\n",
       "    </tr>\n",
       "  </tbody>\n",
       "</table>\n"
      ],
      "text/plain": [
       "<pandas.io.formats.style.Styler at 0x7f698d4456d0>"
      ]
     },
     "execution_count": 7,
     "metadata": {},
     "output_type": "execute_result"
    }
   ],
   "source": [
    "print('correlation matrix:')\n",
    "ex_corr = ex_regression.corr()\n",
    "plt.matshow(ex_corr)\n",
    "plt.show()\n",
    "\n",
    "ex_corr.style.background_gradient()\n"
   ]
  },
  {
   "cell_type": "markdown",
   "id": "6893a10b",
   "metadata": {},
   "source": [
    "#### Task 5\n",
    "##### Check the number of NAs in each column.\n",
    "##### Substitute the NAs with the mean value in each of the respective columns.\n",
    "##### Check each column again to confirm that there are no null values.\n",
    "#### Result:\n"
   ]
  },
  {
   "cell_type": "code",
   "execution_count": 8,
   "id": "ebbf41f9",
   "metadata": {},
   "outputs": [],
   "source": [
    "for x in ex_regression:\n",
    "    ex_regression[x].fillna(ex_regression[x].mean())"
   ]
  },
  {
   "cell_type": "markdown",
   "id": "8c2bce79",
   "metadata": {},
   "source": [
    "#### Task 6\n",
    "##### Create a scatter plot matrix of the variables in `ex_regression`.\n"
   ]
  },
  {
   "cell_type": "markdown",
   "id": "f77d96d3",
   "metadata": {},
   "source": [
    "#### Result:\n"
   ]
  },
  {
   "cell_type": "code",
   "execution_count": 9,
   "id": "4e2938ac",
   "metadata": {},
   "outputs": [
    {
     "data": {
      "image/png": "[encoded data removed]",
      "text/plain": [
       "<Figure size 432x288 with 9 Axes>"
      ]
     },
     "metadata": {
      "needs_background": "light"
     },
     "output_type": "display_data"
    }
   ],
   "source": [
    "scatter_matrix(ex_regression)\n",
    "\n",
    "plt.show()"
   ]
  },
  {
   "cell_type": "markdown",
   "id": "746ca7ff",
   "metadata": {},
   "source": [
    "#### Task 7\n",
    "##### Check the variables for zero variance using the `VarianceThreshold` function.\n",
    "##### Instantiate the function and save it to `selector`.\n",
    "##### Save the cleaned dataset to `ex_regression_clean`.\n",
    "##### Print the shape of the new dataset.\n",
    "##### What is the number of columns in the new dataset? \n",
    "#### Result:\n"
   ]
  },
  {
   "cell_type": "code",
   "execution_count": 10,
   "id": "7305338f",
   "metadata": {},
   "outputs": [],
   "source": [
    "selector = VarianceThreshold()"
   ]
  },
  {
   "cell_type": "code",
   "execution_count": 11,
   "id": "14376971-dcf6-45a2-adfa-57a6c118db93",
   "metadata": {},
   "outputs": [],
   "source": [
    "ex_regression_clean = selector.fit_transform(ex_regression)"
   ]
  },
  {
   "cell_type": "code",
   "execution_count": 12,
   "id": "6fe720a3-273f-4e4b-98c0-6398852c2b2a",
   "metadata": {},
   "outputs": [
    {
     "data": {
      "text/plain": [
       "(1337, 3)"
      ]
     },
     "execution_count": 12,
     "metadata": {},
     "output_type": "execute_result"
    }
   ],
   "source": [
    "ex_regression.shape"
   ]
  },
  {
   "cell_type": "code",
   "execution_count": 13,
   "id": "762c5ef4-2ec3-4aa7-b0e5-332c4898643b",
   "metadata": {},
   "outputs": [
    {
     "data": {
      "text/plain": [
       "(1337, 3)"
      ]
     },
     "execution_count": 13,
     "metadata": {},
     "output_type": "execute_result"
    }
   ],
   "source": [
    "ex_regression_clean.shape"
   ]
  },
  {
   "cell_type": "code",
   "execution_count": 14,
   "id": "ea35555a-85a1-4a79-a7d6-c1eeec75540c",
   "metadata": {},
   "outputs": [
    {
     "name": "stdout",
     "output_type": "stream",
     "text": [
      "Column count has not changed\n"
     ]
    }
   ],
   "source": [
    "if (ex_regression.shape[1] == ex_regression_clean.shape[1]):\n",
    "    print('Column count has not changed')\n",
    "else:\n",
    "    print('Column count has changed')"
   ]
  },
  {
   "cell_type": "markdown",
   "id": "fda7f2dc",
   "metadata": {},
   "source": [
    "#### Task 8\n",
    "##### Split our dataset `ex_regression` for modeling into `ex_X` and `ex_y` variables.\n",
    "##### Save the predictors into `ex_X`. Add a constant to `ex_X`.\n",
    "##### Save the target variable `charges` into `ex_y`.\n",
    "#### Result:\n"
   ]
  },
  {
   "cell_type": "code",
   "execution_count": 15,
   "id": "acaf9cc6",
   "metadata": {},
   "outputs": [],
   "source": [
    "predictors = ['age','bmi']\n",
    "target = 'charges'\n",
    "ex_regression_clean = pd.DataFrame(ex_regression_clean, columns = columns)\n",
    "\n",
    "\n",
    "ex_x = ex_regression_clean[predictors]\n",
    "ex_x = sm.add_constant(ex_x)\n",
    "ex_y = ex_regression_clean[target]"
   ]
  },
  {
   "cell_type": "markdown",
   "id": "62f65ca9",
   "metadata": {},
   "source": [
    "#### Please refer to module 2 of MultipleRegression - MultipleLinear for Task 9-14\n",
    "#### Task 9\n",
    "##### Set the random seed to `1`.\n",
    "##### Split 70% of `ex_regression` dataset to the train set and the remaining 30% to the test set. \n",
    "##### Split the sets into `ex_X` and `ex_y` as `ex_X_train`, `ex_X_test`, `ex_y_train` and `ex_y_test` respectively.\n",
    "##### Check the shape of the train set and test set to see if they've split correctly.\n",
    "#### Result:\n"
   ]
  },
  {
   "cell_type": "code",
   "execution_count": 16,
   "id": "4af52a67",
   "metadata": {},
   "outputs": [
    {
     "name": "stdout",
     "output_type": "stream",
     "text": [
      "(935, 3)\n",
      "(935,)\n",
      "(402, 3)\n",
      "(402,)\n"
     ]
    }
   ],
   "source": [
    "np.random.seed(1)\n",
    "ex_x_train, ex_x_test, ex_y_train, ex_y_test = train_test_split(ex_x, ex_y, test_size = 0.3)\n",
    "print(ex_x_train.shape)\n",
    "print(ex_y_train.shape)\n",
    "\n",
    "\n",
    "print(ex_x_test.shape)\n",
    "print(ex_y_test.shape)\n"
   ]
  },
  {
   "cell_type": "markdown",
   "id": "589366ae",
   "metadata": {},
   "source": [
    "#### Task 10\n",
    "##### Use `sm.OLS()` function to run multiple linear regression on our training data, `ex_y_train` and `ex_X_train`. \n",
    "##### Save the model to `ex_model_m` and view its summary.\n",
    "#### Result:\n"
   ]
  },
  {
   "cell_type": "code",
   "execution_count": 17,
   "id": "088fc47d",
   "metadata": {},
   "outputs": [
    {
     "name": "stdout",
     "output_type": "stream",
     "text": [
      "                            OLS Regression Results                            \n",
      "==============================================================================\n",
      "Dep. Variable:                charges   R-squared:                       0.119\n",
      "Model:                            OLS   Adj. R-squared:                  0.117\n",
      "Method:                 Least Squares   F-statistic:                     63.01\n",
      "Date:                Fri, 05 Aug 2022   Prob (F-statistic):           2.16e-26\n",
      "Time:                        02:07:10   Log-Likelihood:                -10060.\n",
      "No. Observations:                 935   AIC:                         2.013e+04\n",
      "Df Residuals:                     932   BIC:                         2.014e+04\n",
      "Df Model:                           2                                         \n",
      "Covariance Type:            nonrobust                                         \n",
      "==============================================================================\n",
      "                 coef    std err          t      P>|t|      [0.025      0.975]\n",
      "------------------------------------------------------------------------------\n",
      "const      -7019.2682   2091.280     -3.356      0.001   -1.11e+04   -2915.106\n",
      "age          230.3677     26.705      8.626      0.000     177.958     282.777\n",
      "bmi          377.4248     62.140      6.074      0.000     255.475     499.375\n",
      "==============================================================================\n",
      "Omnibus:                      192.202   Durbin-Watson:                   2.110\n",
      "Prob(Omnibus):                  0.000   Jarque-Bera (JB):              319.535\n",
      "Skew:                           1.375   Prob(JB):                     4.11e-70\n",
      "Kurtosis:                       3.798   Cond. No.                         287.\n",
      "==============================================================================\n",
      "\n",
      "Notes:\n",
      "[1] Standard Errors assume that the covariance matrix of the errors is correctly specified.\n"
     ]
    }
   ],
   "source": [
    "ex_model_m = sm.OLS(ex_y_train,ex_x_train).fit()\n",
    "print(ex_model_m.summary())"
   ]
  },
  {
   "cell_type": "markdown",
   "id": "06546366",
   "metadata": {},
   "source": [
    "#### Task 11\n",
    "##### Save the fitted values into `ex_fitted_m` and the residuals into `ex_residuals_m` from our model `ex_model`.\n",
    "##### Save the normalized results to ` ex_model_m_norm_residuals` and the absolute squared residuals to ` ex_model_m_norm_residuals_abs_sqrt`.\n",
    "##### Derive the absolute residuals to `ex_model_m_abs_resid`.\n",
    "##### Combine `ex_X_train` and `ex_y_train` into one DataFrame named `ex_frames` for plotting.\n",
    "##### Concatenate by columns and save to `ex_training`.\n",
    "#### Result:\n"
   ]
  },
  {
   "cell_type": "code",
   "execution_count": 18,
   "id": "208eac3a",
   "metadata": {},
   "outputs": [],
   "source": [
    "ex_fitted_m = ex_model_m.fittedvalues\n",
    "ex_residuals_m = ex_model_m.resid\n",
    "\n",
    "ex_model_m_norm_residuals = ex_model_m.get_influence().resid_studentized_internal\n",
    "\n",
    "#print(ex_model_m_norm_residuals)\n",
    "ex_model_m_norm_residuals_abs_sqrt = np.sqrt(np.abs(ex_model_m_norm_residuals))\n",
    "#print(ex_model_m_norm_residuals_abs_sqrt)\n",
    "\n",
    "model_m_abs_resid = np.abs(ex_residuals_m)\n",
    "\n",
    "ex_trining = pd.concat([ex_x_train,ex_y_train], axis = 1)\n"
   ]
  },
  {
   "cell_type": "markdown",
   "id": "effa57d8",
   "metadata": {},
   "source": [
    "#### Task 12\n",
    "##### Test the assumption that the relationship between the predictor and target variable is linear.\n",
    "##### Does our model satisfy this assumption?\n",
    "#### Result:\n"
   ]
  },
  {
   "cell_type": "code",
   "execution_count": 19,
   "id": "727c9dce",
   "metadata": {},
   "outputs": [
    {
     "name": "stderr",
     "output_type": "stream",
     "text": [
      "/opt/conda/lib/python3.7/site-packages/seaborn/_decorators.py:43: FutureWarning: Pass the following variables as keyword args: x, y. From version 0.12, the only valid positional argument will be `data`, and passing other arguments without an explicit keyword will result in an error or misinterpretation.\n",
      "  FutureWarning\n"
     ]
    },
    {
     "data": {
      "text/plain": [
       "<AxesSubplot:ylabel='charges'>"
      ]
     },
     "execution_count": 19,
     "metadata": {},
     "output_type": "execute_result"
    },
    {
     "data": {
      "image/png": "[encoded data removed]",
      "text/plain": [
       "<Figure size 432x288 with 1 Axes>"
      ]
     },
     "metadata": {
      "needs_background": "light"
     },
     "output_type": "display_data"
    }
   ],
   "source": [
    "import seaborn as sns\n",
    "sns.residplot(ex_fitted_m, \"charges\", data = ex_trining, \n",
    "                          lowess = True, \n",
    "                          scatter_kws = {'alpha': 0.5}, \n",
    "                          line_kws = {'color': 'red', 'lw': 1, 'alpha': 0.8})"
   ]
  },
  {
   "cell_type": "markdown",
   "id": "3781b9ce-dafc-479b-bfa1-85b9c801e18e",
   "metadata": {},
   "source": [
    "We want all points to be scattered about the solid red line, which is not the case. Also there are three groups"
   ]
  },
  {
   "cell_type": "markdown",
   "id": "34695ed8",
   "metadata": {},
   "source": [
    "#### Task 13\n",
    "##### Test the assumption that the residuals are normally distributed.\n",
    "##### Does our model satisfy the assumption?\n",
    "#### Result:\n"
   ]
  },
  {
   "cell_type": "code",
   "execution_count": 20,
   "id": "413d6cdb",
   "metadata": {},
   "outputs": [
    {
     "data": {
      "image/png": "[encoded data removed]",
      "text/plain": [
       "<Figure size 432x288 with 1 Axes>"
      ]
     },
     "execution_count": 20,
     "metadata": {},
     "output_type": "execute_result"
    },
    {
     "data": {
      "image/png": "[encoded data removed]",
      "text/plain": [
       "<Figure size 432x288 with 1 Axes>"
      ]
     },
     "metadata": {
      "needs_background": "light"
     },
     "output_type": "display_data"
    }
   ],
   "source": [
    "from statsmodels.graphics.gofplots import ProbPlot\n",
    "\n",
    "QQ = ProbPlot(ex_model_m_norm_residuals)\n",
    "QQ.qqplot(line = 's', alpha = 0.5, color = '#4C72B0', lw = 1)\n"
   ]
  },
  {
   "cell_type": "markdown",
   "id": "3b43a728",
   "metadata": {},
   "source": [
    "#### Task 14\n",
    "##### Test the assumption that the residuals have equal variance.\n",
    "##### Does our model satisfy the assumption?\n",
    "#### Result:\n"
   ]
  },
  {
   "cell_type": "markdown",
   "id": "e7ef0741-8836-47ba-bc7a-20e11f69d210",
   "metadata": {},
   "source": [
    "No, the residuals should conform to the line, which is not the case"
   ]
  },
  {
   "cell_type": "markdown",
   "id": "fdbb3854",
   "metadata": {},
   "source": [
    "#### Please refer to module 3 of MultipleRegression - MultipleLinear for Task 15-22\n",
    "#### Task 15\n",
    "##### Test the model `ex_model_m` for outliers using the `statsmodel.outlier_test()` function.\n",
    "##### Save it to `ex_test_m`.\n",
    "#### Result:\n"
   ]
  },
  {
   "cell_type": "code",
   "execution_count": 21,
   "id": "99cecc99",
   "metadata": {},
   "outputs": [
    {
     "name": "stdout",
     "output_type": "stream",
     "text": [
      "      student_resid   unadj_p  bonf(p)\n",
      "520       -1.147993  0.251266      1.0\n",
      "575       -0.571593  0.567736      1.0\n",
      "769        0.639530  0.522636      1.0\n",
      "314       -0.683024  0.494761      1.0\n",
      "426       -0.071192  0.943260      1.0\n",
      "...             ...       ...      ...\n",
      "715       -0.283985  0.776485      1.0\n",
      "905       -0.583479  0.559712      1.0\n",
      "1096      -0.800488  0.423632      1.0\n",
      "235       -0.491589  0.623126      1.0\n",
      "1061       2.368045  0.018086      1.0\n",
      "\n",
      "[935 rows x 3 columns]\n",
      "(935, 3)\n",
      "Int64Index([], dtype='int64')\n"
     ]
    }
   ],
   "source": [
    "ex_test_m = ex_model_m.outlier_test()\n",
    "print(ex_test_m)\n",
    "\n",
    "filtered_out_outliers_ex_test_m_index = ex_test_m[ex_test_m['bonf(p)']<0.05].index\n",
    "#ex_test_m_drop = ex_test_m.drop(filtered_out_outliers_ex_test_m)\n",
    "\n",
    "print(ex_test_m.shape)\n",
    "print(filtered_out_outliers_ex_test_m_index)"
   ]
  },
  {
   "cell_type": "markdown",
   "id": "20a49ea2",
   "metadata": {},
   "source": [
    "#### Task 16\n",
    "##### Remove the outliers from our original train set `ex_X_train` and `ex_y_train`. Save them as `ex_X_train_no_outliers` and `ex_y_train_no_outliers`.\n",
    "##### Print the shape of the new DataFrame. Is there any change in the DataFrame?\n",
    "#### Result:\n"
   ]
  },
  {
   "cell_type": "code",
   "execution_count": 22,
   "id": "347ff89e",
   "metadata": {},
   "outputs": [],
   "source": [
    "# This was done above, there are no columns dropped\n",
    "\n",
    "ex_x_train_no_outliers = ex_x_train.drop(filtered_out_outliers_ex_test_m_index)\n",
    "ex_y_train_no_outliers = ex_y_train.drop(filtered_out_outliers_ex_test_m_index)"
   ]
  },
  {
   "cell_type": "markdown",
   "id": "320ac38b",
   "metadata": {},
   "source": [
    "#### Task 17\n",
    "##### Rerun the multiple linear regression on our new DataFrames, `ex_y_train_no_outliers` and `ex_X_train_no_outliers`.\n",
    "##### Save it as `ex_model_m_no_outliers` and print its summary.\n",
    "#### Result:\n"
   ]
  },
  {
   "cell_type": "code",
   "execution_count": 23,
   "id": "d7249d37",
   "metadata": {},
   "outputs": [],
   "source": [
    "y = ex_y_train_no_outliers\n",
    "x = ex_x_train_no_outliers\n",
    "ex_model_m_no_outliers = sm.OLS(y,x).fit()"
   ]
  },
  {
   "cell_type": "markdown",
   "id": "2b6bad36",
   "metadata": {},
   "source": [
    "#### Task 18\n",
    "##### Derive the fitted values and the residuals. Save them as `ex_fitted_m_no_outliers` and `ex_residuals_m_no_outliers`.\n",
    "#### Result:\n"
   ]
  },
  {
   "cell_type": "code",
   "execution_count": 24,
   "id": "cebc15f6",
   "metadata": {},
   "outputs": [],
   "source": [
    "ex_fitted_m_no_outliers = ex_model_m_no_outliers.fittedvalues\n",
    "ex_residuals_m_no_outliers = ex_model_m_no_outliers.resid"
   ]
  },
  {
   "cell_type": "markdown",
   "id": "022d886f",
   "metadata": {},
   "source": [
    "#### Task 19\n",
    "##### Test the model using Variance Inflation Factor(VIF) to check for collinearity.\n",
    "##### Is there any feature that is highly collinear?\n",
    "#### Result:\n"
   ]
  },
  {
   "cell_type": "code",
   "execution_count": 25,
   "id": "fd86e2da",
   "metadata": {},
   "outputs": [
    {
     "name": "stdout",
     "output_type": "stream",
     "text": [
      "   VIF Factor features\n",
      "0   31.417838    const\n",
      "1    1.015198      age\n",
      "2    1.015198      bmi\n"
     ]
    }
   ],
   "source": [
    "\n",
    "vif = pd.DataFrame()\n",
    "vif[\"VIF Factor\"] = [variance_inflation_factor(ex_x_train_no_outliers.values, i) for i in range(ex_x_train_no_outliers.shape[1])]\n",
    "vif[\"features\"] = ex_x_train_no_outliers.columns\n",
    "print(vif)\n",
    "\n"
   ]
  },
  {
   "cell_type": "markdown",
   "id": "1bcc1ee9",
   "metadata": {},
   "source": [
    "#### Task 20\n",
    "##### Predict `charges` using the test data `ex_X_test`.\n",
    "##### Save it as `ex_prediction`.\n",
    "#### Result:\n"
   ]
  },
  {
   "cell_type": "code",
   "execution_count": 26,
   "id": "1af87a8e",
   "metadata": {},
   "outputs": [],
   "source": [
    "\n",
    "ex_prediction = ex_model_m_no_outliers.predict(ex_x_test)\n",
    "\n"
   ]
  },
  {
   "cell_type": "markdown",
   "id": "cd2a6c2b",
   "metadata": {},
   "source": [
    "#### Task 21\n",
    "##### Create a DataFrame named `ex_results` with the columns containing:\n",
    "##### - `actual` using `ex_y_test[\"charges\"]`\n",
    "##### - `predicted` using `ex_model_m_no_outliers.predict(ex_X_test)` \n",
    "##### - `residuals` which is `actual` - `predicted`\n",
    "##### Print the head of the new DataFrame.\n",
    "#### Result:\n"
   ]
  },
  {
   "cell_type": "code",
   "execution_count": 33,
   "id": "8c6022bf",
   "metadata": {},
   "outputs": [
    {
     "data": {
      "text/html": [
       "<div>\n",
       "<style scoped>\n",
       "    .dataframe tbody tr th:only-of-type {\n",
       "        vertical-align: middle;\n",
       "    }\n",
       "\n",
       "    .dataframe tbody tr th {\n",
       "        vertical-align: top;\n",
       "    }\n",
       "\n",
       "    .dataframe thead th {\n",
       "        text-align: right;\n",
       "    }\n",
       "</style>\n",
       "<table border=\"1\" class=\"dataframe\">\n",
       "  <thead>\n",
       "    <tr style=\"text-align: right;\">\n",
       "      <th></th>\n",
       "      <th>actual</th>\n",
       "      <th>predicted</th>\n",
       "      <th>residuals</th>\n",
       "    </tr>\n",
       "  </thead>\n",
       "  <tbody>\n",
       "    <tr>\n",
       "      <th>0</th>\n",
       "      <td>42983.4585</td>\n",
       "      <td>17817.610088</td>\n",
       "      <td>25165.848412</td>\n",
       "    </tr>\n",
       "    <tr>\n",
       "      <th>1</th>\n",
       "      <td>11353.2276</td>\n",
       "      <td>18015.672534</td>\n",
       "      <td>-6662.444934</td>\n",
       "    </tr>\n",
       "    <tr>\n",
       "      <th>2</th>\n",
       "      <td>9625.9200</td>\n",
       "      <td>16735.509401</td>\n",
       "      <td>-7109.589401</td>\n",
       "    </tr>\n",
       "    <tr>\n",
       "      <th>3</th>\n",
       "      <td>5662.2250</td>\n",
       "      <td>17741.432225</td>\n",
       "      <td>-12079.207225</td>\n",
       "    </tr>\n",
       "    <tr>\n",
       "      <th>4</th>\n",
       "      <td>5709.1644</td>\n",
       "      <td>17620.933431</td>\n",
       "      <td>-11911.769031</td>\n",
       "    </tr>\n",
       "    <tr>\n",
       "      <th>...</th>\n",
       "      <td>...</td>\n",
       "      <td>...</td>\n",
       "      <td>...</td>\n",
       "    </tr>\n",
       "    <tr>\n",
       "      <th>397</th>\n",
       "      <td>6250.4350</td>\n",
       "      <td>11642.800976</td>\n",
       "      <td>-5392.365976</td>\n",
       "    </tr>\n",
       "    <tr>\n",
       "      <th>398</th>\n",
       "      <td>6849.0260</td>\n",
       "      <td>14247.032436</td>\n",
       "      <td>-7398.006436</td>\n",
       "    </tr>\n",
       "    <tr>\n",
       "      <th>399</th>\n",
       "      <td>10065.4130</td>\n",
       "      <td>13267.113615</td>\n",
       "      <td>-3201.700615</td>\n",
       "    </tr>\n",
       "    <tr>\n",
       "      <th>400</th>\n",
       "      <td>3180.5101</td>\n",
       "      <td>6080.284213</td>\n",
       "      <td>-2899.774113</td>\n",
       "    </tr>\n",
       "    <tr>\n",
       "      <th>401</th>\n",
       "      <td>2721.3208</td>\n",
       "      <td>8636.004758</td>\n",
       "      <td>-5914.683958</td>\n",
       "    </tr>\n",
       "  </tbody>\n",
       "</table>\n",
       "<p>402 rows × 3 columns</p>\n",
       "</div>"
      ],
      "text/plain": [
       "         actual     predicted     residuals\n",
       "0    42983.4585  17817.610088  25165.848412\n",
       "1    11353.2276  18015.672534  -6662.444934\n",
       "2     9625.9200  16735.509401  -7109.589401\n",
       "3     5662.2250  17741.432225 -12079.207225\n",
       "4     5709.1644  17620.933431 -11911.769031\n",
       "..          ...           ...           ...\n",
       "397   6250.4350  11642.800976  -5392.365976\n",
       "398   6849.0260  14247.032436  -7398.006436\n",
       "399  10065.4130  13267.113615  -3201.700615\n",
       "400   3180.5101   6080.284213  -2899.774113\n",
       "401   2721.3208   8636.004758  -5914.683958\n",
       "\n",
       "[402 rows x 3 columns]"
      ]
     },
     "execution_count": 33,
     "metadata": {},
     "output_type": "execute_result"
    }
   ],
   "source": [
    "actual = np.array(ex_y_test)\n",
    "predicted = np.array(ex_prediction)\n",
    "residuals = actual - predicted\n",
    "\n",
    "ex_results = pd.DataFrame({'actual':actual, 'predicted':predicted,'residuals':residuals})\n",
    "\n",
    "ex_results"
   ]
  },
  {
   "cell_type": "markdown",
   "id": "e391638c",
   "metadata": {},
   "source": [
    "#### Task 22\n",
    "##### Calculate the RMSE using `actual` and `predicted` and print it.\n",
    "#### Result:\n"
   ]
  },
  {
   "cell_type": "code",
   "execution_count": 34,
   "id": "055db592-c50e-4f87-b9aa-3562a18660fe",
   "metadata": {},
   "outputs": [
    {
     "name": "stdout",
     "output_type": "stream",
     "text": [
      "11372.765079395042\n"
     ]
    }
   ],
   "source": [
    "def rmse(predictions,actual):\n",
    "    return np.sqrt(((predictions-actual) ** 2).mean())\n",
    "\n",
    "print(rmse(predicted,actual))\n",
    "\n",
    "\n",
    "\n",
    "\n"
   ]
  }
 ],
 "metadata": {
  "kernelspec": {
   "display_name": "Python 3",
   "language": "python",
   "name": "python3"
  },
  "language": "python",
  "language_info": {
   "codemirror_mode": {
    "name": "ipython",
    "version": 3
   },
   "file_extension": ".py",
   "mimetype": "text/x-python",
   "name": "python",
   "nbconvert_exporter": "python",
   "pygments_lexer": "ipython3",
   "version": "3.7.12"
  }
 },
 "nbformat": 4,
 "nbformat_minor": 5
}
