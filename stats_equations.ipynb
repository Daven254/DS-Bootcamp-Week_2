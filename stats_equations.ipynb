{
 "cells": [
  {
   "cell_type": "markdown",
   "id": "0f7480cb-bb6d-42eb-a583-01e78c050260",
   "metadata": {},
   "source": [
    "## Important Formulas/Equations"
   ]
  },
  {
   "cell_type": "markdown",
   "id": "d60d5a77-797d-4c35-9487-bf60caaddc03",
   "metadata": {},
   "source": [
    "### Summary Statistics on datasets"
   ]
  },
  {
   "cell_type": "markdown",
   "id": "fc0f5895-bd93-44b6-917c-6b0272e7d3db",
   "metadata": {},
   "source": [
    "Population Variance :\n",
    "$σ^2 = 1/n * Σ(x_i - \\bar{x})^2$"
   ]
  },
  {
   "cell_type": "markdown",
   "id": "2790fe0d-2b50-4bae-bd76-bde8b07a6231",
   "metadata": {},
   "source": [
    "        pd['col'].var()\n",
    "        np.var(arr[])\n",
    "        \n",
    "       \n"
   ]
  },
  {
   "cell_type": "markdown",
   "id": "c042a149-2999-4710-865e-93de572cde75",
   "metadata": {},
   "source": [
    "Sample Variance :\n",
    "$S^2 = 1/(n-1) * Σ(x_i - \\bar{x})^2$\n",
    "\n",
    "\n",
    "        "
   ]
  },
  {
   "cell_type": "markdown",
   "id": "98795f6e-7b96-4094-8ed0-777504dfd33d",
   "metadata": {},
   "source": [
    "        pd['col'].var(ddof = 1)\n",
    "        np.var(arr[],ddof = 1)\n",
    "        \n",
    "        \n",
    "        \n",
    "\n"
   ]
  },
  {
   "cell_type": "markdown",
   "id": "f756a6f8-68d4-4ca7-8c5f-6caaad86ec91",
   "metadata": {},
   "source": [
    "Population Standard Deviation :\n",
    "$σ^2 = 1/n * Σ(x_i - \\bar{x})^2$\n",
    "\n",
    "\n",
    "            "
   ]
  },
  {
   "cell_type": "markdown",
   "id": "3fd9b4ac-6200-41ac-b529-c4215ee0458c",
   "metadata": {},
   "source": [
    "        pd['col'].std()\n",
    "        np.std(arr[])\n",
    "        \n",
    "        \n",
    "\n"
   ]
  },
  {
   "cell_type": "markdown",
   "id": "eb09f428-9dca-4acc-b449-dd6240b8087e",
   "metadata": {},
   "source": [
    "Sample Variance :\n",
    "$S^2 = 1/(n-1) * Σ(x_i - \\bar{x})^2$\n",
    "\n",
    "\n",
    "        "
   ]
  },
  {
   "cell_type": "markdown",
   "id": "94dbfeb7-b55e-4921-a00d-039b4ba40f7a",
   "metadata": {},
   "source": [
    "        pd['col'].std(ddof = 1)\n",
    "        np.std(arr[], ddof = 1)"
   ]
  },
  {
   "cell_type": "markdown",
   "id": "77867e7d-21b2-440a-bae5-396f481a713b",
   "metadata": {},
   "source": [
    "## Understanding data"
   ]
  },
  {
   "cell_type": "markdown",
   "id": "b45bd13b-4f4d-4e0c-a4da-6938eed91917",
   "metadata": {},
   "source": [
    "$Confidence Interval = point estimate ± margin of error$\n"
   ]
  },
  {
   "cell_type": "code",
   "execution_count": null,
   "id": "d7b3b64e-3a94-41e3-9a3f-952880554605",
   "metadata": {},
   "outputs": [],
   "source": []
  }
 ],
 "metadata": {
  "kernelspec": {
   "display_name": "Python 3",
   "language": "python",
   "name": "python3"
  },
  "language_info": {
   "codemirror_mode": {
    "name": "ipython",
    "version": 3
   },
   "file_extension": ".py",
   "mimetype": "text/x-python",
   "name": "python",
   "nbconvert_exporter": "python",
   "pygments_lexer": "ipython3",
   "version": "3.7.12"
  }
 },
 "nbformat": 4,
 "nbformat_minor": 5
}
