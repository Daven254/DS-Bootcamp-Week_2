{
 "cells": [
  {
   "cell_type": "code",
   "execution_count": null,
   "metadata": {},
   "outputs": [],
   "source": []
  },
  {
   "cell_type": "markdown",
   "metadata": {},
   "source": [
    "#### Exercise ####\n"
   ]
  },
  {
   "cell_type": "markdown",
   "metadata": {},
   "source": [
    "#### Please refer to module 1 of Intro To Statistics - Hypothesis Testing for Tasks 1-7\n",
    "#### Task 1\n",
    "##### Review the tasks below and import the packages required to complete them.\n",
    "##### Set the working directory to data directory.\n",
    "##### Print the working directory.\n",
    "#### Result:\n"
   ]
  },
  {
   "cell_type": "code",
   "execution_count": 5,
   "metadata": {},
   "outputs": [],
   "source": [
    "import os\n",
    "from pathlib import Path as pth\n",
    "import pandas as pd\n",
    "\n",
    "cwd = os.getcwd()\n",
    "main_dir = pth(cwd).parent\n",
    "data_dir = pth(str(main_dir) + '/data')\n"
   ]
  },
  {
   "cell_type": "markdown",
   "metadata": {},
   "source": [
    "#### Task 2\n",
    "##### Load `ChemicalManufacturingProcess.csv` from the data folder as ex_data.\n",
    "##### The goal is to understand the relationship between two variables.\n",
    "##### Print the head() of data, shape, number of rows and number of columns.\n",
    "##### Subset the data to contain only numeric variables.\n",
    "##### Drop NaN values and reset index.\n"
   ]
  },
  {
   "cell_type": "markdown",
   "metadata": {},
   "source": [
    "#### Result:\n"
   ]
  },
  {
   "cell_type": "code",
   "execution_count": 6,
   "metadata": {},
   "outputs": [
    {
     "name": "stdout",
     "output_type": "stream",
     "text": [
      "(176, 59)\n"
     ]
    },
    {
     "data": {
      "text/html": [
       "<div>\n",
       "<style scoped>\n",
       "    .dataframe tbody tr th:only-of-type {\n",
       "        vertical-align: middle;\n",
       "    }\n",
       "\n",
       "    .dataframe tbody tr th {\n",
       "        vertical-align: top;\n",
       "    }\n",
       "\n",
       "    .dataframe thead th {\n",
       "        text-align: right;\n",
       "    }\n",
       "</style>\n",
       "<table border=\"1\" class=\"dataframe\">\n",
       "  <thead>\n",
       "    <tr style=\"text-align: right;\">\n",
       "      <th></th>\n",
       "      <th>Yield</th>\n",
       "      <th>BiologicalMaterial01</th>\n",
       "      <th>BiologicalMaterial02</th>\n",
       "      <th>BiologicalMaterial03</th>\n",
       "      <th>BiologicalMaterial04</th>\n",
       "      <th>BiologicalMaterial05</th>\n",
       "      <th>BiologicalMaterial06</th>\n",
       "      <th>BiologicalMaterial07</th>\n",
       "      <th>BiologicalMaterial08</th>\n",
       "      <th>BiologicalMaterial09</th>\n",
       "      <th>...</th>\n",
       "      <th>ManufacturingProcess36</th>\n",
       "      <th>ManufacturingProcess37</th>\n",
       "      <th>ManufacturingProcess38</th>\n",
       "      <th>ManufacturingProcess39</th>\n",
       "      <th>ManufacturingProcess40</th>\n",
       "      <th>ManufacturingProcess41</th>\n",
       "      <th>ManufacturingProcess42</th>\n",
       "      <th>ManufacturingProcess43</th>\n",
       "      <th>ManufacturingProcess44</th>\n",
       "      <th>ManufacturingProcess45</th>\n",
       "    </tr>\n",
       "    <tr>\n",
       "      <th>id</th>\n",
       "      <th></th>\n",
       "      <th></th>\n",
       "      <th></th>\n",
       "      <th></th>\n",
       "      <th></th>\n",
       "      <th></th>\n",
       "      <th></th>\n",
       "      <th></th>\n",
       "      <th></th>\n",
       "      <th></th>\n",
       "      <th></th>\n",
       "      <th></th>\n",
       "      <th></th>\n",
       "      <th></th>\n",
       "      <th></th>\n",
       "      <th></th>\n",
       "      <th></th>\n",
       "      <th></th>\n",
       "      <th></th>\n",
       "      <th></th>\n",
       "      <th></th>\n",
       "    </tr>\n",
       "  </thead>\n",
       "  <tbody>\n",
       "    <tr>\n",
       "      <th>1</th>\n",
       "      <td>38.00</td>\n",
       "      <td>6.25</td>\n",
       "      <td>49.58</td>\n",
       "      <td>56.97</td>\n",
       "      <td>12.74</td>\n",
       "      <td>19.51</td>\n",
       "      <td>43.73</td>\n",
       "      <td>100.0</td>\n",
       "      <td>16.66</td>\n",
       "      <td>11.44</td>\n",
       "      <td>...</td>\n",
       "      <td>0.019</td>\n",
       "      <td>0.5</td>\n",
       "      <td>3</td>\n",
       "      <td>7.2</td>\n",
       "      <td>NaN</td>\n",
       "      <td>NaN</td>\n",
       "      <td>11.6</td>\n",
       "      <td>3.0</td>\n",
       "      <td>1.8</td>\n",
       "      <td>2.4</td>\n",
       "    </tr>\n",
       "    <tr>\n",
       "      <th>2</th>\n",
       "      <td>42.44</td>\n",
       "      <td>8.01</td>\n",
       "      <td>60.97</td>\n",
       "      <td>67.48</td>\n",
       "      <td>14.65</td>\n",
       "      <td>19.36</td>\n",
       "      <td>53.14</td>\n",
       "      <td>100.0</td>\n",
       "      <td>19.04</td>\n",
       "      <td>12.55</td>\n",
       "      <td>...</td>\n",
       "      <td>0.019</td>\n",
       "      <td>2.0</td>\n",
       "      <td>2</td>\n",
       "      <td>7.2</td>\n",
       "      <td>0.1</td>\n",
       "      <td>0.15</td>\n",
       "      <td>11.1</td>\n",
       "      <td>0.9</td>\n",
       "      <td>1.9</td>\n",
       "      <td>2.2</td>\n",
       "    </tr>\n",
       "    <tr>\n",
       "      <th>3</th>\n",
       "      <td>42.03</td>\n",
       "      <td>8.01</td>\n",
       "      <td>60.97</td>\n",
       "      <td>67.48</td>\n",
       "      <td>14.65</td>\n",
       "      <td>19.36</td>\n",
       "      <td>53.14</td>\n",
       "      <td>100.0</td>\n",
       "      <td>19.04</td>\n",
       "      <td>12.55</td>\n",
       "      <td>...</td>\n",
       "      <td>0.018</td>\n",
       "      <td>0.7</td>\n",
       "      <td>2</td>\n",
       "      <td>7.2</td>\n",
       "      <td>0.0</td>\n",
       "      <td>0.00</td>\n",
       "      <td>12.0</td>\n",
       "      <td>1.0</td>\n",
       "      <td>1.8</td>\n",
       "      <td>2.3</td>\n",
       "    </tr>\n",
       "    <tr>\n",
       "      <th>4</th>\n",
       "      <td>41.42</td>\n",
       "      <td>8.01</td>\n",
       "      <td>60.97</td>\n",
       "      <td>67.48</td>\n",
       "      <td>14.65</td>\n",
       "      <td>19.36</td>\n",
       "      <td>53.14</td>\n",
       "      <td>100.0</td>\n",
       "      <td>19.04</td>\n",
       "      <td>12.55</td>\n",
       "      <td>...</td>\n",
       "      <td>0.018</td>\n",
       "      <td>1.2</td>\n",
       "      <td>2</td>\n",
       "      <td>7.2</td>\n",
       "      <td>0.0</td>\n",
       "      <td>0.00</td>\n",
       "      <td>10.6</td>\n",
       "      <td>1.1</td>\n",
       "      <td>1.8</td>\n",
       "      <td>2.1</td>\n",
       "    </tr>\n",
       "    <tr>\n",
       "      <th>5</th>\n",
       "      <td>42.49</td>\n",
       "      <td>7.47</td>\n",
       "      <td>63.33</td>\n",
       "      <td>72.25</td>\n",
       "      <td>14.02</td>\n",
       "      <td>17.91</td>\n",
       "      <td>54.66</td>\n",
       "      <td>100.0</td>\n",
       "      <td>18.22</td>\n",
       "      <td>12.80</td>\n",
       "      <td>...</td>\n",
       "      <td>0.017</td>\n",
       "      <td>0.2</td>\n",
       "      <td>2</td>\n",
       "      <td>7.3</td>\n",
       "      <td>0.0</td>\n",
       "      <td>0.00</td>\n",
       "      <td>11.0</td>\n",
       "      <td>1.1</td>\n",
       "      <td>1.7</td>\n",
       "      <td>2.1</td>\n",
       "    </tr>\n",
       "    <tr>\n",
       "      <th>...</th>\n",
       "      <td>...</td>\n",
       "      <td>...</td>\n",
       "      <td>...</td>\n",
       "      <td>...</td>\n",
       "      <td>...</td>\n",
       "      <td>...</td>\n",
       "      <td>...</td>\n",
       "      <td>...</td>\n",
       "      <td>...</td>\n",
       "      <td>...</td>\n",
       "      <td>...</td>\n",
       "      <td>...</td>\n",
       "      <td>...</td>\n",
       "      <td>...</td>\n",
       "      <td>...</td>\n",
       "      <td>...</td>\n",
       "      <td>...</td>\n",
       "      <td>...</td>\n",
       "      <td>...</td>\n",
       "      <td>...</td>\n",
       "      <td>...</td>\n",
       "    </tr>\n",
       "    <tr>\n",
       "      <th>172</th>\n",
       "      <td>39.66</td>\n",
       "      <td>6.71</td>\n",
       "      <td>56.32</td>\n",
       "      <td>66.19</td>\n",
       "      <td>12.35</td>\n",
       "      <td>20.02</td>\n",
       "      <td>50.26</td>\n",
       "      <td>100.0</td>\n",
       "      <td>17.54</td>\n",
       "      <td>12.50</td>\n",
       "      <td>...</td>\n",
       "      <td>NaN</td>\n",
       "      <td>2.3</td>\n",
       "      <td>0</td>\n",
       "      <td>0.0</td>\n",
       "      <td>0.0</td>\n",
       "      <td>0.00</td>\n",
       "      <td>0.0</td>\n",
       "      <td>0.6</td>\n",
       "      <td>0.0</td>\n",
       "      <td>0.0</td>\n",
       "    </tr>\n",
       "    <tr>\n",
       "      <th>173</th>\n",
       "      <td>39.68</td>\n",
       "      <td>6.87</td>\n",
       "      <td>56.74</td>\n",
       "      <td>66.61</td>\n",
       "      <td>12.55</td>\n",
       "      <td>20.18</td>\n",
       "      <td>50.80</td>\n",
       "      <td>100.0</td>\n",
       "      <td>17.48</td>\n",
       "      <td>12.41</td>\n",
       "      <td>...</td>\n",
       "      <td>NaN</td>\n",
       "      <td>1.0</td>\n",
       "      <td>0</td>\n",
       "      <td>0.0</td>\n",
       "      <td>0.0</td>\n",
       "      <td>0.00</td>\n",
       "      <td>0.0</td>\n",
       "      <td>0.6</td>\n",
       "      <td>0.0</td>\n",
       "      <td>0.0</td>\n",
       "    </tr>\n",
       "    <tr>\n",
       "      <th>174</th>\n",
       "      <td>42.23</td>\n",
       "      <td>7.50</td>\n",
       "      <td>58.41</td>\n",
       "      <td>68.30</td>\n",
       "      <td>13.33</td>\n",
       "      <td>20.81</td>\n",
       "      <td>52.96</td>\n",
       "      <td>100.0</td>\n",
       "      <td>17.23</td>\n",
       "      <td>12.04</td>\n",
       "      <td>...</td>\n",
       "      <td>NaN</td>\n",
       "      <td>1.3</td>\n",
       "      <td>0</td>\n",
       "      <td>0.0</td>\n",
       "      <td>0.0</td>\n",
       "      <td>0.00</td>\n",
       "      <td>0.0</td>\n",
       "      <td>0.6</td>\n",
       "      <td>0.0</td>\n",
       "      <td>0.0</td>\n",
       "    </tr>\n",
       "    <tr>\n",
       "      <th>175</th>\n",
       "      <td>38.48</td>\n",
       "      <td>7.53</td>\n",
       "      <td>58.36</td>\n",
       "      <td>69.25</td>\n",
       "      <td>14.35</td>\n",
       "      <td>20.57</td>\n",
       "      <td>51.31</td>\n",
       "      <td>100.0</td>\n",
       "      <td>17.87</td>\n",
       "      <td>12.77</td>\n",
       "      <td>...</td>\n",
       "      <td>NaN</td>\n",
       "      <td>2.3</td>\n",
       "      <td>0</td>\n",
       "      <td>0.0</td>\n",
       "      <td>0.0</td>\n",
       "      <td>0.00</td>\n",
       "      <td>0.0</td>\n",
       "      <td>0.5</td>\n",
       "      <td>0.0</td>\n",
       "      <td>0.0</td>\n",
       "    </tr>\n",
       "    <tr>\n",
       "      <th>176</th>\n",
       "      <td>39.49</td>\n",
       "      <td>7.53</td>\n",
       "      <td>58.36</td>\n",
       "      <td>69.25</td>\n",
       "      <td>14.35</td>\n",
       "      <td>20.57</td>\n",
       "      <td>51.31</td>\n",
       "      <td>100.0</td>\n",
       "      <td>17.87</td>\n",
       "      <td>12.77</td>\n",
       "      <td>...</td>\n",
       "      <td>NaN</td>\n",
       "      <td>0.9</td>\n",
       "      <td>0</td>\n",
       "      <td>0.0</td>\n",
       "      <td>0.0</td>\n",
       "      <td>0.00</td>\n",
       "      <td>0.0</td>\n",
       "      <td>0.6</td>\n",
       "      <td>0.0</td>\n",
       "      <td>0.0</td>\n",
       "    </tr>\n",
       "  </tbody>\n",
       "</table>\n",
       "<p>176 rows × 58 columns</p>\n",
       "</div>"
      ],
      "text/plain": [
       "     Yield  BiologicalMaterial01  BiologicalMaterial02  BiologicalMaterial03  \\\n",
       "id                                                                             \n",
       "1    38.00                  6.25                 49.58                 56.97   \n",
       "2    42.44                  8.01                 60.97                 67.48   \n",
       "3    42.03                  8.01                 60.97                 67.48   \n",
       "4    41.42                  8.01                 60.97                 67.48   \n",
       "5    42.49                  7.47                 63.33                 72.25   \n",
       "..     ...                   ...                   ...                   ...   \n",
       "172  39.66                  6.71                 56.32                 66.19   \n",
       "173  39.68                  6.87                 56.74                 66.61   \n",
       "174  42.23                  7.50                 58.41                 68.30   \n",
       "175  38.48                  7.53                 58.36                 69.25   \n",
       "176  39.49                  7.53                 58.36                 69.25   \n",
       "\n",
       "     BiologicalMaterial04  BiologicalMaterial05  BiologicalMaterial06  \\\n",
       "id                                                                      \n",
       "1                   12.74                 19.51                 43.73   \n",
       "2                   14.65                 19.36                 53.14   \n",
       "3                   14.65                 19.36                 53.14   \n",
       "4                   14.65                 19.36                 53.14   \n",
       "5                   14.02                 17.91                 54.66   \n",
       "..                    ...                   ...                   ...   \n",
       "172                 12.35                 20.02                 50.26   \n",
       "173                 12.55                 20.18                 50.80   \n",
       "174                 13.33                 20.81                 52.96   \n",
       "175                 14.35                 20.57                 51.31   \n",
       "176                 14.35                 20.57                 51.31   \n",
       "\n",
       "     BiologicalMaterial07  BiologicalMaterial08  BiologicalMaterial09  ...  \\\n",
       "id                                                                     ...   \n",
       "1                   100.0                 16.66                 11.44  ...   \n",
       "2                   100.0                 19.04                 12.55  ...   \n",
       "3                   100.0                 19.04                 12.55  ...   \n",
       "4                   100.0                 19.04                 12.55  ...   \n",
       "5                   100.0                 18.22                 12.80  ...   \n",
       "..                    ...                   ...                   ...  ...   \n",
       "172                 100.0                 17.54                 12.50  ...   \n",
       "173                 100.0                 17.48                 12.41  ...   \n",
       "174                 100.0                 17.23                 12.04  ...   \n",
       "175                 100.0                 17.87                 12.77  ...   \n",
       "176                 100.0                 17.87                 12.77  ...   \n",
       "\n",
       "     ManufacturingProcess36  ManufacturingProcess37  ManufacturingProcess38  \\\n",
       "id                                                                            \n",
       "1                     0.019                     0.5                       3   \n",
       "2                     0.019                     2.0                       2   \n",
       "3                     0.018                     0.7                       2   \n",
       "4                     0.018                     1.2                       2   \n",
       "5                     0.017                     0.2                       2   \n",
       "..                      ...                     ...                     ...   \n",
       "172                     NaN                     2.3                       0   \n",
       "173                     NaN                     1.0                       0   \n",
       "174                     NaN                     1.3                       0   \n",
       "175                     NaN                     2.3                       0   \n",
       "176                     NaN                     0.9                       0   \n",
       "\n",
       "     ManufacturingProcess39  ManufacturingProcess40  ManufacturingProcess41  \\\n",
       "id                                                                            \n",
       "1                       7.2                     NaN                     NaN   \n",
       "2                       7.2                     0.1                    0.15   \n",
       "3                       7.2                     0.0                    0.00   \n",
       "4                       7.2                     0.0                    0.00   \n",
       "5                       7.3                     0.0                    0.00   \n",
       "..                      ...                     ...                     ...   \n",
       "172                     0.0                     0.0                    0.00   \n",
       "173                     0.0                     0.0                    0.00   \n",
       "174                     0.0                     0.0                    0.00   \n",
       "175                     0.0                     0.0                    0.00   \n",
       "176                     0.0                     0.0                    0.00   \n",
       "\n",
       "     ManufacturingProcess42  ManufacturingProcess43  ManufacturingProcess44  \\\n",
       "id                                                                            \n",
       "1                      11.6                     3.0                     1.8   \n",
       "2                      11.1                     0.9                     1.9   \n",
       "3                      12.0                     1.0                     1.8   \n",
       "4                      10.6                     1.1                     1.8   \n",
       "5                      11.0                     1.1                     1.7   \n",
       "..                      ...                     ...                     ...   \n",
       "172                     0.0                     0.6                     0.0   \n",
       "173                     0.0                     0.6                     0.0   \n",
       "174                     0.0                     0.6                     0.0   \n",
       "175                     0.0                     0.5                     0.0   \n",
       "176                     0.0                     0.6                     0.0   \n",
       "\n",
       "     ManufacturingProcess45  \n",
       "id                           \n",
       "1                       2.4  \n",
       "2                       2.2  \n",
       "3                       2.3  \n",
       "4                       2.1  \n",
       "5                       2.1  \n",
       "..                      ...  \n",
       "172                     0.0  \n",
       "173                     0.0  \n",
       "174                     0.0  \n",
       "175                     0.0  \n",
       "176                     0.0  \n",
       "\n",
       "[176 rows x 58 columns]"
      ]
     },
     "execution_count": 6,
     "metadata": {},
     "output_type": "execute_result"
    }
   ],
   "source": [
    "ex_data = pd.read_csv(str(data_dir)+'/ChemicalManufacturingProcess.csv')\n",
    "nrows,ncols = ex_data.shape\n",
    "print(ex_data.shape)\n",
    "\n",
    "ex_data.dropna()\n",
    "\n",
    "ex_data.head()\n",
    "ex_data.set_index('id')"
   ]
  },
  {
   "cell_type": "markdown",
   "metadata": {},
   "source": [
    "#### Task 3\n",
    "##### Define `ex_sd` to be the population standard deviation to be `1.8762296787190247`.\n",
    "##### Then, calculate the standard error of the sample mean, and save it to a variable `ex_se`.\n",
    "#### Result:\n"
   ]
  },
  {
   "cell_type": "code",
   "execution_count": 9,
   "metadata": {},
   "outputs": [
    {
     "data": {
      "text/plain": [
       "0.14142613329181966"
      ]
     },
     "execution_count": 9,
     "metadata": {},
     "output_type": "execute_result"
    }
   ],
   "source": [
    "# calculating standard error and sample mean\n",
    "\n",
    "import math\n",
    "import numpy as np\n",
    "ex_sd = 1.8762296787190247\n",
    "ex_sqrt_len = np.sqrt(len(ex_data))\n",
    "\n",
    "ex_se = ex_sd/ex_sqrt_len\n",
    "ex_se"
   ]
  },
  {
   "cell_type": "markdown",
   "metadata": {},
   "source": [
    "#### Task 4\n",
    "##### Next, calculate the margin of error (MOE) for a 95% confidence interval.\n",
    "##### HINT: by the empirical rule, 95% confidence interval implies z = 2.\n",
    "##### Save this MOE as `ex_moe_95`.\n",
    "#### Result:\n"
   ]
  },
  {
   "cell_type": "code",
   "execution_count": 10,
   "metadata": {},
   "outputs": [],
   "source": [
    "# function for finding margin of error \n",
    "def find_moe(z,std,size):\n",
    "    moe = z * std/math.sqrt(size)\n",
    "    return moe"
   ]
  },
  {
   "cell_type": "code",
   "execution_count": 11,
   "metadata": {},
   "outputs": [
    {
     "data": {
      "text/plain": [
       "0.2771952212519665"
      ]
     },
     "execution_count": 11,
     "metadata": {},
     "output_type": "execute_result"
    }
   ],
   "source": [
    "# using the find_moe function\n",
    "from scipy.stats import norm\n",
    "import scipy.stats as st\n",
    "\n",
    "z = 1.96\n",
    "\n",
    "ex_moe_95 = find_moe(z,ex_sd,nrows)\n",
    "ex_moe_95\n"
   ]
  },
  {
   "cell_type": "markdown",
   "metadata": {},
   "source": [
    "#### Task 5\n",
    "##### Create a variable `ex_mean` that is the mean of `'Yield'` column.\n",
    "##### Using this as the sample mean and the MOE calculated in the previous problem, \n",
    "##### Create a 95% confidence interval for the population mean.\n",
    "##### Name the lower bound `CI_lower` and the upper bound `CI_upper`.\n",
    "#### Result:\n"
   ]
  },
  {
   "cell_type": "code",
   "execution_count": 12,
   "metadata": {},
   "outputs": [],
   "source": [
    "# function for finding confidence interval based on mean and margin of error\n",
    "def find_CI(mean,moe):\n",
    "    CI = (mean - moe, ex_mean + moe)\n",
    "    return (CI[0],CI[1])"
   ]
  },
  {
   "cell_type": "code",
   "execution_count": 13,
   "metadata": {},
   "outputs": [
    {
     "name": "stdout",
     "output_type": "stream",
     "text": [
      "(39.89933886965712, 40.45372931216105)\n"
     ]
    }
   ],
   "source": [
    "# finding the confidence interval\n",
    "ex_mean = ex_data['Yield'].mean()\n",
    "CI_lower,CI_upper = find_CI(ex_mean,ex_moe_95)\n",
    "print(find_CI(ex_mean,ex_moe_95))"
   ]
  },
  {
   "cell_type": "markdown",
   "metadata": {},
   "source": [
    "#### Task 6\n",
    "##### Determine an appropriate z-value for a 90% confidence interval.\n",
    "##### Calculate the MOE using this z-value.\n",
    "##### Then calculate the upper and lower bounds of a 90% confidence interval.\n",
    "##### How does this interval compare to the 95% confidence interval?\n",
    "#### Result:\n"
   ]
  },
  {
   "cell_type": "code",
   "execution_count": 14,
   "metadata": {},
   "outputs": [],
   "source": [
    "# computing the z-score from the confidence interval\n",
    "def find_z_from_CI(CI):\n",
    "    if CI > 1:\n",
    "        CI /= 100\n",
    "    value = (1 - CI)\n",
    "    CI += value/2\n",
    "    z = st.norm.ppf(CI)\n",
    "    return z"
   ]
  },
  {
   "cell_type": "code",
   "execution_count": 15,
   "metadata": {},
   "outputs": [
    {
     "name": "stdout",
     "output_type": "stream",
     "text": [
      "1.6448536269514722\n",
      "lower bound: 39.94390880261832 upper bound: 40.409159379199856\n"
     ]
    }
   ],
   "source": [
    "# getting the confidence interval through the z value\n",
    "CI = .9\n",
    "z = find_z_from_CI(CI)\n",
    "print(z)\n",
    "\n",
    "CI_lower,CI_upper = find_CI(ex_mean,\n",
    "                            find_moe(z,ex_sd,nrows))\n",
    "print('lower bound:',CI_lower,'upper bound:',CI_upper)\n"
   ]
  },
  {
   "cell_type": "markdown",
   "metadata": {},
   "source": [
    "#### Please refer to module 2 of Intro To Statistics - Hypothesis Testing for Tasks 7-11\n",
    "#### Task 7\n",
    "##### We are going to conduct a hypothesis test at the alpha = 0.10 level. \n",
    "##### Assume a claim has an average of 'Yield' as 36.83, with a population standard deviation of `ex_sd`, as previously assumed. \n",
    "##### Note that we have already calculated the sample standard error in Task 3 and it's called `ex_se`.\n",
    "##### Our `ex_df` dataframe will serve as a random sample of the population.\n",
    "##### Our belief is that the average `'Yield'` is less than 36.83, and we will conduct our test in hopes to prove so.\n",
    "##### What are our null and alternative hypotheses?\n",
    "#### Result:\n"
   ]
  },
  {
   "cell_type": "code",
   "execution_count": 17,
   "metadata": {},
   "outputs": [],
   "source": [
    "a = .1\n",
    "avg_yield = 36.83\n",
    "\n",
    "# alternative: avg_yield is less than 36.83\n",
    "# null hypothesis: avg_yield is not less than 36.83"
   ]
  },
  {
   "cell_type": "markdown",
   "metadata": {},
   "source": [
    "#### Task 8\n",
    "##### To test the hypothesis in Task 7, we will first calculate the z-score\n",
    "##### Calculate the z-score and save it to a variable `z_ex_df_90`\n",
    "##### Calculate the p-value and save it to a variable `p_ex_df_90`\n",
    "##### What is our conclusion of this hypothesis test?\n",
    "#### Result:\n"
   ]
  },
  {
   "cell_type": "code",
   "execution_count": 18,
   "metadata": {},
   "outputs": [
    {
     "name": "stdout",
     "output_type": "stream",
     "text": [
      "mean of yield column: 40.17653409090909\n",
      "se of yield column: 0.1391223400925942\n",
      "z: -24.0546132898697\n",
      "p: 3.73480450500397e-128\n",
      "Reject the null hypothesis, avg yield is less than 36.83\n"
     ]
    }
   ],
   "source": [
    "CI = .9\n",
    "\n",
    "df_mean = ex_data['Yield'].mean()\n",
    "print('mean of yield column:',df_mean)\n",
    "\n",
    "df_se = ex_data['Yield'].std()/np.sqrt(ex_data.shape[0])\n",
    "print('se of yield column:',df_se)\n",
    "\n",
    "z_score = -(df_mean - avg_yield)/df_se\n",
    "\n",
    "z_ex_df_90 = z_score\n",
    "print('z:',z_ex_df_90)\n",
    "\n",
    "p_ex_df_90 = norm.cdf(z_ex_df_90)\n",
    "print('p:',p_ex_df_90)\n",
    "\n",
    "\n",
    "\n",
    "if (p_ex_df_90 <= a):\n",
    "    print('Reject the null hypothesis, avg yield is less than 36.83')\n",
    "else:\n",
    "    print('Fail to reject the null hypothesis, avg yield is not less than 36.83 as defined by the sample data')\n"
   ]
  },
  {
   "cell_type": "markdown",
   "metadata": {},
   "source": [
    "#### Task 9\n",
    "##### We are going to conduct a two-tailed hypothesis test at the alpha = 0.05 level.\n",
    "##### Assume another research has claimed the average selected_column is 36.83, with a population standard deviation of 1.8762296787190247. \n",
    "##### Our `ex_df` dataframe will serve as a random sample of the population.\n",
    "##### Our belief is that the average `'Yield'` cannot be equal to 36.83, and we will conduct our test in hopes in proving so.\n",
    "##### Print our null and alternative hypothesis?\n",
    "#### Result:\n"
   ]
  },
  {
   "cell_type": "code",
   "execution_count": 19,
   "metadata": {},
   "outputs": [],
   "source": [
    "alpha = 0.05\n",
    "avg_yield = 36.83\n",
    "pop_std = 1.8762296787190247\n",
    "\n",
    "mean_data = ex_data['Yield'].mean()\n",
    "\n",
    "null = 'Avg yield is 36.83, fail to reject null hypothesis'\n",
    "alt = 'Avg yield is not 36.83, reject null hypothesis'"
   ]
  },
  {
   "cell_type": "markdown",
   "metadata": {},
   "source": [
    "#### Task 10\n",
    "##### Calculate the z-score using formula as `z_twotail`.\n",
    "##### Next, calculate the p-value of this z-score.\n",
    "##### What is the conclusion of this hypothesis test?\n",
    "#### Result:\n"
   ]
  },
  {
   "cell_type": "code",
   "execution_count": 21,
   "metadata": {},
   "outputs": [
    {
     "name": "stdout",
     "output_type": "stream",
     "text": [
      "z_score from two-tailed: -24.0546132898697\n",
      "p_val: 3.73480450500397e-128\n",
      "Avg yield is not 36.83, reject null hypothesis\n"
     ]
    }
   ],
   "source": [
    "z_twotail = (avg_yield - mean_data) / df_se\n",
    "print('z_score from two-tailed:',z_twotail)\n",
    "\n",
    "p_twotail = norm.cdf(z_twotail)\n",
    "print('p_val:',p_twotail)\n",
    "if p_twotail < alpha/2:\n",
    "    print(alt)\n",
    "else:\n",
    "    print(null)"
   ]
  },
  {
   "cell_type": "markdown",
   "metadata": {},
   "source": [
    "#### Task 11\n",
    "##### Create a 95% confidence interval, and determine whether it confirms your results.\n",
    "#### Result:\n"
   ]
  },
  {
   "cell_type": "code",
   "execution_count": 22,
   "metadata": {},
   "outputs": [],
   "source": [
    "# creating a confidence interval for 95% and the z_score\n",
    "CI_interval = .95\n",
    "z = norm.ppf((1-CI_interval)/2)\n"
   ]
  },
  {
   "cell_type": "code",
   "execution_count": 90,
   "metadata": {},
   "outputs": [
    {
     "data": {
      "text/plain": [
       "-1.959963984540054"
      ]
     },
     "execution_count": 90,
     "metadata": {},
     "output_type": "execute_result"
    }
   ],
   "source": [
    "z"
   ]
  },
  {
   "cell_type": "code",
   "execution_count": 91,
   "metadata": {},
   "outputs": [],
   "source": [
    "CI_lower = df_mean + z*df_se\n",
    "CI_upper = df_mean - z*df_se"
   ]
  },
  {
   "cell_type": "code",
   "execution_count": 92,
   "metadata": {},
   "outputs": [
    {
     "data": {
      "text/plain": [
       "39.903859314882666"
      ]
     },
     "execution_count": 92,
     "metadata": {},
     "output_type": "execute_result"
    }
   ],
   "source": [
    "CI_lower"
   ]
  },
  {
   "cell_type": "code",
   "execution_count": 93,
   "metadata": {},
   "outputs": [
    {
     "data": {
      "text/plain": [
       "40.44920886693551"
      ]
     },
     "execution_count": 93,
     "metadata": {},
     "output_type": "execute_result"
    }
   ],
   "source": [
    "CI_upper"
   ]
  },
  {
   "cell_type": "code",
   "execution_count": 100,
   "metadata": {},
   "outputs": [
    {
     "name": "stdout",
     "output_type": "stream",
     "text": [
      "fail to reject null hypothesis, 36.83 is not in the confidence interval\n"
     ]
    }
   ],
   "source": [
    "if avg_yield in np.arange(CI_lower,CI_upper):\n",
    "    print(f'reject null hypothesis, {avg_yield} is in the confidence interval')\n",
    "else:\n",
    "    print(f'fail to reject null hypothesis, {avg_yield} is not in the confidence interval')"
   ]
  },
  {
   "cell_type": "code",
   "execution_count": null,
   "metadata": {},
   "outputs": [],
   "source": []
  }
 ],
 "metadata": {
  "kernelspec": {
   "display_name": "Python 3",
   "language": "python",
   "name": "python3"
  },
  "language": "python",
  "language_info": {
   "codemirror_mode": {
    "name": "ipython",
    "version": 3
   },
   "file_extension": ".py",
   "mimetype": "text/x-python",
   "name": "python",
   "nbconvert_exporter": "python",
   "pygments_lexer": "ipython3",
   "version": "3.7.12"
  }
 },
 "nbformat": 4,
 "nbformat_minor": 4
}
