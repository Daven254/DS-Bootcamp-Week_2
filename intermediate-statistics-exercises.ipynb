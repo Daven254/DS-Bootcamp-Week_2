{
 "cells": [
  {
   "cell_type": "markdown",
   "id": "683ca789",
   "metadata": {},
   "source": [
    "## INTERMEDIATE STATISTICS/INTERMEDIATE STATISTICS PART 2 EXERCISE  ##\n",
    "#### Exercise ####\n",
    "#### Exercise 1\n",
    "#### Task 1\n",
    "##### Review the tasks that follow and import the packages required to complete them.\n",
    "##### Set the working directory to data directory.\n",
    "##### Load the\"ChemicalManufacturingProcess.csv\" from the data folder as 'cmp'.\n",
    "#### Result:\n"
   ]
  },
  {
   "cell_type": "code",
   "execution_count": 1,
   "id": "bdab8eda",
   "metadata": {},
   "outputs": [
    {
     "name": "stdout",
     "output_type": "stream",
     "text": [
      "Requirement already satisfied: scipy in /opt/conda/lib/python3.7/site-packages (1.4.1)\n",
      "Collecting scipy\n",
      "  Using cached scipy-1.7.3-cp37-cp37m-manylinux_2_12_x86_64.manylinux2010_x86_64.whl (38.1 MB)\n",
      "Requirement already satisfied: numpy<1.23.0,>=1.16.5 in /opt/conda/lib/python3.7/site-packages (from scipy) (1.19.5)\n",
      "Installing collected packages: scipy\n",
      "  Attempting uninstall: scipy\n",
      "    Found existing installation: scipy 1.4.1\n",
      "    Uninstalling scipy-1.4.1:\n",
      "      Successfully uninstalled scipy-1.4.1\n",
      "Successfully installed scipy-1.7.3\n",
      "/home/jovyan/TEDS-Jul2022\n",
      "/home/jovyan/TEDS-Jul2022/data\n"
     ]
    }
   ],
   "source": [
    "import os\n",
    "import numpy as np\n",
    "import pandas as pd\n",
    "import scipy\n",
    "from scipy import stats\n",
    "from pathlib import Path\n",
    "import matplotlib.pyplot as plt\n",
    "\n",
    "!pip install --upgrade scipy\n",
    "\n",
    "\n",
    "\n",
    "home_dir = Path(\".\").resolve()\n",
    "main_dir = Path(os.getcwd()).parent\n",
    "print(main_dir)\n",
    "\n",
    "if(main_dir != '/home/jovyan/TEDS-Jul2022/2/data'):\n",
    "    data_dir = str(main_dir) + \"/data\"\n",
    "print(data_dir)\n",
    "\n",
    "os.chdir(data_dir)\n",
    "df = pd.read_csv(\"ChemicalManufacturingProcess.csv\").set_index('id')\n"
   ]
  },
  {
   "cell_type": "markdown",
   "id": "9ec8cd46",
   "metadata": {},
   "source": [
    "#### Task 2\n",
    "##### Calculate the mean of the `Yield` variable and save it to `sample_yield_mean`.\n",
    "##### Then, calculate the standard error of the sample deviation, and save it to a variable `sample_yield_sd`. \n",
    "##### Calculate the t-value of our yield sample mean where the population average yield is 40.44. \n",
    "##### Save this t-value as `t_value_41`.\n",
    "#### Result:\n"
   ]
  },
  {
   "cell_type": "code",
   "execution_count": 2,
   "id": "2161f2e1",
   "metadata": {},
   "outputs": [],
   "source": [
    "# function gets the mean, std, and sample size from the df\n",
    "# function also takes input for average value\n",
    "\n",
    "# function returns sample's mean, standard error, and t_value\n",
    "\n",
    "def get_mean_se(df,pop_avg):\n",
    "    sample_mean = df['Yield'].mean()\n",
    "    sample_std = df['Yield'].std(ddof = 1)\n",
    "    sample_size = df['Yield'].shape[0]\n",
    "    \n",
    "    sample_se = sample_std/np.sqrt(sample_size)\n",
    "    t_val = (sample_mean - pop_avg)/(sample_se)\n",
    "    \n",
    "    return sample_mean, sample_se, t_val"
   ]
  },
  {
   "cell_type": "code",
   "execution_count": 3,
   "id": "d2407407-5b89-4457-8242-9d2c1ed7998b",
   "metadata": {},
   "outputs": [],
   "source": [
    "sample_yield_mean, sample_yield_sd, t_value_41 = get_mean_se(df,40.44)"
   ]
  },
  {
   "cell_type": "code",
   "execution_count": 4,
   "id": "29b18d41-54ae-4cf8-a47c-e0bf61616559",
   "metadata": {},
   "outputs": [
    {
     "data": {
      "text/plain": [
       "-1.8937714023179801"
      ]
     },
     "execution_count": 4,
     "metadata": {},
     "output_type": "execute_result"
    }
   ],
   "source": [
    "t_value_41"
   ]
  },
  {
   "cell_type": "markdown",
   "id": "364f3143",
   "metadata": {},
   "source": [
    "#### Task 3\n",
    "##### Using the t-table and then the stats.t.cdf() function in Python, calculate the probability of observing a sample as extreme or greater, given our assumption that the population mean yield is 40.44.\n",
    "#### Result:\n"
   ]
  },
  {
   "cell_type": "code",
   "execution_count": 5,
   "id": "f07f28d7",
   "metadata": {},
   "outputs": [
    {
     "name": "stdout",
     "output_type": "stream",
     "text": [
      "0.02995265149715128\n"
     ]
    }
   ],
   "source": [
    "# using stats library to get probability of observing a sample as extreme or greatert than the sample average that was originally inputted\n",
    "\n",
    "print(stats.t.cdf(t_value_41, df = df['Yield'].shape[0] - 1))"
   ]
  },
  {
   "cell_type": "markdown",
   "id": "991be9a3",
   "metadata": {},
   "source": [
    "#### Task 4\n",
    "##### We are going to conduct a one-sample t-test at the alpha = 0.05 level. \n",
    "##### Assume a recent manufacturer has claimed the average population `yield` is 40.5.\n",
    "##### Our belief is that the average population `yield` is less than 40.5, and we will conduct our test in hopes to prove so.\n",
    "##### What is our null and alternative hypothesis?\n",
    "##### Define the null hypothesis and alpha-level as `mean_yield_ho` and `alpha` respectively.\n",
    "#### Result:\n"
   ]
  },
  {
   "cell_type": "code",
   "execution_count": 6,
   "id": "d0deea97",
   "metadata": {},
   "outputs": [],
   "source": [
    "from scipy.stats import norm\n",
    "\n",
    "mean_yield_ho = 0.05\n",
    "a = 0.05\n",
    "yield_val = 40.5\n",
    "\n",
    "null_h = 'avg population yield value not be less than 40.5'\n",
    "alt_h = 'avg population yield will be less than 40.5'\n",
    "\n",
    "z = norm.ppf(a)\n",
    "\n"
   ]
  },
  {
   "cell_type": "markdown",
   "id": "82ed43bd",
   "metadata": {},
   "source": [
    "#### Task 5\n",
    "##### Calculate the mean of the `yield` variable and save it to `sample_yield_mean`.\n",
    "##### Then, calculate the standard error of the sample deviation, and save it to a variable `yield_se`. \n",
    "#### Result:\n"
   ]
  },
  {
   "cell_type": "code",
   "execution_count": 7,
   "id": "1952de19",
   "metadata": {},
   "outputs": [
    {
     "name": "stdout",
     "output_type": "stream",
     "text": [
      "40.17653409090909\n",
      "0.1391223400925942\n"
     ]
    }
   ],
   "source": [
    "# finding the mean and se of the yield column\n",
    "sample_yield_mean, yield_se, t_val = get_mean_se(df,yield_val)\n",
    "print(sample_yield_mean)\n",
    "print(yield_se)\n"
   ]
  },
  {
   "cell_type": "markdown",
   "id": "8b266df4",
   "metadata": {},
   "source": [
    "#### Task 6\n",
    "##### Calculate the t-score of the above yield sample mean and the associated p-value.\n",
    "##### What is our conclusion of this one-sample t-test?\n",
    "#### Result:\n"
   ]
  },
  {
   "cell_type": "code",
   "execution_count": 8,
   "id": "4c8a0473",
   "metadata": {},
   "outputs": [
    {
     "name": "stdout",
     "output_type": "stream",
     "text": [
      "tscore: -2.3250464941549107\n",
      "pval: 0.010608520252434474\n"
     ]
    }
   ],
   "source": [
    "# getting the p_value\n",
    "\n",
    "print('tscore:',t_val)\n",
    "p_val = stats.t.cdf(t_val, df = df['Yield'].shape[0] - 1)\n",
    "print('pval:',p_val)"
   ]
  },
  {
   "cell_type": "code",
   "execution_count": 9,
   "id": "bc80a492-7b4a-4169-b60b-27db03f8974e",
   "metadata": {},
   "outputs": [
    {
     "name": "stdout",
     "output_type": "stream",
     "text": [
      "avg population yield will be less than 40.5 reject the null hypothesis\n"
     ]
    }
   ],
   "source": [
    "if(p_val < a):\n",
    "    print(alt_h,'reject the null hypothesis')\n",
    "else:\n",
    "    print(null_h,'faill to reject the null hypothesis')"
   ]
  },
  {
   "cell_type": "markdown",
   "id": "95beeeb3",
   "metadata": {},
   "source": [
    "#### Exercise 2\n",
    "#### Task 1\n",
    "##### Conduct a paired t-test by comparing the first 88 observations in yield dataset to the second set of 88 observations at alpha = 0.10 level.\n",
    "##### The prevailing assumption is that there is no difference between the two yield sets.\n",
    "##### Our belief is that there does exist a difference in the two samples of observations, and we will conduct our test in hopes to prove so.\n",
    "##### What is our null and alternative hypothesis?\n",
    "##### Define the null hypothesis and alpha-level as `mean_yield_ho` and `alpha` respectively.\n",
    "#### Result:\n"
   ]
  },
  {
   "cell_type": "code",
   "execution_count": 10,
   "id": "34e5f1a8",
   "metadata": {},
   "outputs": [],
   "source": [
    "# function to do paired_t test \n",
    "\n",
    "# will return t_score, p_value, d_bar, standard error, and the appropriate hypothesis statement\n",
    "def paired_t_test(df, size = 10, a=0.05, mean_H0 = 0):\n",
    "    \n",
    "    df.dropna()\n",
    "    \n",
    "    null_H = 'df_one is equivalent to df_two, do not reject null hypothesis'\n",
    "    alt_H = 'df_one and df_two are different, reject null hypothesis'\n",
    "    \n",
    "    \n",
    "    \n",
    "    df_one= df['Yield'][0:size]\n",
    "    df_two= df['Yield'][size:size*2].reset_index(drop = True)\n",
    "    \n",
    "    d = (df_one - df_two)\n",
    "    \n",
    "    d_bar = d.mean()\n",
    "    \n",
    "    s_d = np.std(d, ddof = 1)\n",
    "    n_val = size - 1\n",
    "    \n",
    "    se = s_d/np.sqrt(n_val)\n",
    "    t_score = (d_bar -mean_H0)/se\n",
    "    \n",
    "    p_val = stats.t.cdf(t_score,n_val)\n",
    "    \n",
    "    if(p_val < a/2):\n",
    "        hyp = alt_H\n",
    "    else:\n",
    "        hyp = null_H\n",
    "    \n",
    "    \n",
    "    \n",
    "    return t_score,p_val,d_bar,se,hyp\n"
   ]
  },
  {
   "cell_type": "markdown",
   "id": "e9cddead",
   "metadata": {},
   "source": [
    "#### Task 2\n",
    "##### Save the average difference between first 88 observations and the second set of 88 observations in `d_yield_bar`. These become the two samples we wish to test.\n",
    "##### Define the standard error `yield_se` for the above samples.\n",
    "#### Result:\n"
   ]
  },
  {
   "cell_type": "code",
   "execution_count": 11,
   "id": "816a88e4",
   "metadata": {},
   "outputs": [
    {
     "name": "stdout",
     "output_type": "stream",
     "text": [
      "d_yield_bar 1.294712643678161\n",
      "yield_se 0.28133440378730085\n"
     ]
    }
   ],
   "source": [
    "d_yield_bar = paired_t_test(df,size = 88, a=0.1)[2]\n",
    "\n",
    "print('d_yield_bar',d_yield_bar)\n",
    "\n",
    "yield_se = paired_t_test(df,size = 88, a=0.1)[3]\n",
    "\n",
    "print('yield_se',yield_se)"
   ]
  },
  {
   "cell_type": "markdown",
   "id": "10af23d1",
   "metadata": {},
   "source": [
    "#### Task 3\n",
    "##### Calculate the t-score  and the associated p-value.\n",
    "##### What is our conclusion of this one-sample t-test?\n",
    "##### Hint: Divide alpha by two as it is a two-tailed test.\n",
    "#### Result:\n"
   ]
  },
  {
   "cell_type": "code",
   "execution_count": 12,
   "id": "6284ff12",
   "metadata": {},
   "outputs": [
    {
     "name": "stdout",
     "output_type": "stream",
     "text": [
      "df_one is equivalent to df_two, do not reject null hypothesis\n"
     ]
    }
   ],
   "source": [
    "t_score =paired_t_test(df,size = 88, a=0.1)[0]\n",
    "p_val = paired_t_test(df,size = 88, a=0.1)[1]\n",
    "hyp = paired_t_test(df,size = 88, a=0.1)[4]\n",
    "\n",
    "print(hyp)"
   ]
  },
  {
   "cell_type": "markdown",
   "id": "50d23738",
   "metadata": {},
   "source": [
    "#### Task 4\n",
    "##### From the \"cmp\" dataframe, add a new variable `YieldLevel`, which has two levels:\n",
    "##### `\"Less\" if 'Yield' variable is less than its mean (< 40.18)`, and \n",
    "##### `\"More\" otherwise(>= 40.18)`.\n",
    "#### Result:\n"
   ]
  },
  {
   "cell_type": "code",
   "execution_count": 13,
   "id": "69c7df57",
   "metadata": {},
   "outputs": [],
   "source": [
    "df['YieldLevel'] = df['Yield'].apply(lambda value: 'Less' if value < 40.18 else 'More')"
   ]
  },
  {
   "cell_type": "markdown",
   "id": "f0dbd1dd",
   "metadata": {},
   "source": [
    "#### Task 5\n",
    "##### We wish to conduct a two-sample t-test at alpha = 0.10 level to compare the difference in ManufacturingProcess45 between the two `YieldLevel` independent  samples, \"Less\" and \"More\".\n",
    "##### The prevailing assumption is that there is no difference between the ManufacturingProcess45 of the two independent samples.\n",
    "##### Our belief is that there does exist a difference between the ManufacturingProcess45 of the two samples of observations, and we will conduct  our test in hopes to prove so.\n",
    "##### What is our null and alternative hypothesis?\n",
    "##### Define the null hypothesis and alpha-level as `mean_yield_ho` and `alpha` respectively.\n",
    "#### Result:\n"
   ]
  },
  {
   "cell_type": "code",
   "execution_count": 14,
   "id": "76735920",
   "metadata": {},
   "outputs": [],
   "source": [
    "mean_cmp_Ho = 0\n",
    "alpha = 0.10"
   ]
  },
  {
   "cell_type": "markdown",
   "id": "bfdad5cb",
   "metadata": {},
   "source": [
    "#### Task 6\n",
    "##### Create two variables, `temp_less` and `temp_more`, as samples which contain observations for the two levels \"Less\" and \"More\" of `YieldLevel`.\n",
    "##### Calculate the size of each sample and save it as `n_cmp` and `m_cmp` respectively.\n",
    "#####  Then, calculate the sample deviation of each sample, and save it to a variable `less_sd` and `more_sd` respectively. \n",
    "#### Result:\n"
   ]
  },
  {
   "cell_type": "code",
   "execution_count": 15,
   "id": "084a7bdf",
   "metadata": {},
   "outputs": [
    {
     "name": "stdout",
     "output_type": "stream",
     "text": [
      "0.47334900269306096 0.3058978834390693\n"
     ]
    }
   ],
   "source": [
    "temp_less = df[df['YieldLevel'] == 'Less']\n",
    "temp_more = df[df['YieldLevel'] == 'More']\n",
    "\n",
    "n_df = temp_less.shape[0]\n",
    "m_df = temp_more.shape[0]\n",
    "\n",
    "less_sd = temp_less['ManufacturingProcess45'].std(ddof = 1)\n",
    "more_sd = temp_more['ManufacturingProcess45'].std(ddof = 1)\n",
    "\n",
    "print(less_sd,more_sd)"
   ]
  },
  {
   "cell_type": "markdown",
   "id": "fe06d651",
   "metadata": {},
   "source": [
    "#### Task 7\n",
    "##### Calculate the average difference in the `ManufacturingProcess45` of the two independent samples `temp_less` and `temp_more`.\n",
    "##### Then, calculate the pooled standard deviation, using the size and standard deviation of each sample calculated above.\n",
    "#### Result:\n"
   ]
  },
  {
   "cell_type": "code",
   "execution_count": 16,
   "id": "33497876",
   "metadata": {},
   "outputs": [
    {
     "name": "stdout",
     "output_type": "stream",
     "text": [
      "Difference in means of sets: -0.06184262038366217\n",
      "pooled standard deviation 0.40689760424252036 \n"
     ]
    }
   ],
   "source": [
    "diff_man_pro45 = temp_less['ManufacturingProcess45'].mean() - temp_more['ManufacturingProcess45'].mean()\n",
    "print(f'Difference in means of sets: {diff_man_pro45}')\n",
    "\n",
    "\n",
    "\n",
    "one = (n_df - 1) * (less_sd ** 2)\n",
    "two = (m_df - 1) * (more_sd ** 2)\n",
    "\n",
    "denom = m_df +n_df - 2\n",
    "s_pooled = np.sqrt((one +two )/denom)\n",
    "\n",
    "print(f'pooled standard deviation {s_pooled} ')\n",
    "\n"
   ]
  },
  {
   "cell_type": "markdown",
   "id": "b3815cb2",
   "metadata": {},
   "source": [
    "#### Task 8\n",
    "##### Calculate the t-score  and the associated p-value.\n",
    "##### What is our conclusion of this two-sample t-test?\n",
    "##### Hint: Divide alpha by two as it is a two-tailed test.\n",
    "#### Result:\n"
   ]
  },
  {
   "cell_type": "code",
   "execution_count": 17,
   "id": "b801bab9",
   "metadata": {},
   "outputs": [],
   "source": [
    "t_score = stats.ttest_ind(temp_less['ManufacturingProcess45'],temp_more['ManufacturingProcess45'],equal_var = True)[0]\n",
    "p_val = stats.ttest_ind(temp_less['ManufacturingProcess45'],temp_more['ManufacturingProcess45'],equal_var = True)[1]/2"
   ]
  },
  {
   "cell_type": "markdown",
   "id": "f33583e3",
   "metadata": {},
   "source": [
    "## INTERMEDIATE STATISTICS/INTERMEDIATE STATISTICS PART 3 EXERCISE  ##\n",
    "#### Exercise ####\n",
    "#### Exercise 3\n",
    "#### Task 1\n",
    "##### Review the tasks that follow and import the packages required to complete them.\n",
    "##### Set the working directory to data directory.\n",
    "##### Load the\"ChemicalManufacturingProcess.csv\" from the data folder as 'cmp'.\n",
    "#### Result:\n"
   ]
  },
  {
   "cell_type": "code",
   "execution_count": 18,
   "id": "340aee78",
   "metadata": {},
   "outputs": [],
   "source": [
    "# reading in the csv\n",
    "cmp = pd.read_csv('ChemicalManufacturingProcess.csv')\n"
   ]
  },
  {
   "cell_type": "markdown",
   "id": "ff8d059e",
   "metadata": {},
   "source": [
    "#### Task 2\n",
    "##### Suppose you conducted a drug trial on a group of animals and you hypothesized that the animals receiving the drug would show increased heart rates compared to those that did not receive the drug. \n",
    "##### You conduct the study and collect the following contingency table:\n"
   ]
  },
  {
   "cell_type": "markdown",
   "id": "4f5f5f65-f3ce-4cdc-9f35-0ade7a10b1a5",
   "metadata": {},
   "source": [
    "|             | Heart Rate Increased | Heart Rate Decreased | Total |\n",
    "|-------------|----------------------|----------------------|-------|\n",
    "| Treated     |                    36|                    14|     50|\n",
    "| Not Treated |                    30|                    25|     55|\n",
    "| Total       |                    66|                    39|    105|\n"
   ]
  },
  {
   "cell_type": "markdown",
   "id": "dbaf0688",
   "metadata": {},
   "source": [
    "##### The prevailing assumption is that the variables are independent of each other.\n",
    "##### We believe there is a dependency between the two variables, and we will conduct our test in hopes of proving so.\n",
    "##### What is our null and alternative hypothesis?\n",
    "#### Result:\n"
   ]
  },
  {
   "cell_type": "code",
   "execution_count": 20,
   "id": "bc8fb03e",
   "metadata": {},
   "outputs": [],
   "source": [
    "null_H = 'HR is independent of treatment'\n",
    "alt_H = 'HR is not independent of treatment, reject the null hypothesis'"
   ]
  },
  {
   "cell_type": "markdown",
   "id": "ad86b3d2",
   "metadata": {},
   "source": [
    "#### Task 3\n",
    "##### Create a array for the contingency table above and save it as 'cont_table_ex', and view this array.\n",
    "#### Result:\n"
   ]
  },
  {
   "cell_type": "code",
   "execution_count": 21,
   "id": "42b0547a",
   "metadata": {},
   "outputs": [],
   "source": [
    "cont_table_ex = np.array([[36,14],[30,25]])"
   ]
  },
  {
   "cell_type": "markdown",
   "id": "ff70b9df",
   "metadata": {},
   "source": [
    "#### Task 4\n",
    "##### Conduct a chi-square test for the contingency matrix 'cont_table_ex' at alpha = 0.05.\n",
    "##### Print test statistics, p-value, dof and expected values.\n",
    "##### What's your conclusion?\n",
    "#### Result:\n"
   ]
  },
  {
   "cell_type": "code",
   "execution_count": 22,
   "id": "a1be6df3",
   "metadata": {},
   "outputs": [
    {
     "name": "stdout",
     "output_type": "stream",
     "text": [
      "test_statistics: 2.710942466624286\n",
      "p_value: 0.09966209595851808\n",
      "degrees of freedom: 1\n",
      "expected values: [[31.42857143 18.57142857]\n",
      " [34.57142857 20.42857143]]\n"
     ]
    }
   ],
   "source": [
    "stat, p, dof, expected = stats.chi2_contingency(cont_table_ex)\n",
    "print(f'test_statistics: {stat}')\n",
    "print(f'p_value: {p}')\n",
    "print(f'degrees of freedom: {dof}')\n",
    "print(f'expected values: {expected}')"
   ]
  },
  {
   "cell_type": "markdown",
   "id": "8ab48924",
   "metadata": {},
   "source": [
    "#### Task 5\n",
    "##### Define a variable named `Yield` to be equal to the `Yield` column in the cmp dataframe.\n",
    "##### Create a histogram plot of `Yield` data with 4 bins to see its distribution.\n",
    "##### You will conduct a chi-square test of normality to test the assumption that `yield` data is normally distributed.\n",
    "##### What is our null and alternative hypothesis?\n",
    "#### Result:\n"
   ]
  },
  {
   "cell_type": "code",
   "execution_count": 23,
   "id": "adb7d636",
   "metadata": {},
   "outputs": [
    {
     "data": {
      "text/plain": [
       "<AxesSubplot:>"
      ]
     },
     "execution_count": 23,
     "metadata": {},
     "output_type": "execute_result"
    },
    {
     "data": {
      "image/png": "[encoded data removed]",
      "text/plain": [
       "<Figure size 432x288 with 1 Axes>"
      ]
     },
     "metadata": {
      "needs_background": "light"
     },
     "output_type": "display_data"
    }
   ],
   "source": [
    "Yield = cmp['Yield']\n",
    "Yield.hist(bins = 4)\n"
   ]
  },
  {
   "cell_type": "markdown",
   "id": "833492a1",
   "metadata": {},
   "source": [
    "#### Task 6\n",
    "##### Cut `Yield` data into 4 bins and get the sorted value counts as `ob_bins`.\n",
    "##### Assign the values from `ob_bins` as `ob_freq` and index as `bins`.\n",
    "##### Calculate the mean and standard deviation of `Yield` and calculate the normal distribution.\n",
    "##### Get the expected frequency as `ex_freq` and convert it into array.\n",
    "#### Result:\n"
   ]
  },
  {
   "cell_type": "code",
   "execution_count": 27,
   "id": "3764af5d",
   "metadata": {},
   "outputs": [
    {
     "name": "stdout",
     "output_type": "stream",
     "text": [
      "interval: 35.239--37.098\t\tfreq: 7.730921262232447\n",
      "interval: 37.098--38.947\t\tfreq: 36.078278494822726\n",
      "interval: 38.947--40.795\t\tfreq: 66.62860539333055\n",
      "interval: 40.795--42.643\t\tfreq: 48.938855753859684\n",
      "interval: 42.643--44.492\t\tfreq: 14.26078038000961\n",
      "interval: 44.492--46.34\t\tfreq: 1.631463710984411\n"
     ]
    }
   ],
   "source": [
    "ob_freq = pd.cut(Yield,bins=6 ).value_counts().sort_index().values\n",
    "bins = pd.cut(Yield,bins=6 ).value_counts().sort_index().index\n",
    "\n",
    "mean_val = Yield.mean()\n",
    "std_val = Yield.std()\n",
    "\n",
    "ex_freq = []\n",
    "n_dist = stats.norm(mean_val,std_val) \n",
    "for i in bins:\n",
    "# normal distribution\n",
    "    lo = i.left\n",
    "    hi = i.right\n",
    "    freq = ((n_dist.cdf(hi)-n_dist.cdf(lo)))*len(Yield) \n",
    "    ex_freq.append(freq) \n",
    "    print(f'interval: {lo}--{hi}\\t\\tfreq: {freq}')"
   ]
  },
  {
   "cell_type": "markdown",
   "id": "4b77766c",
   "metadata": {},
   "source": [
    "#### Task 7\n",
    "##### Print `ob_freq` and `ex_freq` to compare the differences.\n",
    "##### Conduct a chi-square test of normality at the alpha = 0.05 significance level to test\n",
    "#####  the assumption that `yield` data is normally distributed.\n",
    "##### What's your conclusion?\n",
    "#### Result:\n"
   ]
  },
  {
   "cell_type": "code",
   "execution_count": 28,
   "id": "c924d1aa",
   "metadata": {},
   "outputs": [
    {
     "name": "stdout",
     "output_type": "stream",
     "text": [
      "fail to reject the null hypothesis: HR is independent of treatment\n"
     ]
    }
   ],
   "source": [
    "a = 0.05\n",
    "concluded_val = stats.chisquare(ob_freq,ex_freq)\n",
    "\n",
    "if concluded_val[1] < a:\n",
    "        print('reject the null hypothesis:',alt_H)\n",
    "else:\n",
    "    print('fail to reject the null hypothesis:',null_H)\n"
   ]
  },
  {
   "cell_type": "markdown",
   "id": "15e0631e",
   "metadata": {},
   "source": [
    "## INTERMEDIATE STATISTICS/INTERMEDIATE STATISTICS PART 4 EXERCISE  ##\n",
    "#### Exercise ####\n",
    "#### Exercise 4\n",
    "#### Task 1\n",
    "##### Review the tasks that follow and import the packages required to complete them.\n",
    "##### Set the working directory to data directory.\n",
    "##### Load the\"ChemicalManufacturingProcess.csv\" from the data folder as 'cmp'.\n",
    "#### Result:\n"
   ]
  },
  {
   "cell_type": "code",
   "execution_count": 29,
   "id": "aefcfeee",
   "metadata": {},
   "outputs": [],
   "source": [
    "cmp = pd.read_csv('ChemicalManufacturingProcess.csv')"
   ]
  },
  {
   "cell_type": "markdown",
   "id": "dd32e529",
   "metadata": {},
   "source": [
    "#### Task 2\n",
    "##### Back to our `cmp` dataframe, add a new variable `Yield_level`, which has two levels:\n"
   ]
  },
  {
   "cell_type": "code",
   "execution_count": 30,
   "id": "e7146ed5",
   "metadata": {},
   "outputs": [],
   "source": [
    "# `Less` if `Yield` variable is less than its mean (< 40.18)\n",
    "# `More` otherwise(>= 40.18).\n",
    "cmp['Yield_level'] = cmp['Yield'].apply(lambda value: 'Less' if value < 40.18 else 'More')\n"
   ]
  },
  {
   "cell_type": "markdown",
   "id": "0970f158",
   "metadata": {},
   "source": [
    "##### Check the first few rows of `cmp` dataframe.\n",
    "#### Result:\n"
   ]
  },
  {
   "cell_type": "code",
   "execution_count": 31,
   "id": "c777c38f",
   "metadata": {},
   "outputs": [
    {
     "data": {
      "text/html": [
       "<div>\n",
       "<style scoped>\n",
       "    .dataframe tbody tr th:only-of-type {\n",
       "        vertical-align: middle;\n",
       "    }\n",
       "\n",
       "    .dataframe tbody tr th {\n",
       "        vertical-align: top;\n",
       "    }\n",
       "\n",
       "    .dataframe thead th {\n",
       "        text-align: right;\n",
       "    }\n",
       "</style>\n",
       "<table border=\"1\" class=\"dataframe\">\n",
       "  <thead>\n",
       "    <tr style=\"text-align: right;\">\n",
       "      <th></th>\n",
       "      <th>Yield</th>\n",
       "      <th>BiologicalMaterial01</th>\n",
       "      <th>BiologicalMaterial02</th>\n",
       "      <th>BiologicalMaterial03</th>\n",
       "      <th>BiologicalMaterial04</th>\n",
       "      <th>BiologicalMaterial05</th>\n",
       "      <th>BiologicalMaterial06</th>\n",
       "      <th>BiologicalMaterial07</th>\n",
       "      <th>BiologicalMaterial08</th>\n",
       "      <th>BiologicalMaterial09</th>\n",
       "      <th>...</th>\n",
       "      <th>ManufacturingProcess38</th>\n",
       "      <th>ManufacturingProcess39</th>\n",
       "      <th>ManufacturingProcess40</th>\n",
       "      <th>ManufacturingProcess41</th>\n",
       "      <th>ManufacturingProcess42</th>\n",
       "      <th>ManufacturingProcess43</th>\n",
       "      <th>ManufacturingProcess44</th>\n",
       "      <th>ManufacturingProcess45</th>\n",
       "      <th>id</th>\n",
       "      <th>Yield_level</th>\n",
       "    </tr>\n",
       "  </thead>\n",
       "  <tbody>\n",
       "    <tr>\n",
       "      <th>0</th>\n",
       "      <td>38.00</td>\n",
       "      <td>6.25</td>\n",
       "      <td>49.58</td>\n",
       "      <td>56.97</td>\n",
       "      <td>12.74</td>\n",
       "      <td>19.51</td>\n",
       "      <td>43.73</td>\n",
       "      <td>100.0</td>\n",
       "      <td>16.66</td>\n",
       "      <td>11.44</td>\n",
       "      <td>...</td>\n",
       "      <td>3</td>\n",
       "      <td>7.2</td>\n",
       "      <td>NaN</td>\n",
       "      <td>NaN</td>\n",
       "      <td>11.6</td>\n",
       "      <td>3.0</td>\n",
       "      <td>1.8</td>\n",
       "      <td>2.4</td>\n",
       "      <td>1</td>\n",
       "      <td>Less</td>\n",
       "    </tr>\n",
       "    <tr>\n",
       "      <th>1</th>\n",
       "      <td>42.44</td>\n",
       "      <td>8.01</td>\n",
       "      <td>60.97</td>\n",
       "      <td>67.48</td>\n",
       "      <td>14.65</td>\n",
       "      <td>19.36</td>\n",
       "      <td>53.14</td>\n",
       "      <td>100.0</td>\n",
       "      <td>19.04</td>\n",
       "      <td>12.55</td>\n",
       "      <td>...</td>\n",
       "      <td>2</td>\n",
       "      <td>7.2</td>\n",
       "      <td>0.1</td>\n",
       "      <td>0.15</td>\n",
       "      <td>11.1</td>\n",
       "      <td>0.9</td>\n",
       "      <td>1.9</td>\n",
       "      <td>2.2</td>\n",
       "      <td>2</td>\n",
       "      <td>More</td>\n",
       "    </tr>\n",
       "    <tr>\n",
       "      <th>2</th>\n",
       "      <td>42.03</td>\n",
       "      <td>8.01</td>\n",
       "      <td>60.97</td>\n",
       "      <td>67.48</td>\n",
       "      <td>14.65</td>\n",
       "      <td>19.36</td>\n",
       "      <td>53.14</td>\n",
       "      <td>100.0</td>\n",
       "      <td>19.04</td>\n",
       "      <td>12.55</td>\n",
       "      <td>...</td>\n",
       "      <td>2</td>\n",
       "      <td>7.2</td>\n",
       "      <td>0.0</td>\n",
       "      <td>0.00</td>\n",
       "      <td>12.0</td>\n",
       "      <td>1.0</td>\n",
       "      <td>1.8</td>\n",
       "      <td>2.3</td>\n",
       "      <td>3</td>\n",
       "      <td>More</td>\n",
       "    </tr>\n",
       "    <tr>\n",
       "      <th>3</th>\n",
       "      <td>41.42</td>\n",
       "      <td>8.01</td>\n",
       "      <td>60.97</td>\n",
       "      <td>67.48</td>\n",
       "      <td>14.65</td>\n",
       "      <td>19.36</td>\n",
       "      <td>53.14</td>\n",
       "      <td>100.0</td>\n",
       "      <td>19.04</td>\n",
       "      <td>12.55</td>\n",
       "      <td>...</td>\n",
       "      <td>2</td>\n",
       "      <td>7.2</td>\n",
       "      <td>0.0</td>\n",
       "      <td>0.00</td>\n",
       "      <td>10.6</td>\n",
       "      <td>1.1</td>\n",
       "      <td>1.8</td>\n",
       "      <td>2.1</td>\n",
       "      <td>4</td>\n",
       "      <td>More</td>\n",
       "    </tr>\n",
       "    <tr>\n",
       "      <th>4</th>\n",
       "      <td>42.49</td>\n",
       "      <td>7.47</td>\n",
       "      <td>63.33</td>\n",
       "      <td>72.25</td>\n",
       "      <td>14.02</td>\n",
       "      <td>17.91</td>\n",
       "      <td>54.66</td>\n",
       "      <td>100.0</td>\n",
       "      <td>18.22</td>\n",
       "      <td>12.80</td>\n",
       "      <td>...</td>\n",
       "      <td>2</td>\n",
       "      <td>7.3</td>\n",
       "      <td>0.0</td>\n",
       "      <td>0.00</td>\n",
       "      <td>11.0</td>\n",
       "      <td>1.1</td>\n",
       "      <td>1.7</td>\n",
       "      <td>2.1</td>\n",
       "      <td>5</td>\n",
       "      <td>More</td>\n",
       "    </tr>\n",
       "  </tbody>\n",
       "</table>\n",
       "<p>5 rows × 60 columns</p>\n",
       "</div>"
      ],
      "text/plain": [
       "   Yield  BiologicalMaterial01  BiologicalMaterial02  BiologicalMaterial03  \\\n",
       "0  38.00                  6.25                 49.58                 56.97   \n",
       "1  42.44                  8.01                 60.97                 67.48   \n",
       "2  42.03                  8.01                 60.97                 67.48   \n",
       "3  41.42                  8.01                 60.97                 67.48   \n",
       "4  42.49                  7.47                 63.33                 72.25   \n",
       "\n",
       "   BiologicalMaterial04  BiologicalMaterial05  BiologicalMaterial06  \\\n",
       "0                 12.74                 19.51                 43.73   \n",
       "1                 14.65                 19.36                 53.14   \n",
       "2                 14.65                 19.36                 53.14   \n",
       "3                 14.65                 19.36                 53.14   \n",
       "4                 14.02                 17.91                 54.66   \n",
       "\n",
       "   BiologicalMaterial07  BiologicalMaterial08  BiologicalMaterial09  ...  \\\n",
       "0                 100.0                 16.66                 11.44  ...   \n",
       "1                 100.0                 19.04                 12.55  ...   \n",
       "2                 100.0                 19.04                 12.55  ...   \n",
       "3                 100.0                 19.04                 12.55  ...   \n",
       "4                 100.0                 18.22                 12.80  ...   \n",
       "\n",
       "   ManufacturingProcess38  ManufacturingProcess39  ManufacturingProcess40  \\\n",
       "0                       3                     7.2                     NaN   \n",
       "1                       2                     7.2                     0.1   \n",
       "2                       2                     7.2                     0.0   \n",
       "3                       2                     7.2                     0.0   \n",
       "4                       2                     7.3                     0.0   \n",
       "\n",
       "   ManufacturingProcess41  ManufacturingProcess42  ManufacturingProcess43  \\\n",
       "0                     NaN                    11.6                     3.0   \n",
       "1                    0.15                    11.1                     0.9   \n",
       "2                    0.00                    12.0                     1.0   \n",
       "3                    0.00                    10.6                     1.1   \n",
       "4                    0.00                    11.0                     1.1   \n",
       "\n",
       "   ManufacturingProcess44  ManufacturingProcess45  id  Yield_level  \n",
       "0                     1.8                     2.4   1         Less  \n",
       "1                     1.9                     2.2   2         More  \n",
       "2                     1.8                     2.3   3         More  \n",
       "3                     1.8                     2.1   4         More  \n",
       "4                     1.7                     2.1   5         More  \n",
       "\n",
       "[5 rows x 60 columns]"
      ]
     },
     "execution_count": 31,
     "metadata": {},
     "output_type": "execute_result"
    }
   ],
   "source": [
    "cmp.head()"
   ]
  },
  {
   "cell_type": "markdown",
   "id": "81728918",
   "metadata": {},
   "source": [
    "#### Task 3\n",
    "##### The observations of levels `Less` and  `More` of the `Yield_level` variable become the two independent samples.\n",
    "##### We want to check whether the variance of `ManufacturingProcess44` in these two independent samples are equal.\n",
    "##### The prevailing assumption is that there is no difference between the variance of these two independent samples.\n",
    "##### What is our null and alternative hypothesis?\n",
    "#### Result:\n"
   ]
  },
  {
   "cell_type": "code",
   "execution_count": 32,
   "id": "17bea040",
   "metadata": {},
   "outputs": [],
   "source": [
    "null_H = 'std of each set of independent samples are the same'\n",
    "alt_H = 'std of each set of independent samples are not the same'"
   ]
  },
  {
   "cell_type": "markdown",
   "id": "fd313fec",
   "metadata": {},
   "source": [
    "#### Task 4\n",
    "##### Subset the cmp data based on `Yield_level`, assign `ManufacturingProcess44` column with:\n"
   ]
  },
  {
   "cell_type": "code",
   "execution_count": 33,
   "id": "93e752e2",
   "metadata": {},
   "outputs": [],
   "source": [
    "# subsetting yield_level for more and less and selecting the manufacturing process 44 column\n",
    "yield_more = cmp[cmp['Yield_level'] == 'More']['ManufacturingProcess44']\n",
    "yield_less = cmp[cmp['Yield_level'] == 'Less']['ManufacturingProcess44']"
   ]
  },
  {
   "cell_type": "markdown",
   "id": "e4bbc27d",
   "metadata": {},
   "source": [
    "##### Calculate the f statistic by dividing the larger variance with lower variance and name it as `f_statistic`.\n",
    "#### Result:\n"
   ]
  },
  {
   "cell_type": "code",
   "execution_count": 34,
   "id": "a838a1b2",
   "metadata": {},
   "outputs": [
    {
     "name": "stdout",
     "output_type": "stream",
     "text": [
      "f_statistics: 2.7754443748765314\n"
     ]
    }
   ],
   "source": [
    "more_var = yield_more.var()\n",
    "less_var = yield_less.var()\n",
    "\n",
    "f_statistic = max(more_var,less_var)/min(more_var,less_var)\n",
    "print(f'f_statistics: {f_statistic}')"
   ]
  },
  {
   "cell_type": "markdown",
   "id": "bb0079c0",
   "metadata": {},
   "source": [
    "#### Task 5\n",
    "##### Conduct an f-test to check if the variance is equal between `ManufacturingProcess44` in more yield level and less yield level samples at alpha = 0.10 significance level. \n",
    "#### Result:\n"
   ]
  },
  {
   "cell_type": "code",
   "execution_count": 35,
   "id": "f5495b1d",
   "metadata": {},
   "outputs": [
    {
     "name": "stdout",
     "output_type": "stream",
     "text": [
      "Since our p value is lower than the alpha value, we can reject the null hypothesis. There does exist a difference in variance in `ManufacturingProcess44` between the two independent samples.\n"
     ]
    }
   ],
   "source": [
    "a = 0.1\n",
    "# Calculate f_test\n",
    "\n",
    "f_test = stats.f(dfd =len(yield_more)-1, dfn = len(yield_less)-1)\n",
    "\n",
    "# Calculate p-value\n",
    "\n",
    "p_value = 2*min(f_test.cdf(x = f_statistic), 1-f_test.cdf(x = f_statistic))\n",
    "p_value\n",
    "\n",
    "if(p_value < a):\n",
    "    print('Since our p value is lower than the alpha value, we can reject the null hypothesis. There does exist a difference in variance in `ManufacturingProcess44` between the two independent samples.')\n",
    "else:\n",
    "    print('Since our p value is greater than the alpha value, we fail to reject the null hypothesis. There does not exist a difference in variance in `ManufacturingProcess44` between the two independent samples.')\n",
    "\n"
   ]
  },
  {
   "cell_type": "code",
   "execution_count": null,
   "id": "8ef2d918-afe7-459b-bc1a-588720bbf03c",
   "metadata": {},
   "outputs": [],
   "source": []
  },
  {
   "cell_type": "code",
   "execution_count": null,
   "id": "fd7b53ef-8828-4d67-9ba1-bf46671c367b",
   "metadata": {},
   "outputs": [],
   "source": []
  }
 ],
 "metadata": {
  "kernelspec": {
   "display_name": "Python 3",
   "language": "python",
   "name": "python3"
  },
  "language": "python",
  "language_info": {
   "codemirror_mode": {
    "name": "ipython",
    "version": 3
   },
   "file_extension": ".py",
   "mimetype": "text/x-python",
   "name": "python",
   "nbconvert_exporter": "python",
   "pygments_lexer": "ipython3",
   "version": "3.7.12"
  }
 },
 "nbformat": 4,
 "nbformat_minor": 5
}
