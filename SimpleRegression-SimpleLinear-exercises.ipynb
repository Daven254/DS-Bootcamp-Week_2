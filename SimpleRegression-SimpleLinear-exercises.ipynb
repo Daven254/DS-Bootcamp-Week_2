{
 "cells": [
  {
   "cell_type": "code",
   "execution_count": null,
   "id": "344cda82",
   "metadata": {},
   "outputs": [],
   "source": []
  },
  {
   "cell_type": "markdown",
   "id": "afbe960b",
   "metadata": {},
   "source": [
    "#### Exercise ####\n"
   ]
  },
  {
   "cell_type": "markdown",
   "id": "79152ce9",
   "metadata": {},
   "source": [
    "#### Please refer to module 1 of SimpleRegression - SimpleLinear for Tasks 1-4\n",
    "#### Task 1\n",
    "##### Import the required packages.\n",
    "##### Set the working directory to data directory.\n",
    "##### Print the working directory.\n",
    "#### Result:\n"
   ]
  },
  {
   "cell_type": "code",
   "execution_count": 39,
   "id": "2907b3e8",
   "metadata": {},
   "outputs": [
    {
     "name": "stdout",
     "output_type": "stream",
     "text": [
      "/home/jovyan/TEDS-Jul2022/2/data\n",
      "['insurance.csv', '.ipynb_checkpoints', 'ChemicalManufacturingProcess.csv']\n"
     ]
    }
   ],
   "source": [
    "import os\n",
    "import numpy as np\n",
    "import pandas as pd\n",
    "import scipy\n",
    "from scipy import stats\n",
    "from pathlib import Path\n",
    "import matplotlib.pyplot as plt\n",
    "\n",
    "main_dir = Path(os.getcwd())\n",
    "home_dir = Path(\".\").resolve()\n",
    "home_dir = main_dir.parent\n",
    "\n",
    "data_dir = Path(str(main_dir) + '/data')\n",
    "\n",
    "print(data_dir)\n",
    "print(os.listdir(data_dir))\n",
    "\n",
    "df = pd.read_csv(str(data_dir)+'/insurance.csv')\n"
   ]
  },
  {
   "cell_type": "markdown",
   "id": "a45ef2a0",
   "metadata": {},
   "source": [
    "#### Task 2\n",
    "##### Read in our dataset called `insurance.csv`. Save it as `ex_data`.\n",
    "##### Print the head of `ex_data`.\n",
    "##### Print the type and length of `ex_data`.\n",
    "##### Save the shape of the DataFrame into two variables `nrow` and `ncol` and print them.\n",
    "#### Result:\n"
   ]
  },
  {
   "cell_type": "code",
   "execution_count": 40,
   "id": "f38bcf52-8008-4d8d-ad4d-d27074f51f15",
   "metadata": {},
   "outputs": [],
   "source": [
    "ex_data = df"
   ]
  },
  {
   "cell_type": "code",
   "execution_count": 41,
   "id": "b99c2f9a",
   "metadata": {},
   "outputs": [
    {
     "name": "stdout",
     "output_type": "stream",
     "text": [
      "length of df: 1337\n",
      "type of df: <class 'pandas.core.frame.DataFrame'>\n"
     ]
    }
   ],
   "source": [
    "ex_data = df.set_index('id')\n",
    "\n",
    "print('length of df:',ex_data.shape[0])\n",
    "print('type of df:', type(ex_data))\n",
    "\n",
    "nrow,ncol = ex_data.shape"
   ]
  },
  {
   "cell_type": "markdown",
   "id": "a69d4662",
   "metadata": {},
   "source": [
    "#### Task 3\n",
    "##### Subset two variables for single variable regression : `'age'` and `charges`.\n",
    "##### Save the subset to a new variable `ex_regression` and print its head.\n",
    "##### Print the summary statistics of both the variables in `ex_regression`.\n",
    "#### Result:\n"
   ]
  },
  {
   "cell_type": "code",
   "execution_count": 42,
   "id": "01da792f",
   "metadata": {},
   "outputs": [
    {
     "name": "stdout",
     "output_type": "stream",
     "text": [
      "   age      charges\n",
      "0   19  16884.92400\n",
      "1   18   1725.55230\n",
      "2   28   4449.46200\n",
      "3   33  21984.47061\n",
      "4   32   3866.85520\n",
      "               age       charges\n",
      "count  1337.000000   1337.000000\n",
      "mean     39.222139  13279.121487\n",
      "std      14.044333  12110.359656\n",
      "min      18.000000   1121.873900\n",
      "25%      27.000000   4746.344000\n",
      "50%      39.000000   9386.161300\n",
      "75%      51.000000  16657.717450\n",
      "max      64.000000  63770.428010\n"
     ]
    }
   ],
   "source": [
    "ex_regression = df[['age','charges']]\n",
    "\n",
    "print(ex_regression.head())\n",
    "\n",
    "print(ex_regression.describe())"
   ]
  },
  {
   "cell_type": "markdown",
   "id": "b803b73f",
   "metadata": {},
   "source": [
    "#### Task 4\n",
    "##### Find the covariance between the variables in the insurance.csv. Is it useful to determine their relationship?\n",
    "##### Calculate the correlation of `ex_regression` and save it as a correlation matrix `ex_cor`.\n",
    "#### Result:\n"
   ]
  },
  {
   "cell_type": "code",
   "execution_count": 43,
   "id": "798fe171",
   "metadata": {},
   "outputs": [
    {
     "data": {
      "text/html": [
       "<div>\n",
       "<style scoped>\n",
       "    .dataframe tbody tr th:only-of-type {\n",
       "        vertical-align: middle;\n",
       "    }\n",
       "\n",
       "    .dataframe tbody tr th {\n",
       "        vertical-align: top;\n",
       "    }\n",
       "\n",
       "    .dataframe thead th {\n",
       "        text-align: right;\n",
       "    }\n",
       "</style>\n",
       "<table border=\"1\" class=\"dataframe\">\n",
       "  <thead>\n",
       "    <tr style=\"text-align: right;\">\n",
       "      <th></th>\n",
       "      <th>age</th>\n",
       "      <th>bmi</th>\n",
       "      <th>children</th>\n",
       "      <th>charges</th>\n",
       "    </tr>\n",
       "  </thead>\n",
       "  <tbody>\n",
       "    <tr>\n",
       "      <th>age</th>\n",
       "      <td>197.243282</td>\n",
       "      <td>9.368233</td>\n",
       "      <td>0.703268</td>\n",
       "      <td>5.073683e+04</td>\n",
       "    </tr>\n",
       "    <tr>\n",
       "      <th>bmi</th>\n",
       "      <td>9.368233</td>\n",
       "      <td>37.215715</td>\n",
       "      <td>0.093805</td>\n",
       "      <td>1.465763e+04</td>\n",
       "    </tr>\n",
       "    <tr>\n",
       "      <th>children</th>\n",
       "      <td>0.703268</td>\n",
       "      <td>0.093805</td>\n",
       "      <td>1.453402</td>\n",
       "      <td>9.838780e+02</td>\n",
       "    </tr>\n",
       "    <tr>\n",
       "      <th>charges</th>\n",
       "      <td>50736.833698</td>\n",
       "      <td>14657.628526</td>\n",
       "      <td>983.878025</td>\n",
       "      <td>1.466608e+08</td>\n",
       "    </tr>\n",
       "  </tbody>\n",
       "</table>\n",
       "</div>"
      ],
      "text/plain": [
       "                   age           bmi    children       charges\n",
       "age         197.243282      9.368233    0.703268  5.073683e+04\n",
       "bmi           9.368233     37.215715    0.093805  1.465763e+04\n",
       "children      0.703268      0.093805    1.453402  9.838780e+02\n",
       "charges   50736.833698  14657.628526  983.878025  1.466608e+08"
      ]
     },
     "execution_count": 43,
     "metadata": {},
     "output_type": "execute_result"
    }
   ],
   "source": [
    "ex_data.cov()"
   ]
  },
  {
   "cell_type": "code",
   "execution_count": 44,
   "id": "9471206e-e243-4796-9949-6626825c3037",
   "metadata": {},
   "outputs": [
    {
     "data": {
      "text/html": [
       "<div>\n",
       "<style scoped>\n",
       "    .dataframe tbody tr th:only-of-type {\n",
       "        vertical-align: middle;\n",
       "    }\n",
       "\n",
       "    .dataframe tbody tr th {\n",
       "        vertical-align: top;\n",
       "    }\n",
       "\n",
       "    .dataframe thead th {\n",
       "        text-align: right;\n",
       "    }\n",
       "</style>\n",
       "<table border=\"1\" class=\"dataframe\">\n",
       "  <thead>\n",
       "    <tr style=\"text-align: right;\">\n",
       "      <th></th>\n",
       "      <th>age</th>\n",
       "      <th>charges</th>\n",
       "    </tr>\n",
       "  </thead>\n",
       "  <tbody>\n",
       "    <tr>\n",
       "      <th>age</th>\n",
       "      <td>1.000000</td>\n",
       "      <td>0.298308</td>\n",
       "    </tr>\n",
       "    <tr>\n",
       "      <th>charges</th>\n",
       "      <td>0.298308</td>\n",
       "      <td>1.000000</td>\n",
       "    </tr>\n",
       "  </tbody>\n",
       "</table>\n",
       "</div>"
      ],
      "text/plain": [
       "              age   charges\n",
       "age      1.000000  0.298308\n",
       "charges  0.298308  1.000000"
      ]
     },
     "execution_count": 44,
     "metadata": {},
     "output_type": "execute_result"
    }
   ],
   "source": [
    "ex_corr = ex_regression.corr()\n",
    "ex_corr"
   ]
  },
  {
   "cell_type": "markdown",
   "id": "d80a211d-3a99-436e-b44b-6244218b4647",
   "metadata": {},
   "source": [
    "#### Please refer to module 2 of SimpleRegression - SimpleLinear for Tasks 5-7\n",
    "#### Task 5\n",
    "##### We will be predicting `charges`,which makes it our target variable (y) , and we will use `'age'`.\n",
    "##### Create a scatter plot of the two variables using the `matplotlib` package.\n",
    "##### Create histograms for each variable.\n",
    "#### Result:\n"
   ]
  },
  {
   "cell_type": "code",
   "execution_count": 45,
   "id": "1db2636b",
   "metadata": {},
   "outputs": [
    {
     "name": "stdout",
     "output_type": "stream",
     "text": [
      "age        0\n",
      "charges    0\n",
      "dtype: int64\n"
     ]
    },
    {
     "data": {
      "image/png": "[encoded data removed]",
      "text/plain": [
       "<Figure size 432x288 with 1 Axes>"
      ]
     },
     "metadata": {
      "needs_background": "light"
     },
     "output_type": "display_data"
    },
    {
     "data": {
      "image/png": "[encoded data removed]",
      "text/plain": [
       "<Figure size 432x288 with 1 Axes>"
      ]
     },
     "metadata": {
      "needs_background": "light"
     },
     "output_type": "display_data"
    },
    {
     "data": {
      "image/png": "[encoded data removed]",
      "text/plain": [
       "<Figure size 432x288 with 1 Axes>"
      ]
     },
     "metadata": {
      "needs_background": "light"
     },
     "output_type": "display_data"
    }
   ],
   "source": [
    "import matplotlib.pyplot as plt\n",
    "print(ex_regression.isna().sum())\n",
    "\n",
    "plt.scatter(ex_regression['age'],ex_regression['charges'])\n",
    "plt.xlabel('age')\n",
    "plt.ylabel('charges')\n",
    "plt.show()\n",
    "plt.close()\n",
    "\n",
    "plt.hist(ex_regression['age'])\n",
    "plt.xlabel('age')\n",
    "plt.show()\n",
    "plt.close()\n",
    "\n",
    "\n",
    "\n",
    "\n",
    "plt.hist(ex_regression['charges'])\n",
    "plt.xlabel('charges')\n",
    "plt.show()\n",
    "plt.close()\n",
    "\n"
   ]
  },
  {
   "cell_type": "markdown",
   "id": "887bcfe7",
   "metadata": {},
   "source": [
    "#### Task 6\n",
    "##### Check the  number of NAs in `'age'` and `charges`.\n",
    "##### Print the rows for each  variable that have NAs.\n",
    "##### Impute the NAs with mean if needed.\n",
    "#### Result:\n"
   ]
  },
  {
   "cell_type": "code",
   "execution_count": 46,
   "id": "b38a57a1",
   "metadata": {},
   "outputs": [],
   "source": [
    "# checking for NAs was done in the above cell\n",
    "# there are no NA values to remove/fill\n",
    "\n",
    "for x in ex_regression:\n",
    "    mean_val = ex_regression[x].mean()\n",
    "    ex_data[x].fillna(mean_val)"
   ]
  },
  {
   "cell_type": "markdown",
   "id": "20df1ba5",
   "metadata": {},
   "source": [
    "#### Task 7\n",
    "##### Instantiate the `VarianceThreshold` function to look for low variance within the columns.\n",
    "##### Name the cleaned dataset `ex_regression_clean` and check its dimensions.\n",
    "#### Result:\n"
   ]
  },
  {
   "cell_type": "code",
   "execution_count": 47,
   "id": "7ee75ebf",
   "metadata": {},
   "outputs": [
    {
     "name": "stdout",
     "output_type": "stream",
     "text": [
      "(1337, 2)\n",
      "(1337, 2)\n"
     ]
    }
   ],
   "source": [
    "from sklearn.feature_selection import VarianceThreshold\n",
    "\n",
    "selector = VarianceThreshold()\n",
    "ex_regression_clean = selector.fit_transform(ex_regression)\n",
    "print(ex_regression.shape)\n",
    "print(ex_regression_clean.shape)\n",
    "\n"
   ]
  },
  {
   "cell_type": "markdown",
   "id": "24a60717",
   "metadata": {},
   "source": [
    "#### Please refer to module 3 of SimpleRegression - SimpleLinear for Tasks 8-13\n",
    "#### Task 8\n",
    "##### Create two DataFrames, `X` and `Y` , with `X` having the independent variable `'age'`,\n",
    "##### and `Y` the dependent variable `charges`.\n",
    "##### Add the constant term for the intercept to `X`.\n",
    "#### Result:\n"
   ]
  },
  {
   "cell_type": "code",
   "execution_count": 48,
   "id": "f6cd111c",
   "metadata": {},
   "outputs": [
    {
     "data": {
      "text/html": [
       "<div>\n",
       "<style scoped>\n",
       "    .dataframe tbody tr th:only-of-type {\n",
       "        vertical-align: middle;\n",
       "    }\n",
       "\n",
       "    .dataframe tbody tr th {\n",
       "        vertical-align: top;\n",
       "    }\n",
       "\n",
       "    .dataframe thead th {\n",
       "        text-align: right;\n",
       "    }\n",
       "</style>\n",
       "<table border=\"1\" class=\"dataframe\">\n",
       "  <thead>\n",
       "    <tr style=\"text-align: right;\">\n",
       "      <th></th>\n",
       "      <th>const</th>\n",
       "      <th>age</th>\n",
       "    </tr>\n",
       "  </thead>\n",
       "  <tbody>\n",
       "    <tr>\n",
       "      <th>0</th>\n",
       "      <td>1.0</td>\n",
       "      <td>19</td>\n",
       "    </tr>\n",
       "    <tr>\n",
       "      <th>1</th>\n",
       "      <td>1.0</td>\n",
       "      <td>18</td>\n",
       "    </tr>\n",
       "    <tr>\n",
       "      <th>2</th>\n",
       "      <td>1.0</td>\n",
       "      <td>28</td>\n",
       "    </tr>\n",
       "    <tr>\n",
       "      <th>3</th>\n",
       "      <td>1.0</td>\n",
       "      <td>33</td>\n",
       "    </tr>\n",
       "    <tr>\n",
       "      <th>4</th>\n",
       "      <td>1.0</td>\n",
       "      <td>32</td>\n",
       "    </tr>\n",
       "    <tr>\n",
       "      <th>...</th>\n",
       "      <td>...</td>\n",
       "      <td>...</td>\n",
       "    </tr>\n",
       "    <tr>\n",
       "      <th>1332</th>\n",
       "      <td>1.0</td>\n",
       "      <td>50</td>\n",
       "    </tr>\n",
       "    <tr>\n",
       "      <th>1333</th>\n",
       "      <td>1.0</td>\n",
       "      <td>18</td>\n",
       "    </tr>\n",
       "    <tr>\n",
       "      <th>1334</th>\n",
       "      <td>1.0</td>\n",
       "      <td>18</td>\n",
       "    </tr>\n",
       "    <tr>\n",
       "      <th>1335</th>\n",
       "      <td>1.0</td>\n",
       "      <td>21</td>\n",
       "    </tr>\n",
       "    <tr>\n",
       "      <th>1336</th>\n",
       "      <td>1.0</td>\n",
       "      <td>61</td>\n",
       "    </tr>\n",
       "  </tbody>\n",
       "</table>\n",
       "<p>1337 rows × 2 columns</p>\n",
       "</div>"
      ],
      "text/plain": [
       "      const  age\n",
       "0       1.0   19\n",
       "1       1.0   18\n",
       "2       1.0   28\n",
       "3       1.0   33\n",
       "4       1.0   32\n",
       "...     ...  ...\n",
       "1332    1.0   50\n",
       "1333    1.0   18\n",
       "1334    1.0   18\n",
       "1335    1.0   21\n",
       "1336    1.0   61\n",
       "\n",
       "[1337 rows x 2 columns]"
      ]
     },
     "execution_count": 48,
     "metadata": {},
     "output_type": "execute_result"
    }
   ],
   "source": [
    "import statsmodels.api as sm\n",
    "\n",
    "Y = pd.DataFrame(ex_regression['charges'].fillna(ex_regression['charges'].mean()))\n",
    "X = pd.DataFrame(ex_regression['age'].fillna(ex_regression['age'].mean()))\n",
    "X = sm.add_constant(X)\n",
    "\n",
    "X"
   ]
  },
  {
   "cell_type": "markdown",
   "id": "be807e98",
   "metadata": {},
   "source": [
    "#### Task 9\n",
    "##### Set the random seed to 1 using the `np.random.seed()` function.\n",
    "##### Implement the linear model using `sm.OLS()`. Save the model to `ex_model`.\n",
    "##### Print the model summary of `ex_model`.\n",
    "#### Result:\n"
   ]
  },
  {
   "cell_type": "code",
   "execution_count": 49,
   "id": "54e79bac",
   "metadata": {},
   "outputs": [
    {
     "name": "stdout",
     "output_type": "stream",
     "text": [
      "                            OLS Regression Results                            \n",
      "==============================================================================\n",
      "Dep. Variable:                charges   R-squared:                       0.089\n",
      "Model:                            OLS   Adj. R-squared:                  0.088\n",
      "Method:                 Least Squares   F-statistic:                     130.4\n",
      "Date:                Wed, 03 Aug 2022   Prob (F-statistic):           6.98e-29\n",
      "Time:                        15:57:49   Log-Likelihood:                -14405.\n",
      "No. Observations:                1337   AIC:                         2.881e+04\n",
      "Df Residuals:                    1335   BIC:                         2.882e+04\n",
      "Df Model:                           1                                         \n",
      "Covariance Type:            nonrobust                                         \n",
      "==============================================================================\n",
      "                 coef    std err          t      P>|t|      [0.025      0.975]\n",
      "------------------------------------------------------------------------------\n",
      "const       3190.0217    938.396      3.399      0.001    1349.130    5030.913\n",
      "age          257.2297     22.526     11.419      0.000     213.040     301.419\n",
      "==============================================================================\n",
      "Omnibus:                      398.876   Durbin-Watson:                   2.034\n",
      "Prob(Omnibus):                  0.000   Jarque-Bera (JB):              861.815\n",
      "Skew:                           1.731   Prob(JB):                    7.23e-188\n",
      "Kurtosis:                       4.865   Cond. No.                         124.\n",
      "==============================================================================\n",
      "\n",
      "Notes:\n",
      "[1] Standard Errors assume that the covariance matrix of the errors is correctly specified.\n"
     ]
    }
   ],
   "source": [
    "# Build the model.\n",
    "ex_model = sm.OLS(Y, X).fit()\n",
    "print(ex_model.summary())"
   ]
  },
  {
   "cell_type": "markdown",
   "id": "77370c0a",
   "metadata": {},
   "source": [
    "#### Task 10\n",
    "##### Add the linear model to the scatter plot we created before using `abline_plot`.\n",
    "##### Implement the scatter plot. \n",
    "#### Result:\n"
   ]
  },
  {
   "cell_type": "code",
   "execution_count": 50,
   "id": "adebdf23",
   "metadata": {},
   "outputs": [
    {
     "data": {
      "text/plain": [
       "<matplotlib.collections.PathCollection at 0x7f360f38e8d0>"
      ]
     },
     "execution_count": 50,
     "metadata": {},
     "output_type": "execute_result"
    },
    {
     "data": {
      "image/png": "[encoded data removed]",
      "text/plain": [
       "<Figure size 432x288 with 1 Axes>"
      ]
     },
     "metadata": {
      "needs_background": "light"
     },
     "output_type": "display_data"
    }
   ],
   "source": [
    "fig = sm.graphics.abline_plot(model_results = ex_model)\n",
    "ax = fig.axes[0]\n",
    "\n",
    "plt.scatter(X['age'],Y['charges'])\n",
    "\n",
    "\n"
   ]
  },
  {
   "cell_type": "markdown",
   "id": "e1cabae8",
   "metadata": {},
   "source": [
    "#### Task 11\n",
    "##### Inspect the results of the model.\n",
    "#### Result:\n"
   ]
  },
  {
   "cell_type": "code",
   "execution_count": 51,
   "id": "798859da",
   "metadata": {},
   "outputs": [],
   "source": [
    "# There appears to be clustering of sorts. 3 distinct groupings"
   ]
  },
  {
   "cell_type": "markdown",
   "id": "ce692a6b",
   "metadata": {},
   "source": [
    "#### Task 12\n",
    "##### Find the residual standard error of the model `ex_model`.\n",
    "#### Result:\n"
   ]
  },
  {
   "cell_type": "code",
   "execution_count": 52,
   "id": "37a0835c",
   "metadata": {},
   "outputs": [
    {
     "name": "stdout",
     "output_type": "stream",
     "text": [
      "11563.29848467114\n"
     ]
    }
   ],
   "source": [
    "print(np.sqrt(ex_model.scale))\n"
   ]
  },
  {
   "cell_type": "markdown",
   "id": "4604dc04",
   "metadata": {},
   "source": [
    "#### Task 13\n",
    "##### What is the R-squared in our model? \n",
    "#### Result:\n"
   ]
  },
  {
   "cell_type": "code",
   "execution_count": 53,
   "id": "1d936b8d-edd1-4d03-9a5c-d17d7e4e1ebd",
   "metadata": {},
   "outputs": [
    {
     "name": "stdout",
     "output_type": "stream",
     "text": [
      "0.08898778965078402\n"
     ]
    }
   ],
   "source": [
    "print(ex_model.rsquared)"
   ]
  },
  {
   "cell_type": "markdown",
   "id": "c674b47f",
   "metadata": {},
   "source": [
    "#### Please refer to module 4 of SimpleRegression - SimpleLinear for Tasks 14-20\n",
    "#### Task 14\n",
    "##### Find the fitted values from our linear model and save it to `ex_fitted`. Print its head.\n",
    "##### Find the residuals similarly and save it to `ex_residuals`. \n",
    "#### Result:\n"
   ]
  },
  {
   "cell_type": "code",
   "execution_count": 54,
   "id": "71cb7e84",
   "metadata": {},
   "outputs": [
    {
     "data": {
      "text/plain": [
       "0     8077.386354\n",
       "1     7820.156636\n",
       "2    10392.453812\n",
       "3    11678.602399\n",
       "4    11421.372682\n",
       "dtype: float64"
      ]
     },
     "execution_count": 54,
     "metadata": {},
     "output_type": "execute_result"
    }
   ],
   "source": [
    "ex_fitted = ex_model.fittedvalues\n",
    "ex_fitted.head()\n"
   ]
  },
  {
   "cell_type": "code",
   "execution_count": 55,
   "id": "8c0da456-54bb-4bbc-b184-d65fc84fe99e",
   "metadata": {},
   "outputs": [
    {
     "name": "stdout",
     "output_type": "stream",
     "text": [
      "0        8807.537646\n",
      "1       -6094.604336\n",
      "2       -5942.991812\n",
      "3       10305.868211\n",
      "4       -7554.517482\n",
      "            ...     \n",
      "1332    -5450.959297\n",
      "1333    -5614.175836\n",
      "1334    -6190.323136\n",
      "1335    -6583.900789\n",
      "1336    10260.325810\n",
      "Length: 1337, dtype: float64\n"
     ]
    }
   ],
   "source": [
    "ex_residuals = ex_model.resid\n",
    "print(ex_residuals)"
   ]
  },
  {
   "cell_type": "markdown",
   "id": "1869e238",
   "metadata": {},
   "source": [
    "#### Task 15\n",
    "##### Import `seaborn` package as `sns`.\n",
    "##### Plot the residuals against the fitted values to test that the relationship between the predictor and response variable is linear.\n",
    "#### Result:\n"
   ]
  },
  {
   "cell_type": "code",
   "execution_count": 56,
   "id": "51eff409",
   "metadata": {},
   "outputs": [
    {
     "name": "stderr",
     "output_type": "stream",
     "text": [
      "/opt/conda/lib/python3.7/site-packages/seaborn/_decorators.py:43: FutureWarning: Pass the following variables as keyword args: x, y. From version 0.12, the only valid positional argument will be `data`, and passing other arguments without an explicit keyword will result in an error or misinterpretation.\n",
      "  FutureWarning\n"
     ]
    },
    {
     "data": {
      "text/plain": [
       "Text(0.5, 1.0, 'Residuals based on Fitted values from Age vs Charges Data')"
      ]
     },
     "execution_count": 56,
     "metadata": {},
     "output_type": "execute_result"
    },
    {
     "data": {
      "image/png": "[encoded data removed]",
      "text/plain": [
       "<Figure size 432x288 with 1 Axes>"
      ]
     },
     "metadata": {
      "needs_background": "light"
     },
     "output_type": "display_data"
    }
   ],
   "source": [
    "import seaborn as sns\n",
    "\n",
    "sns.residplot(ex_fitted, 'charges', \n",
    "                    data=ex_data, \n",
    "                    lowess = True, \n",
    "                    scatter_kws = {'alpha': 0.3},\n",
    "                    line_kws = {'color': 'red', 'lw': 1, 'alpha': 0.9})\n",
    "\n",
    "#sns.scatterplot(x = ex_fitted, y = ex_residuals)\n",
    "plt.xlabel('fitted values')\n",
    "plt.ylabel('residuals')\n",
    "\n",
    "plt.title('Residuals based on Fitted values from Age vs Charges Data')"
   ]
  },
  {
   "cell_type": "markdown",
   "id": "390f8888",
   "metadata": {},
   "source": [
    "#### Task 16\n",
    "##### Test that the residuals are normally distributed.\n",
    "##### Create a plot using `ProbPlot`.\n",
    "#### Result:\n"
   ]
  },
  {
   "cell_type": "code",
   "execution_count": 57,
   "id": "6926b2e3",
   "metadata": {},
   "outputs": [
    {
     "data": {
      "image/png": "[encoded data removed]",
      "text/plain": [
       "<Figure size 432x288 with 1 Axes>"
      ]
     },
     "metadata": {
      "needs_background": "light"
     },
     "output_type": "display_data"
    }
   ],
   "source": [
    "from statsmodels.graphics.gofplots import ProbPlot\n",
    "\n",
    "model_norm_residuals = ex_model.get_influence().resid_studentized_internal\n",
    "QQ = ProbPlot(model_norm_residuals)\n",
    "plot_lm_2 = QQ.qqplot(line= 's', alpha = 0.5, color = '#4C72B0', lw = 1)\n"
   ]
  },
  {
   "cell_type": "markdown",
   "id": "f0482c2a",
   "metadata": {},
   "source": [
    "#### Task 17\n",
    "##### Test that the residuals have equal variance.\n",
    "#### Result:\n"
   ]
  },
  {
   "cell_type": "code",
   "execution_count": 58,
   "id": "d3bb0d84",
   "metadata": {},
   "outputs": [
    {
     "name": "stderr",
     "output_type": "stream",
     "text": [
      "/opt/conda/lib/python3.7/site-packages/seaborn/_decorators.py:43: FutureWarning: Pass the following variables as keyword args: x, y. From version 0.12, the only valid positional argument will be `data`, and passing other arguments without an explicit keyword will result in an error or misinterpretation.\n",
      "  FutureWarning\n"
     ]
    },
    {
     "data": {
      "text/plain": [
       "<AxesSubplot:>"
      ]
     },
     "execution_count": 58,
     "metadata": {},
     "output_type": "execute_result"
    },
    {
     "data": {
      "image/png": "[encoded data removed]",
      "text/plain": [
       "<Figure size 432x288 with 1 Axes>"
      ]
     },
     "metadata": {
      "needs_background": "light"
     },
     "output_type": "display_data"
    }
   ],
   "source": [
    "model_norm_residuals_abs_sqrt = np.sqrt(np.abs(model_norm_residuals))\n",
    "\n",
    "plt.scatter(ex_fitted, model_norm_residuals_abs_sqrt, alpha = 0.2)\n",
    "\n",
    "sns.regplot(ex_fitted, model_norm_residuals_abs_sqrt,\n",
    "            scatter = False, \n",
    "            ci = False, \n",
    "            lowess = True,\n",
    "            line_kws = {'color': 'red', 'lw': 1, 'alpha': 1})"
   ]
  },
  {
   "cell_type": "markdown",
   "id": "a569e100",
   "metadata": {},
   "source": [
    "#### Task 18\n",
    "##### Test our data for outliers using `statsmodel.outlier_test()`. Save it to `ex_test`.\n",
    "##### Save the final outliers to `ex_test_final`.\n",
    "##### Remove the outliers from our original dataset and save the dataset as `ex_no_outliers`. \n",
    "##### Print the shape of the new dataset `ex_no_outliers`.\n",
    "#### Result:\n"
   ]
  },
  {
   "cell_type": "code",
   "execution_count": 61,
   "id": "4fc09c6a",
   "metadata": {},
   "outputs": [
    {
     "name": "stdout",
     "output_type": "stream",
     "text": [
      "      student_resid   unadj_p  bonf(p)\n",
      "0          0.762438  0.445933      1.0\n",
      "1         -0.527571  0.597885      1.0\n",
      "2         -0.514127  0.607249      1.0\n",
      "3          0.891587  0.372775      1.0\n",
      "4         -0.653487  0.513555      1.0\n",
      "...             ...       ...      ...\n",
      "1332      -0.471545  0.637329      1.0\n",
      "1333      -0.485975  0.627064      1.0\n",
      "1334      -0.535858  0.592146      1.0\n",
      "1335      -0.569807  0.568904      1.0\n",
      "1336       0.888381  0.374496      1.0\n",
      "\n",
      "[1337 rows x 3 columns]\n",
      "(1337, 2)\n",
      "      student_resid   unadj_p   bonf(p)\n",
      "1299       4.163193  0.000033  0.044649\n",
      "(1336, 2)\n"
     ]
    }
   ],
   "source": [
    "ex_test = ex_model.outlier_test(method='bonf', alpha=0.05)\n",
    "\n",
    "print(ex_test)\n",
    "\n",
    "print(ex_regression.shape)\n",
    "bonf_p_col = ex_test['bonf(p)']\n",
    "ex_test_final = ex_test[bonf_p_col < 0.05]\n",
    "print(ex_test_final)\n",
    "ex_no_outliers = ex_regression.drop(ex_test_final.index)\n",
    "print(ex_no_outliers.shape)"
   ]
  },
  {
   "cell_type": "markdown",
   "id": "953581a4",
   "metadata": {},
   "source": [
    "#### Task 19\n",
    "##### Now try to rerun the model on this new dataset `ex_no_outliers`.\n",
    "##### Once we slice a DataFrame, we cannot slice it again or change the values.\n",
    "##### Hence, we separate the columns, `'age'` as `X2` and `charges` as `y2`, using the column names and convert it to a DataFrame.\n",
    "#### Result:\n"
   ]
  },
  {
   "cell_type": "code",
   "execution_count": 73,
   "id": "22609063",
   "metadata": {},
   "outputs": [
    {
     "name": "stdout",
     "output_type": "stream",
     "text": [
      "                            OLS Regression Results                            \n",
      "==============================================================================\n",
      "Dep. Variable:                charges   R-squared:                       0.089\n",
      "Model:                            OLS   Adj. R-squared:                  0.089\n",
      "Method:                 Least Squares   F-statistic:                     130.9\n",
      "Date:                Wed, 03 Aug 2022   Prob (F-statistic):           5.55e-29\n",
      "Time:                        16:06:07   Log-Likelihood:                -14386.\n",
      "No. Observations:                1336   AIC:                         2.878e+04\n",
      "Df Residuals:                    1334   BIC:                         2.879e+04\n",
      "Df Model:                           1                                         \n",
      "Covariance Type:            nonrobust                                         \n",
      "==============================================================================\n",
      "                 coef    std err          t      P>|t|      [0.025      0.975]\n",
      "------------------------------------------------------------------------------\n",
      "const       3195.3850    932.709      3.426      0.001    1365.649    5025.121\n",
      "age          256.1801     22.391     11.441      0.000     212.256     300.105\n",
      "==============================================================================\n",
      "Omnibus:                      392.881   Durbin-Watson:                   2.048\n",
      "Prob(Omnibus):                  0.000   Jarque-Bera (JB):              836.033\n",
      "Skew:                           1.720   Prob(JB):                    2.87e-182\n",
      "Kurtosis:                       4.785   Cond. No.                         124.\n",
      "==============================================================================\n",
      "\n",
      "Notes:\n",
      "[1] Standard Errors assume that the covariance matrix of the errors is correctly specified.\n"
     ]
    }
   ],
   "source": [
    "X2 = ex_no_outliers['age']\n",
    "Y2 = ex_no_outliers['charges']\n",
    "\n",
    "X2 = sm.add_constant(X2)\n",
    "\n",
    "ex_model_2 = sm.OLS(Y2,X2).fit()\n",
    "print(ex_model_2.summary())"
   ]
  },
  {
   "cell_type": "markdown",
   "id": "d620b275",
   "metadata": {},
   "source": [
    "#### Task 20\n",
    "##### Evaluate the new model `ex_model2`. Does this model perform better than the previous one?\n",
    "#### Result:\n"
   ]
  },
  {
   "cell_type": "code",
   "execution_count": 75,
   "id": "b7129ad9",
   "metadata": {},
   "outputs": [
    {
     "data": {
      "image/png": "[encoded data removed]",
      "text/plain": [
       "<Figure size 432x288 with 1 Axes>"
      ]
     },
     "metadata": {
      "needs_background": "light"
     },
     "output_type": "display_data"
    }
   ],
   "source": [
    "model_norm_residuals = ex_model_2.get_influence().resid_studentized_internal\n",
    "QQ = ProbPlot(model_norm_residuals)\n",
    "plot_lm_2 = QQ.qqplot(line= 's', alpha = 0.5, color = '#4C72B0', lw = 1)\n"
   ]
  },
  {
   "cell_type": "code",
   "execution_count": 76,
   "id": "49cfbd28-e2a6-402b-bba6-c36924041b50",
   "metadata": {},
   "outputs": [
    {
     "name": "stderr",
     "output_type": "stream",
     "text": [
      "/opt/conda/lib/python3.7/site-packages/seaborn/_decorators.py:43: FutureWarning: Pass the following variables as keyword args: x, y. From version 0.12, the only valid positional argument will be `data`, and passing other arguments without an explicit keyword will result in an error or misinterpretation.\n",
      "  FutureWarning\n"
     ]
    },
    {
     "data": {
      "text/plain": [
       "<AxesSubplot:ylabel='charges'>"
      ]
     },
     "execution_count": 76,
     "metadata": {},
     "output_type": "execute_result"
    },
    {
     "data": {
      "image/png": "[encoded data removed]",
      "text/plain": [
       "<Figure size 432x288 with 1 Axes>"
      ]
     },
     "metadata": {
      "needs_background": "light"
     },
     "output_type": "display_data"
    }
   ],
   "source": [
    "ex_fitted_2 = ex_model_2.fittedvalues\n",
    "sns.residplot(ex_fitted, 'charges', \n",
    "                    data=ex_data, \n",
    "                    lowess = True, \n",
    "                    scatter_kws = {'alpha': 0.3},\n",
    "                    line_kws = {'color': 'red', 'lw': 1, 'alpha': 0.9})"
   ]
  },
  {
   "cell_type": "markdown",
   "id": "446c074c-bd5d-4dce-954d-fa6022739332",
   "metadata": {},
   "source": [
    "The p value for the f-stat is greater, which makes this model not as good\n",
    "\n",
    "The p values associated with the t statistic is about the same as the original model\n",
    "\n",
    "The p value of the JB test is also low for both, but lower for the original plot, which shows that the residuals are better for the new model"
   ]
  },
  {
   "cell_type": "code",
   "execution_count": null,
   "id": "47b54162-61ff-481b-8396-83ac6c2894b4",
   "metadata": {},
   "outputs": [],
   "source": []
  }
 ],
 "metadata": {
  "kernelspec": {
   "display_name": "Python 3",
   "language": "python",
   "name": "python3"
  },
  "language": "python",
  "language_info": {
   "codemirror_mode": {
    "name": "ipython",
    "version": 3
   },
   "file_extension": ".py",
   "mimetype": "text/x-python",
   "name": "python",
   "nbconvert_exporter": "python",
   "pygments_lexer": "ipython3",
   "version": "3.7.12"
  }
 },
 "nbformat": 4,
 "nbformat_minor": 5
}
