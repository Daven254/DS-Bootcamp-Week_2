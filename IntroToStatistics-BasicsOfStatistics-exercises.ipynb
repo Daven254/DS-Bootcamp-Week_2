{
 "cells": [
  {
   "cell_type": "code",
   "execution_count": null,
   "metadata": {},
   "outputs": [],
   "source": []
  },
  {
   "cell_type": "markdown",
   "metadata": {},
   "source": [
    "#### Exercise ####\n"
   ]
  },
  {
   "cell_type": "markdown",
   "metadata": {},
   "source": [
    "#### Please refer to module 1 of Intro To Statistics - Basics Of Statistics for Tasks 1-5\n",
    "#### Task 1\n",
    "##### Review the tasks below and import the packages required to complete them.\n",
    "##### Set the working directory to data directory.\n",
    "##### Print the working directory.\n",
    "#### Result:\n"
   ]
  },
  {
   "cell_type": "code",
   "execution_count": 27,
   "metadata": {},
   "outputs": [
    {
     "name": "stdout",
     "output_type": "stream",
     "text": [
      "/home/jovyan/TEDS-Jul2022/2\n"
     ]
    }
   ],
   "source": [
    "import os\n",
    "from pathlib import Path as pth\n",
    "import pandas as pd\n",
    "\n",
    "cwd = os.getcwd()\n",
    "main_dir = pth(cwd)\n",
    "data_dir = pth(str(main_dir) + '/data')\n",
    "\n",
    "print(cwd)\n"
   ]
  },
  {
   "cell_type": "markdown",
   "metadata": {},
   "source": [
    "#### Task 2\n",
    "##### Load `ChemicalManufacturingProcess.csv` from the data folder as ex_data.\n",
    "##### The goal is to Discuss the relationship between two variables.\n",
    "##### Print the head() of data, shape, number of rows and number of columns.\n",
    "##### Subset the data to contain only numeric variables.\n",
    "##### Drop nan values and reset index.\n"
   ]
  },
  {
   "cell_type": "markdown",
   "metadata": {},
   "source": [
    "#### Result:\n"
   ]
  },
  {
   "cell_type": "code",
   "execution_count": 28,
   "metadata": {},
   "outputs": [
    {
     "name": "stdout",
     "output_type": "stream",
     "text": [
      "   Yield  BiologicalMaterial01  BiologicalMaterial02  BiologicalMaterial03  \\\n",
      "0  38.00                  6.25                 49.58                 56.97   \n",
      "1  42.44                  8.01                 60.97                 67.48   \n",
      "2  42.03                  8.01                 60.97                 67.48   \n",
      "3  41.42                  8.01                 60.97                 67.48   \n",
      "4  42.49                  7.47                 63.33                 72.25   \n",
      "\n",
      "   BiologicalMaterial04  BiologicalMaterial05  BiologicalMaterial06  \\\n",
      "0                 12.74                 19.51                 43.73   \n",
      "1                 14.65                 19.36                 53.14   \n",
      "2                 14.65                 19.36                 53.14   \n",
      "3                 14.65                 19.36                 53.14   \n",
      "4                 14.02                 17.91                 54.66   \n",
      "\n",
      "   BiologicalMaterial07  BiologicalMaterial08  BiologicalMaterial09  ...  \\\n",
      "0                 100.0                 16.66                 11.44  ...   \n",
      "1                 100.0                 19.04                 12.55  ...   \n",
      "2                 100.0                 19.04                 12.55  ...   \n",
      "3                 100.0                 19.04                 12.55  ...   \n",
      "4                 100.0                 18.22                 12.80  ...   \n",
      "\n",
      "   ManufacturingProcess37  ManufacturingProcess38  ManufacturingProcess39  \\\n",
      "0                     0.5                       3                     7.2   \n",
      "1                     2.0                       2                     7.2   \n",
      "2                     0.7                       2                     7.2   \n",
      "3                     1.2                       2                     7.2   \n",
      "4                     0.2                       2                     7.3   \n",
      "\n",
      "   ManufacturingProcess40  ManufacturingProcess41  ManufacturingProcess42  \\\n",
      "0                     NaN                     NaN                    11.6   \n",
      "1                     0.1                    0.15                    11.1   \n",
      "2                     0.0                    0.00                    12.0   \n",
      "3                     0.0                    0.00                    10.6   \n",
      "4                     0.0                    0.00                    11.0   \n",
      "\n",
      "   ManufacturingProcess43  ManufacturingProcess44  ManufacturingProcess45  id  \n",
      "0                     3.0                     1.8                     2.4   1  \n",
      "1                     0.9                     1.9                     2.2   2  \n",
      "2                     1.0                     1.8                     2.3   3  \n",
      "3                     1.1                     1.8                     2.1   4  \n",
      "4                     1.1                     1.7                     2.1   5  \n",
      "\n",
      "[5 rows x 59 columns]\n"
     ]
    }
   ],
   "source": [
    "# Selecting data for the dataframe\n",
    "\n",
    "ex_data = pd.read_csv(str(data_dir)+'/ChemicalManufacturingProcess.csv')\n",
    "#ex_data.reset_index(drop = True)\n",
    "\n",
    "# displaying the head of the dataframe\n",
    "print(ex_data.head())"
   ]
  },
  {
   "cell_type": "code",
   "execution_count": 29,
   "metadata": {},
   "outputs": [],
   "source": [
    "# setting the index to the id column\n",
    "df = ex_data.set_index('id')"
   ]
  },
  {
   "cell_type": "code",
   "execution_count": 30,
   "metadata": {},
   "outputs": [
    {
     "name": "stdout",
     "output_type": "stream",
     "text": [
      "rows: 176 \n",
      " cols: 59\n"
     ]
    },
    {
     "data": {
      "text/html": [
       "<div>\n",
       "<style scoped>\n",
       "    .dataframe tbody tr th:only-of-type {\n",
       "        vertical-align: middle;\n",
       "    }\n",
       "\n",
       "    .dataframe tbody tr th {\n",
       "        vertical-align: top;\n",
       "    }\n",
       "\n",
       "    .dataframe thead th {\n",
       "        text-align: right;\n",
       "    }\n",
       "</style>\n",
       "<table border=\"1\" class=\"dataframe\">\n",
       "  <thead>\n",
       "    <tr style=\"text-align: right;\">\n",
       "      <th></th>\n",
       "      <th>Yield</th>\n",
       "      <th>BiologicalMaterial01</th>\n",
       "      <th>BiologicalMaterial02</th>\n",
       "      <th>BiologicalMaterial03</th>\n",
       "      <th>BiologicalMaterial04</th>\n",
       "      <th>BiologicalMaterial05</th>\n",
       "      <th>BiologicalMaterial06</th>\n",
       "      <th>BiologicalMaterial07</th>\n",
       "      <th>BiologicalMaterial08</th>\n",
       "      <th>BiologicalMaterial09</th>\n",
       "      <th>...</th>\n",
       "      <th>ManufacturingProcess36</th>\n",
       "      <th>ManufacturingProcess37</th>\n",
       "      <th>ManufacturingProcess38</th>\n",
       "      <th>ManufacturingProcess39</th>\n",
       "      <th>ManufacturingProcess40</th>\n",
       "      <th>ManufacturingProcess41</th>\n",
       "      <th>ManufacturingProcess42</th>\n",
       "      <th>ManufacturingProcess43</th>\n",
       "      <th>ManufacturingProcess44</th>\n",
       "      <th>ManufacturingProcess45</th>\n",
       "    </tr>\n",
       "    <tr>\n",
       "      <th>id</th>\n",
       "      <th></th>\n",
       "      <th></th>\n",
       "      <th></th>\n",
       "      <th></th>\n",
       "      <th></th>\n",
       "      <th></th>\n",
       "      <th></th>\n",
       "      <th></th>\n",
       "      <th></th>\n",
       "      <th></th>\n",
       "      <th></th>\n",
       "      <th></th>\n",
       "      <th></th>\n",
       "      <th></th>\n",
       "      <th></th>\n",
       "      <th></th>\n",
       "      <th></th>\n",
       "      <th></th>\n",
       "      <th></th>\n",
       "      <th></th>\n",
       "      <th></th>\n",
       "    </tr>\n",
       "  </thead>\n",
       "  <tbody>\n",
       "    <tr>\n",
       "      <th>1</th>\n",
       "      <td>38.00</td>\n",
       "      <td>6.25</td>\n",
       "      <td>49.58</td>\n",
       "      <td>56.97</td>\n",
       "      <td>12.74</td>\n",
       "      <td>19.51</td>\n",
       "      <td>43.73</td>\n",
       "      <td>100.0</td>\n",
       "      <td>16.66</td>\n",
       "      <td>11.44</td>\n",
       "      <td>...</td>\n",
       "      <td>0.019</td>\n",
       "      <td>0.5</td>\n",
       "      <td>3</td>\n",
       "      <td>7.2</td>\n",
       "      <td>NaN</td>\n",
       "      <td>NaN</td>\n",
       "      <td>11.6</td>\n",
       "      <td>3.0</td>\n",
       "      <td>1.8</td>\n",
       "      <td>2.4</td>\n",
       "    </tr>\n",
       "    <tr>\n",
       "      <th>2</th>\n",
       "      <td>42.44</td>\n",
       "      <td>8.01</td>\n",
       "      <td>60.97</td>\n",
       "      <td>67.48</td>\n",
       "      <td>14.65</td>\n",
       "      <td>19.36</td>\n",
       "      <td>53.14</td>\n",
       "      <td>100.0</td>\n",
       "      <td>19.04</td>\n",
       "      <td>12.55</td>\n",
       "      <td>...</td>\n",
       "      <td>0.019</td>\n",
       "      <td>2.0</td>\n",
       "      <td>2</td>\n",
       "      <td>7.2</td>\n",
       "      <td>0.1</td>\n",
       "      <td>0.15</td>\n",
       "      <td>11.1</td>\n",
       "      <td>0.9</td>\n",
       "      <td>1.9</td>\n",
       "      <td>2.2</td>\n",
       "    </tr>\n",
       "    <tr>\n",
       "      <th>3</th>\n",
       "      <td>42.03</td>\n",
       "      <td>8.01</td>\n",
       "      <td>60.97</td>\n",
       "      <td>67.48</td>\n",
       "      <td>14.65</td>\n",
       "      <td>19.36</td>\n",
       "      <td>53.14</td>\n",
       "      <td>100.0</td>\n",
       "      <td>19.04</td>\n",
       "      <td>12.55</td>\n",
       "      <td>...</td>\n",
       "      <td>0.018</td>\n",
       "      <td>0.7</td>\n",
       "      <td>2</td>\n",
       "      <td>7.2</td>\n",
       "      <td>0.0</td>\n",
       "      <td>0.00</td>\n",
       "      <td>12.0</td>\n",
       "      <td>1.0</td>\n",
       "      <td>1.8</td>\n",
       "      <td>2.3</td>\n",
       "    </tr>\n",
       "    <tr>\n",
       "      <th>4</th>\n",
       "      <td>41.42</td>\n",
       "      <td>8.01</td>\n",
       "      <td>60.97</td>\n",
       "      <td>67.48</td>\n",
       "      <td>14.65</td>\n",
       "      <td>19.36</td>\n",
       "      <td>53.14</td>\n",
       "      <td>100.0</td>\n",
       "      <td>19.04</td>\n",
       "      <td>12.55</td>\n",
       "      <td>...</td>\n",
       "      <td>0.018</td>\n",
       "      <td>1.2</td>\n",
       "      <td>2</td>\n",
       "      <td>7.2</td>\n",
       "      <td>0.0</td>\n",
       "      <td>0.00</td>\n",
       "      <td>10.6</td>\n",
       "      <td>1.1</td>\n",
       "      <td>1.8</td>\n",
       "      <td>2.1</td>\n",
       "    </tr>\n",
       "    <tr>\n",
       "      <th>5</th>\n",
       "      <td>42.49</td>\n",
       "      <td>7.47</td>\n",
       "      <td>63.33</td>\n",
       "      <td>72.25</td>\n",
       "      <td>14.02</td>\n",
       "      <td>17.91</td>\n",
       "      <td>54.66</td>\n",
       "      <td>100.0</td>\n",
       "      <td>18.22</td>\n",
       "      <td>12.80</td>\n",
       "      <td>...</td>\n",
       "      <td>0.017</td>\n",
       "      <td>0.2</td>\n",
       "      <td>2</td>\n",
       "      <td>7.3</td>\n",
       "      <td>0.0</td>\n",
       "      <td>0.00</td>\n",
       "      <td>11.0</td>\n",
       "      <td>1.1</td>\n",
       "      <td>1.7</td>\n",
       "      <td>2.1</td>\n",
       "    </tr>\n",
       "  </tbody>\n",
       "</table>\n",
       "<p>5 rows × 58 columns</p>\n",
       "</div>"
      ],
      "text/plain": [
       "    Yield  BiologicalMaterial01  BiologicalMaterial02  BiologicalMaterial03  \\\n",
       "id                                                                            \n",
       "1   38.00                  6.25                 49.58                 56.97   \n",
       "2   42.44                  8.01                 60.97                 67.48   \n",
       "3   42.03                  8.01                 60.97                 67.48   \n",
       "4   41.42                  8.01                 60.97                 67.48   \n",
       "5   42.49                  7.47                 63.33                 72.25   \n",
       "\n",
       "    BiologicalMaterial04  BiologicalMaterial05  BiologicalMaterial06  \\\n",
       "id                                                                     \n",
       "1                  12.74                 19.51                 43.73   \n",
       "2                  14.65                 19.36                 53.14   \n",
       "3                  14.65                 19.36                 53.14   \n",
       "4                  14.65                 19.36                 53.14   \n",
       "5                  14.02                 17.91                 54.66   \n",
       "\n",
       "    BiologicalMaterial07  BiologicalMaterial08  BiologicalMaterial09  ...  \\\n",
       "id                                                                    ...   \n",
       "1                  100.0                 16.66                 11.44  ...   \n",
       "2                  100.0                 19.04                 12.55  ...   \n",
       "3                  100.0                 19.04                 12.55  ...   \n",
       "4                  100.0                 19.04                 12.55  ...   \n",
       "5                  100.0                 18.22                 12.80  ...   \n",
       "\n",
       "    ManufacturingProcess36  ManufacturingProcess37  ManufacturingProcess38  \\\n",
       "id                                                                           \n",
       "1                    0.019                     0.5                       3   \n",
       "2                    0.019                     2.0                       2   \n",
       "3                    0.018                     0.7                       2   \n",
       "4                    0.018                     1.2                       2   \n",
       "5                    0.017                     0.2                       2   \n",
       "\n",
       "    ManufacturingProcess39  ManufacturingProcess40  ManufacturingProcess41  \\\n",
       "id                                                                           \n",
       "1                      7.2                     NaN                     NaN   \n",
       "2                      7.2                     0.1                    0.15   \n",
       "3                      7.2                     0.0                    0.00   \n",
       "4                      7.2                     0.0                    0.00   \n",
       "5                      7.3                     0.0                    0.00   \n",
       "\n",
       "    ManufacturingProcess42  ManufacturingProcess43  ManufacturingProcess44  \\\n",
       "id                                                                           \n",
       "1                     11.6                     3.0                     1.8   \n",
       "2                     11.1                     0.9                     1.9   \n",
       "3                     12.0                     1.0                     1.8   \n",
       "4                     10.6                     1.1                     1.8   \n",
       "5                     11.0                     1.1                     1.7   \n",
       "\n",
       "    ManufacturingProcess45  \n",
       "id                          \n",
       "1                      2.4  \n",
       "2                      2.2  \n",
       "3                      2.3  \n",
       "4                      2.1  \n",
       "5                      2.1  \n",
       "\n",
       "[5 rows x 58 columns]"
      ]
     },
     "execution_count": 30,
     "metadata": {},
     "output_type": "execute_result"
    }
   ],
   "source": [
    "# getting the rows and columns from the df shape\n",
    "nrows,  ncol = ex_data.shape\n",
    "print('rows:',nrows,'\\n','cols:',ncol)\n",
    "\n",
    "# filter the df for numeric values only\n",
    "df_numeric = df.select_dtypes('number')\n",
    "df_numeric.dropna().reset_index(drop = False)\n",
    "df_numeric.head()\n",
    "\n"
   ]
  },
  {
   "cell_type": "markdown",
   "metadata": {},
   "source": [
    "#### Task 3\n",
    "##### Calculate the mean of any selected column using the definition. Then calculate it using the mean() function\n",
    "##### Display the results for each method.\n",
    "#### Result:\n"
   ]
  },
  {
   "cell_type": "code",
   "execution_count": 31,
   "metadata": {},
   "outputs": [
    {
     "name": "stdout",
     "output_type": "stream",
     "text": [
      "np mean function result: Yield    40.176534\n",
      "dtype: float64\n",
      "pd mean function result: Yield    40.176534\n",
      "dtype: float64\n",
      "manual mean calculation: 40.17653409090909\n",
      "40.17653409090909\n"
     ]
    }
   ],
   "source": [
    "#creates a list of all column names\n",
    "\n",
    "columns = df_numeric.columns\n",
    "\n",
    "import random as rand\n",
    "import numpy as np\n",
    "\n",
    "# establishes a random seed value\n",
    "rand.seed(54)\n",
    "\n",
    "\n",
    "# takes the shape and plugs in the values into row and column variables\n",
    "nrows_numeric, ncols_numeric = df_numeric.shape\n",
    "\n",
    "#uses a random value to pick a column to focus on\n",
    "rand_val = rand.randint(0,ncols_numeric-1)\n",
    "col_focus = columns[0]\n",
    "\n",
    "# using np as the mean function, which should be the same as the pd mean\n",
    "print('np mean function result:',np.mean(df_numeric[[col_focus]]))\n",
    "print('pd mean function result:',df_numeric[[col_focus]].mean())\n",
    "\n",
    "# calculates the mean value without the built-in function\n",
    "print('manual mean calculation:',sum(df_numeric[col_focus])/nrows_numeric)\n",
    "col_mean = df_numeric[col_focus].mean()\n",
    "print(col_mean)"
   ]
  },
  {
   "cell_type": "markdown",
   "metadata": {},
   "source": [
    "#### Task 4\n",
    "##### Calculate the variance of the selected column using the definition. Then, calculate it using the var() function.\n",
    "##### You should notice a slight difference in answers, as the var() function divided by (n-1) rather than n in its calculation.\n",
    "#### Result:\n"
   ]
  },
  {
   "cell_type": "code",
   "execution_count": 32,
   "metadata": {},
   "outputs": [
    {
     "name": "stdout",
     "output_type": "stream",
     "text": [
      "population variance calculated: 3.387129464746899\n",
      "sample variance calculated: 3.4064844902597384\n",
      "population variance calculated: 3.3871294647469017\n",
      "sample variance calculated: 3.406484490259741\n"
     ]
    }
   ],
   "source": [
    "# getting the population and sample variance values. Population if this is complete data, sample if this is incomplete data\n",
    "\n",
    "# calculating the variance\n",
    "pop_var_calc = sum((df_numeric[col_focus] - col_mean)**2)/len(df_numeric[col_focus])\n",
    "sample_var_calc = sum((df_numeric[col_focus] - col_mean)**2)/(len(df_numeric[col_focus])-1)\n",
    "\n",
    "print('population variance calculated:',pop_var_calc)\n",
    "print('sample variance calculated:',sample_var_calc)\n",
    "\n",
    "\n",
    "#using built-in var function to get variance\n",
    "pop_var_func = df_numeric[col_focus].var(ddof = 0)\n",
    "sample_var_func = df_numeric[col_focus].var()\n",
    "\n",
    "print('population variance calculated:',pop_var_func)\n",
    "print('sample variance calculated:',sample_var_func)\n",
    "\n",
    "\n",
    "\n",
    "\n"
   ]
  },
  {
   "cell_type": "markdown",
   "metadata": {},
   "source": [
    "#### Task 5\n",
    "##### Calculate standard deviation of the selected column using definition. Then, use the std() function.\n",
    "##### Use the same name for both methods and display the results by calling its name for each method.\n",
    "#### Result:\n"
   ]
  },
  {
   "cell_type": "code",
   "execution_count": 33,
   "metadata": {},
   "outputs": [
    {
     "name": "stdout",
     "output_type": "stream",
     "text": [
      "population standard deviation calculated: 1.8404155684917738\n",
      "sample standard deviation calculated: 1.8456664081734104\n",
      "population standard deviation calculated: 1.8404155684917745\n",
      "sample standard deviation calculated: 1.8456664081734113\n"
     ]
    }
   ],
   "source": [
    "import math\n",
    "\n",
    "# using the above techniques, but for sample stdev and population stdev\n",
    "print('population standard deviation calculated:',math.sqrt(pop_var_calc))\n",
    "print('sample standard deviation calculated:',math.sqrt(sample_var_calc))\n",
    "\n",
    "pop_std_func = df_numeric[col_focus].std(ddof = 0)\n",
    "sample_std_func = df_numeric[col_focus].std()\n",
    "\n",
    "print('population standard deviation calculated:',pop_std_func)\n",
    "print('sample standard deviation calculated:',sample_std_func)\n"
   ]
  },
  {
   "cell_type": "markdown",
   "metadata": {},
   "source": [
    "#### Please refer to module 2 of Intro To Statistics - Basics Of Statistics for Tasks 6-11\n",
    "#### Task 6\n",
    "##### Create a histogram using the selected column, with color darkgreen.\n",
    "##### Label the x axis with its name, y axis as Frequency, and add title as Histogram.\n",
    "##### What do you observe about the shape of the distribution?\n",
    "#### Result:\n"
   ]
  },
  {
   "cell_type": "code",
   "execution_count": 34,
   "metadata": {},
   "outputs": [
    {
     "data": {
      "text/plain": [
       "Text(0.5, 1.0, 'Yield')"
      ]
     },
     "execution_count": 34,
     "metadata": {},
     "output_type": "execute_result"
    },
    {
     "data": {
      "image/png": "[encoded data removed]",
      "text/plain": [
       "<Figure size 432x288 with 1 Axes>"
      ]
     },
     "metadata": {
      "needs_background": "light"
     },
     "output_type": "display_data"
    }
   ],
   "source": [
    "# producing a histogram from the col of interest\n",
    "# in this case, it is bio-mat-8\n",
    "import matplotlib.pyplot as plt\n",
    "df_numeric.hist(col_focus, color = 'darkgreen')\n",
    "plt.xlabel('sample values')\n",
    "plt.ylabel('freq')\n",
    "plt.title(col_focus)\n",
    "\n"
   ]
  },
  {
   "cell_type": "markdown",
   "metadata": {},
   "source": [
    "#### Task 7\n",
    "##### Using the qqplot function, test if the selected variable is normally distributed.\n",
    "##### What can you conclude about the distribution of this variable?\n",
    "#### Result:\n"
   ]
  },
  {
   "cell_type": "code",
   "execution_count": 35,
   "metadata": {},
   "outputs": [
    {
     "data": {
      "image/png": "[encoded data removed]",
      "text/plain": [
       "<Figure size 432x288 with 1 Axes>"
      ]
     },
     "metadata": {
      "needs_background": "light"
     },
     "output_type": "display_data"
    }
   ],
   "source": [
    "# using statsmodels and pylab to get a qqplot to analyze the histogram's normal distribution\n",
    "import statsmodels.api as sm\n",
    "import pylab as py\n",
    "\n",
    "sm.qqplot(df_numeric[col_focus], line = 's')\n",
    "py.show()"
   ]
  },
  {
   "cell_type": "markdown",
   "metadata": {},
   "source": [
    "#### Task 8\n",
    "##### Let's try to prove the Central Limit Theorem. The following code creates 1000 samples, each of size 50, computes their mean and stores it in a dataframe sample_means.\n",
    "##### Create histogram using sample_means dataframe with darkblue color. Label x axis as Sample Means, y axis as Frequency and add title as Histogram of Sample Means\n"
   ]
  },
  {
   "cell_type": "code",
   "execution_count": 36,
   "metadata": {},
   "outputs": [
    {
     "data": {
      "text/html": [
       "<div>\n",
       "<style scoped>\n",
       "    .dataframe tbody tr th:only-of-type {\n",
       "        vertical-align: middle;\n",
       "    }\n",
       "\n",
       "    .dataframe tbody tr th {\n",
       "        vertical-align: top;\n",
       "    }\n",
       "\n",
       "    .dataframe thead th {\n",
       "        text-align: right;\n",
       "    }\n",
       "</style>\n",
       "<table border=\"1\" class=\"dataframe\">\n",
       "  <thead>\n",
       "    <tr style=\"text-align: right;\">\n",
       "      <th></th>\n",
       "      <th>sample_mean</th>\n",
       "    </tr>\n",
       "  </thead>\n",
       "  <tbody>\n",
       "    <tr>\n",
       "      <th>0</th>\n",
       "      <td>40.0630</td>\n",
       "    </tr>\n",
       "    <tr>\n",
       "      <th>1</th>\n",
       "      <td>40.3366</td>\n",
       "    </tr>\n",
       "    <tr>\n",
       "      <th>2</th>\n",
       "      <td>40.0270</td>\n",
       "    </tr>\n",
       "    <tr>\n",
       "      <th>3</th>\n",
       "      <td>39.9126</td>\n",
       "    </tr>\n",
       "    <tr>\n",
       "      <th>4</th>\n",
       "      <td>39.9298</td>\n",
       "    </tr>\n",
       "    <tr>\n",
       "      <th>...</th>\n",
       "      <td>...</td>\n",
       "    </tr>\n",
       "    <tr>\n",
       "      <th>995</th>\n",
       "      <td>40.3896</td>\n",
       "    </tr>\n",
       "    <tr>\n",
       "      <th>996</th>\n",
       "      <td>39.5760</td>\n",
       "    </tr>\n",
       "    <tr>\n",
       "      <th>997</th>\n",
       "      <td>40.5268</td>\n",
       "    </tr>\n",
       "    <tr>\n",
       "      <th>998</th>\n",
       "      <td>40.1772</td>\n",
       "    </tr>\n",
       "    <tr>\n",
       "      <th>999</th>\n",
       "      <td>40.0272</td>\n",
       "    </tr>\n",
       "  </tbody>\n",
       "</table>\n",
       "<p>1000 rows × 1 columns</p>\n",
       "</div>"
      ],
      "text/plain": [
       "     sample_mean\n",
       "0        40.0630\n",
       "1        40.3366\n",
       "2        40.0270\n",
       "3        39.9126\n",
       "4        39.9298\n",
       "..           ...\n",
       "995      40.3896\n",
       "996      39.5760\n",
       "997      40.5268\n",
       "998      40.1772\n",
       "999      40.0272\n",
       "\n",
       "[1000 rows x 1 columns]"
      ]
     },
     "execution_count": 36,
     "metadata": {},
     "output_type": "execute_result"
    }
   ],
   "source": [
    "# working with CLT to develop a average with random samplings of data from the dataset\n",
    "\n",
    "sample_means = pd.DataFrame(columns = ['sample_mean'])\n",
    "\n",
    "sample_count = 1000\n",
    "\n",
    "samples = []\n",
    "for x in range(sample_count):\n",
    "    samples.append(df_numeric[col_focus].sample(50).mean())\n",
    "\n",
    "sample_means['sample_mean'] = samples\n",
    "sample_means"
   ]
  },
  {
   "cell_type": "markdown",
   "metadata": {},
   "source": [
    "#### Result:\n"
   ]
  },
  {
   "cell_type": "code",
   "execution_count": 37,
   "metadata": {},
   "outputs": [
    {
     "data": {
      "image/png": "[encoded data removed]",
      "text/plain": [
       "<Figure size 432x288 with 1 Axes>"
      ]
     },
     "metadata": {
      "needs_background": "light"
     },
     "output_type": "display_data"
    }
   ],
   "source": [
    "# producing a histogram to analyze the distribution \n",
    "sample_means.hist(color = 'darkblue')\n",
    "plt.xlabel('Sample Means')\n",
    "plt.ylabel('Frequency')\n",
    "plt.title('Sample Means of Sampling')\n",
    "plt.show()"
   ]
  },
  {
   "cell_type": "markdown",
   "metadata": {},
   "source": [
    "#### Task 9\n",
    "##### According to the Central Limit Theorem, our sample means should have a mean equal to the true population mean and standard deviation equal to the population standard deviation / square root of the size of each sample.\n",
    "##### Check the validity of both of these claims by calculating the mean and standard deviation of sample_means.\n",
    "#### Result:\n"
   ]
  },
  {
   "cell_type": "code",
   "execution_count": 38,
   "metadata": {},
   "outputs": [
    {
     "name": "stdout",
     "output_type": "stream",
     "text": [
      "mean: 40.1794438\n",
      "population std: 0.22792370135981924\n"
     ]
    }
   ],
   "source": [
    "# Evaluation the mean and stdev of the data\n",
    "\n",
    "sample_mean_value = sample_means['sample_mean'].mean()\n",
    "sample_popstd_value = sample_means['sample_mean'].std(ddof = 0)\n",
    "\n",
    "print('mean:',sample_mean_value)\n",
    "print('population std:', sample_popstd_value)\n",
    "\n"
   ]
  },
  {
   "cell_type": "markdown",
   "metadata": {},
   "source": [
    "#### Task 10\n",
    "##### Finally, the CLT claims our sample means should be normally distributed. Check this claim by analyzing the distribution using the qqplot() function.\n",
    "#### Result:\n"
   ]
  },
  {
   "cell_type": "code",
   "execution_count": 39,
   "metadata": {},
   "outputs": [
    {
     "data": {
      "image/png": "[encoded data removed]",
      "text/plain": [
       "<Figure size 432x288 with 1 Axes>"
      ]
     },
     "metadata": {
      "needs_background": "light"
     },
     "output_type": "display_data"
    }
   ],
   "source": [
    "# Using a qq plot to analyze the CLT data\n",
    "sm.qqplot(sample_means['sample_mean'], line = 's')\n",
    "py.show()"
   ]
  },
  {
   "cell_type": "markdown",
   "metadata": {},
   "source": [
    "#### Task 11\n",
    "##### Calculate the z-score of any observation and save this z-score as z_score.\n",
    "##### How can you interpret this z-score?\n",
    "#### Result:\n",
    "\n",
    "\n"
   ]
  },
  {
   "cell_type": "code",
   "execution_count": 40,
   "metadata": {},
   "outputs": [
    {
     "data": {
      "text/html": [
       "<div>\n",
       "<style scoped>\n",
       "    .dataframe tbody tr th:only-of-type {\n",
       "        vertical-align: middle;\n",
       "    }\n",
       "\n",
       "    .dataframe tbody tr th {\n",
       "        vertical-align: top;\n",
       "    }\n",
       "\n",
       "    .dataframe thead th {\n",
       "        text-align: right;\n",
       "    }\n",
       "</style>\n",
       "<table border=\"1\" class=\"dataframe\">\n",
       "  <thead>\n",
       "    <tr style=\"text-align: right;\">\n",
       "      <th></th>\n",
       "      <th>sample_mean</th>\n",
       "      <th>z_score</th>\n",
       "    </tr>\n",
       "  </thead>\n",
       "  <tbody>\n",
       "    <tr>\n",
       "      <th>0</th>\n",
       "      <td>40.0630</td>\n",
       "      <td>-0.510634</td>\n",
       "    </tr>\n",
       "    <tr>\n",
       "      <th>1</th>\n",
       "      <td>40.3366</td>\n",
       "      <td>0.689167</td>\n",
       "    </tr>\n",
       "    <tr>\n",
       "      <th>2</th>\n",
       "      <td>40.0270</td>\n",
       "      <td>-0.668502</td>\n",
       "    </tr>\n",
       "    <tr>\n",
       "      <th>3</th>\n",
       "      <td>39.9126</td>\n",
       "      <td>-1.170174</td>\n",
       "    </tr>\n",
       "    <tr>\n",
       "      <th>4</th>\n",
       "      <td>39.9298</td>\n",
       "      <td>-1.094748</td>\n",
       "    </tr>\n",
       "    <tr>\n",
       "      <th>...</th>\n",
       "      <td>...</td>\n",
       "      <td>...</td>\n",
       "    </tr>\n",
       "    <tr>\n",
       "      <th>995</th>\n",
       "      <td>40.3896</td>\n",
       "      <td>0.921585</td>\n",
       "    </tr>\n",
       "    <tr>\n",
       "      <th>996</th>\n",
       "      <td>39.5760</td>\n",
       "      <td>-2.646245</td>\n",
       "    </tr>\n",
       "    <tr>\n",
       "      <th>997</th>\n",
       "      <td>40.5268</td>\n",
       "      <td>1.523240</td>\n",
       "    </tr>\n",
       "    <tr>\n",
       "      <th>998</th>\n",
       "      <td>40.1772</td>\n",
       "      <td>-0.009840</td>\n",
       "    </tr>\n",
       "    <tr>\n",
       "      <th>999</th>\n",
       "      <td>40.0272</td>\n",
       "      <td>-0.667625</td>\n",
       "    </tr>\n",
       "  </tbody>\n",
       "</table>\n",
       "<p>1000 rows × 2 columns</p>\n",
       "</div>"
      ],
      "text/plain": [
       "     sample_mean   z_score\n",
       "0        40.0630 -0.510634\n",
       "1        40.3366  0.689167\n",
       "2        40.0270 -0.668502\n",
       "3        39.9126 -1.170174\n",
       "4        39.9298 -1.094748\n",
       "..           ...       ...\n",
       "995      40.3896  0.921585\n",
       "996      39.5760 -2.646245\n",
       "997      40.5268  1.523240\n",
       "998      40.1772 -0.009840\n",
       "999      40.0272 -0.667625\n",
       "\n",
       "[1000 rows x 2 columns]"
      ]
     },
     "execution_count": 40,
     "metadata": {},
     "output_type": "execute_result"
    }
   ],
   "source": [
    "# populating the zscores for the column of interest. If values are less than 0, the value is less than the average\n",
    "# if the value is greater than 0, the value is greater than the average.\n",
    "# z-cores are a measure of how many stdevs are away from the mean \n",
    "sample_means['z_score'] = (sample_means['sample_mean'] - sample_means['sample_mean'].mean())/sample_means['sample_mean'].std()\n",
    "\n",
    "sample_means"
   ]
  },
  {
   "cell_type": "markdown",
   "metadata": {},
   "source": [
    "#### Task 12\n",
    "##### Use the cdf() function to calculate the probability of observing a data point as extreme or greater with reference to the z_score calculated in Task 10. HINT: we care about any observations MORE extreme than this value, so we want a right-hand probability, not a left-hand probability.\n",
    "##### The z-table calculates left-hand probabilities. So calculate 1 minus the probability on the z-table for the calculated z_score.\n",
    "#### Result:\n"
   ]
  },
  {
   "cell_type": "code",
   "execution_count": 41,
   "metadata": {},
   "outputs": [],
   "source": [
    "# the cumulative distribution function tells us how many points are to the left of the value, or the likelihood of picking a datapoint that is less than the point selected\n",
    "# by taking the right of this, which is the converse of this, we are finding the likelihood of selecting a point that is greater than the datapoint selected\n",
    "import scipy.stats as stats\n",
    "\n",
    "sample_means['right_hand_p'] = (1-stats.norm.cdf(sample_means['z_score']))\n",
    "sample_means['left_hand_p'] = (stats.norm.cdf(sample_means['z_score']))\n"
   ]
  },
  {
   "cell_type": "code",
   "execution_count": 42,
   "metadata": {},
   "outputs": [
    {
     "data": {
      "text/html": [
       "<div>\n",
       "<style scoped>\n",
       "    .dataframe tbody tr th:only-of-type {\n",
       "        vertical-align: middle;\n",
       "    }\n",
       "\n",
       "    .dataframe tbody tr th {\n",
       "        vertical-align: top;\n",
       "    }\n",
       "\n",
       "    .dataframe thead th {\n",
       "        text-align: right;\n",
       "    }\n",
       "</style>\n",
       "<table border=\"1\" class=\"dataframe\">\n",
       "  <thead>\n",
       "    <tr style=\"text-align: right;\">\n",
       "      <th></th>\n",
       "      <th>sample_mean</th>\n",
       "      <th>z_score</th>\n",
       "      <th>right_hand_p</th>\n",
       "      <th>left_hand_p</th>\n",
       "    </tr>\n",
       "  </thead>\n",
       "  <tbody>\n",
       "    <tr>\n",
       "      <th>0</th>\n",
       "      <td>40.0630</td>\n",
       "      <td>-0.510634</td>\n",
       "      <td>0.695196</td>\n",
       "      <td>0.304804</td>\n",
       "    </tr>\n",
       "    <tr>\n",
       "      <th>1</th>\n",
       "      <td>40.3366</td>\n",
       "      <td>0.689167</td>\n",
       "      <td>0.245359</td>\n",
       "      <td>0.754641</td>\n",
       "    </tr>\n",
       "    <tr>\n",
       "      <th>2</th>\n",
       "      <td>40.0270</td>\n",
       "      <td>-0.668502</td>\n",
       "      <td>0.748094</td>\n",
       "      <td>0.251906</td>\n",
       "    </tr>\n",
       "    <tr>\n",
       "      <th>3</th>\n",
       "      <td>39.9126</td>\n",
       "      <td>-1.170174</td>\n",
       "      <td>0.879034</td>\n",
       "      <td>0.120966</td>\n",
       "    </tr>\n",
       "    <tr>\n",
       "      <th>4</th>\n",
       "      <td>39.9298</td>\n",
       "      <td>-1.094748</td>\n",
       "      <td>0.863186</td>\n",
       "      <td>0.136814</td>\n",
       "    </tr>\n",
       "    <tr>\n",
       "      <th>...</th>\n",
       "      <td>...</td>\n",
       "      <td>...</td>\n",
       "      <td>...</td>\n",
       "      <td>...</td>\n",
       "    </tr>\n",
       "    <tr>\n",
       "      <th>995</th>\n",
       "      <td>40.3896</td>\n",
       "      <td>0.921585</td>\n",
       "      <td>0.178373</td>\n",
       "      <td>0.821627</td>\n",
       "    </tr>\n",
       "    <tr>\n",
       "      <th>996</th>\n",
       "      <td>39.5760</td>\n",
       "      <td>-2.646245</td>\n",
       "      <td>0.995930</td>\n",
       "      <td>0.004070</td>\n",
       "    </tr>\n",
       "    <tr>\n",
       "      <th>997</th>\n",
       "      <td>40.5268</td>\n",
       "      <td>1.523240</td>\n",
       "      <td>0.063849</td>\n",
       "      <td>0.936151</td>\n",
       "    </tr>\n",
       "    <tr>\n",
       "      <th>998</th>\n",
       "      <td>40.1772</td>\n",
       "      <td>-0.009840</td>\n",
       "      <td>0.503925</td>\n",
       "      <td>0.496075</td>\n",
       "    </tr>\n",
       "    <tr>\n",
       "      <th>999</th>\n",
       "      <td>40.0272</td>\n",
       "      <td>-0.667625</td>\n",
       "      <td>0.747814</td>\n",
       "      <td>0.252186</td>\n",
       "    </tr>\n",
       "  </tbody>\n",
       "</table>\n",
       "<p>1000 rows × 4 columns</p>\n",
       "</div>"
      ],
      "text/plain": [
       "     sample_mean   z_score  right_hand_p  left_hand_p\n",
       "0        40.0630 -0.510634      0.695196     0.304804\n",
       "1        40.3366  0.689167      0.245359     0.754641\n",
       "2        40.0270 -0.668502      0.748094     0.251906\n",
       "3        39.9126 -1.170174      0.879034     0.120966\n",
       "4        39.9298 -1.094748      0.863186     0.136814\n",
       "..           ...       ...           ...          ...\n",
       "995      40.3896  0.921585      0.178373     0.821627\n",
       "996      39.5760 -2.646245      0.995930     0.004070\n",
       "997      40.5268  1.523240      0.063849     0.936151\n",
       "998      40.1772 -0.009840      0.503925     0.496075\n",
       "999      40.0272 -0.667625      0.747814     0.252186\n",
       "\n",
       "[1000 rows x 4 columns]"
      ]
     },
     "execution_count": 42,
     "metadata": {},
     "output_type": "execute_result"
    }
   ],
   "source": [
    "sample_means"
   ]
  },
  {
   "cell_type": "code",
   "execution_count": null,
   "metadata": {},
   "outputs": [],
   "source": []
  },
  {
   "cell_type": "code",
   "execution_count": null,
   "metadata": {},
   "outputs": [],
   "source": []
  }
 ],
 "metadata": {
  "kernelspec": {
   "display_name": "Python 3",
   "language": "python",
   "name": "python3"
  },
  "language": "python",
  "language_info": {
   "codemirror_mode": {
    "name": "ipython",
    "version": 3
   },
   "file_extension": ".py",
   "mimetype": "text/x-python",
   "name": "python",
   "nbconvert_exporter": "python",
   "pygments_lexer": "ipython3",
   "version": "3.7.12"
  }
 },
 "nbformat": 4,
 "nbformat_minor": 4
}
