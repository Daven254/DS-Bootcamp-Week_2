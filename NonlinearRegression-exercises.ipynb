{
 "cells": [
  {
   "cell_type": "markdown",
   "id": "821165ef",
   "metadata": {},
   "source": [
    "## NONLINEARREGRESSION/NONLINEAR REGRESSION PART 1 EXERCISE  ##\n",
    "#### Exercise 1 ####\n"
   ]
  },
  {
   "cell_type": "markdown",
   "id": "3f7041d3",
   "metadata": {},
   "source": [
    "## NONLINEARREGRESSION/NONLINEAR REGRESSION PART 2 EXERCISE  ##\n",
    "#### Exercise 2 ####\n"
   ]
  },
  {
   "cell_type": "markdown",
   "id": "ea681e43",
   "metadata": {},
   "source": [
    "## NONLINEARREGRESSION/NONLINEAR REGRESSION PART 3 EXERCISE  ##\n",
    "#### Exercise 3 ####\n"
   ]
  },
  {
   "cell_type": "markdown",
   "id": "c7a3dae8",
   "metadata": {},
   "source": [
    "## NONLINEARREGRESSION/NONLINEAR REGRESSION PART 4 EXERCISE  ##\n",
    "#### Exercise 4 ####\n",
    "#### Exercise 1\n",
    "#### Task 1\n",
    "##### Import the packages required to analyze data with log-log models, log-lin models, polynomial models, and interactions in the predictor variables.\n",
    "##### Set the working directory to data directory.\n",
    "##### Print the working directory.\n",
    "#### Result:\n"
   ]
  },
  {
   "cell_type": "code",
   "execution_count": 1,
   "id": "00f2abec",
   "metadata": {},
   "outputs": [
    {
     "name": "stdout",
     "output_type": "stream",
     "text": [
      "/home/jovyan/TEDS-Jul2022/2\n",
      "/home/jovyan/TEDS-Jul2022/2/data\n",
      "['insurance.csv', '.ipynb_checkpoints', 'beer-sold-by-price.csv', 'ChemicalManufacturingProcess.csv']\n",
      "/home/jovyan/TEDS-Jul2022/2/data\n"
     ]
    }
   ],
   "source": [
    "import os\n",
    "import pandas as pd\n",
    "import numpy as np\n",
    "from pathlib import Path\n",
    "import matplotlib.pyplot as plt\n",
    "import statsmodels.api as sm\n",
    "import statsmodels.formula.api as smf\n",
    "# Set 'main_dir' to location of the project folder\n",
    "from pathlib import Path\n",
    "home_dir = Path(\".\").resolve().parent\n",
    "main_dir = str(home_dir) + '/2'\n",
    "print(main_dir)\n",
    "data_dir = str(main_dir) + \"/data\"\n",
    "print(data_dir)\n",
    "# Set working directory.\n",
    "os.chdir(data_dir)\n",
    "print(os.listdir(str(data_dir)))\n",
    "\n",
    "# Check working directory.\n",
    "print(os.getcwd())\n"
   ]
  },
  {
   "cell_type": "markdown",
   "id": "da7fad1e",
   "metadata": {},
   "source": [
    "#### Task 2\n",
    "##### Load `beer-sold-by-price.csv` and save as `ex_data_loglog`.\n",
    "##### The data consists of 52 weeks of cases sold and the price per case of 18-packs of beer at a small chain of supermarkets. \n",
    "##### We want to build a regression model that can predict `quantity of cases sold` according to the changes in the `price`.\n",
    "##### Check the shape of the data, print the first few rows, and check for any missing values. \n",
    "##### For convenience, change the column names from `PRICE 18PK`, `CASES 18PK` to `Price`, `Quantity`.\n",
    "##### Lastly, sort the dataframe by `Price`.\n",
    "#### Result:\n"
   ]
  },
  {
   "cell_type": "code",
   "execution_count": 45,
   "id": "4bcf3fe5",
   "metadata": {},
   "outputs": [
    {
     "name": "stdout",
     "output_type": "stream",
     "text": [
      "['insurance.csv', 'diabetes.csv', 'loglin.csv', '.ipynb_checkpoints', 'beer-sold-by-price.csv', 'ChemicalManufacturingProcess.csv']\n"
     ]
    }
   ],
   "source": [
    "print(os.listdir())\n",
    "ex_data_loglog = pd.read_csv(str(data_dir) + '/beer-sold-by-price.csv')\n",
    "ex_data_loglog.shape\n",
    "ex_data_loglog.head()\n",
    "ex_data_loglog.isnull().values.any()\n",
    "ex_data_loglog=ex_data_loglog.rename(columns={'PRICE 18PK':'Price', 'CASES 18PK':'Quantity'})\n",
    "ex_data_loglog.head()\n",
    "ex_data_loglog.sort_values(by=['Price'], inplace = True)\n"
   ]
  },
  {
   "cell_type": "markdown",
   "id": "14b09a82",
   "metadata": {},
   "source": [
    "#### Task 3\n",
    "##### Transform the values of our predictor and target variable to the log of the actual values. \n",
    "##### Name the log values column as `price_log` and `quantity_log`.\n",
    "##### Print out the first few rows to check.\n",
    "#### Result:\n"
   ]
  },
  {
   "cell_type": "code",
   "execution_count": 46,
   "id": "ea09c73b",
   "metadata": {},
   "outputs": [],
   "source": [
    "ex_data_loglog['price_log'] = np.log1p(ex_data_loglog['Price'])\n",
    "ex_data_loglog['quantity_log'] = np.log1p(ex_data_loglog['Quantity'])"
   ]
  },
  {
   "cell_type": "markdown",
   "id": "6c7aca95",
   "metadata": {},
   "source": [
    "#### Task 4\n",
    "##### Add a constant to the dataframe.\n",
    "#### Result:\n"
   ]
  },
  {
   "cell_type": "code",
   "execution_count": 47,
   "id": "76a9cb59",
   "metadata": {},
   "outputs": [
    {
     "data": {
      "text/html": [
       "<div>\n",
       "<style scoped>\n",
       "    .dataframe tbody tr th:only-of-type {\n",
       "        vertical-align: middle;\n",
       "    }\n",
       "\n",
       "    .dataframe tbody tr th {\n",
       "        vertical-align: top;\n",
       "    }\n",
       "\n",
       "    .dataframe thead th {\n",
       "        text-align: right;\n",
       "    }\n",
       "</style>\n",
       "<table border=\"1\" class=\"dataframe\">\n",
       "  <thead>\n",
       "    <tr style=\"text-align: right;\">\n",
       "      <th></th>\n",
       "      <th>Price</th>\n",
       "      <th>Quantity</th>\n",
       "      <th>price_log</th>\n",
       "      <th>quantity_log</th>\n",
       "      <th>const</th>\n",
       "    </tr>\n",
       "  </thead>\n",
       "  <tbody>\n",
       "    <tr>\n",
       "      <th>50</th>\n",
       "      <td>13.26</td>\n",
       "      <td>493</td>\n",
       "      <td>2.657458</td>\n",
       "      <td>6.202536</td>\n",
       "      <td>1.0</td>\n",
       "    </tr>\n",
       "    <tr>\n",
       "      <th>47</th>\n",
       "      <td>13.45</td>\n",
       "      <td>741</td>\n",
       "      <td>2.670694</td>\n",
       "      <td>6.609349</td>\n",
       "      <td>1.0</td>\n",
       "    </tr>\n",
       "    <tr>\n",
       "      <th>28</th>\n",
       "      <td>13.49</td>\n",
       "      <td>890</td>\n",
       "      <td>2.673459</td>\n",
       "      <td>6.792344</td>\n",
       "      <td>1.0</td>\n",
       "    </tr>\n",
       "    <tr>\n",
       "      <th>31</th>\n",
       "      <td>13.67</td>\n",
       "      <td>775</td>\n",
       "      <td>2.685805</td>\n",
       "      <td>6.654153</td>\n",
       "      <td>1.0</td>\n",
       "    </tr>\n",
       "    <tr>\n",
       "      <th>46</th>\n",
       "      <td>13.76</td>\n",
       "      <td>523</td>\n",
       "      <td>2.691921</td>\n",
       "      <td>6.261492</td>\n",
       "      <td>1.0</td>\n",
       "    </tr>\n",
       "    <tr>\n",
       "      <th>39</th>\n",
       "      <td>13.79</td>\n",
       "      <td>817</td>\n",
       "      <td>2.693951</td>\n",
       "      <td>6.706862</td>\n",
       "      <td>1.0</td>\n",
       "    </tr>\n",
       "    <tr>\n",
       "      <th>27</th>\n",
       "      <td>13.79</td>\n",
       "      <td>544</td>\n",
       "      <td>2.693951</td>\n",
       "      <td>6.300786</td>\n",
       "      <td>1.0</td>\n",
       "    </tr>\n",
       "    <tr>\n",
       "      <th>42</th>\n",
       "      <td>13.85</td>\n",
       "      <td>460</td>\n",
       "      <td>2.698000</td>\n",
       "      <td>6.133398</td>\n",
       "      <td>1.0</td>\n",
       "    </tr>\n",
       "    <tr>\n",
       "      <th>16</th>\n",
       "      <td>13.87</td>\n",
       "      <td>456</td>\n",
       "      <td>2.699346</td>\n",
       "      <td>6.124683</td>\n",
       "      <td>1.0</td>\n",
       "    </tr>\n",
       "    <tr>\n",
       "      <th>12</th>\n",
       "      <td>13.87</td>\n",
       "      <td>404</td>\n",
       "      <td>2.699346</td>\n",
       "      <td>6.003887</td>\n",
       "      <td>1.0</td>\n",
       "    </tr>\n",
       "    <tr>\n",
       "      <th>51</th>\n",
       "      <td>13.92</td>\n",
       "      <td>814</td>\n",
       "      <td>2.702703</td>\n",
       "      <td>6.703188</td>\n",
       "      <td>1.0</td>\n",
       "    </tr>\n",
       "    <tr>\n",
       "      <th>30</th>\n",
       "      <td>13.94</td>\n",
       "      <td>557</td>\n",
       "      <td>2.704042</td>\n",
       "      <td>6.324359</td>\n",
       "      <td>1.0</td>\n",
       "    </tr>\n",
       "    <tr>\n",
       "      <th>35</th>\n",
       "      <td>14.06</td>\n",
       "      <td>469</td>\n",
       "      <td>2.712042</td>\n",
       "      <td>6.152733</td>\n",
       "      <td>1.0</td>\n",
       "    </tr>\n",
       "    <tr>\n",
       "      <th>0</th>\n",
       "      <td>14.10</td>\n",
       "      <td>439</td>\n",
       "      <td>2.714695</td>\n",
       "      <td>6.086775</td>\n",
       "      <td>1.0</td>\n",
       "    </tr>\n",
       "    <tr>\n",
       "      <th>17</th>\n",
       "      <td>14.14</td>\n",
       "      <td>176</td>\n",
       "      <td>2.717340</td>\n",
       "      <td>5.176150</td>\n",
       "      <td>1.0</td>\n",
       "    </tr>\n",
       "    <tr>\n",
       "      <th>43</th>\n",
       "      <td>14.23</td>\n",
       "      <td>751</td>\n",
       "      <td>2.723267</td>\n",
       "      <td>6.622736</td>\n",
       "      <td>1.0</td>\n",
       "    </tr>\n",
       "    <tr>\n",
       "      <th>13</th>\n",
       "      <td>14.27</td>\n",
       "      <td>380</td>\n",
       "      <td>2.725890</td>\n",
       "      <td>5.942799</td>\n",
       "      <td>1.0</td>\n",
       "    </tr>\n",
       "    <tr>\n",
       "      <th>40</th>\n",
       "      <td>14.31</td>\n",
       "      <td>200</td>\n",
       "      <td>2.728506</td>\n",
       "      <td>5.303305</td>\n",
       "      <td>1.0</td>\n",
       "    </tr>\n",
       "    <tr>\n",
       "      <th>36</th>\n",
       "      <td>14.43</td>\n",
       "      <td>335</td>\n",
       "      <td>2.736314</td>\n",
       "      <td>5.817111</td>\n",
       "      <td>1.0</td>\n",
       "    </tr>\n",
       "    <tr>\n",
       "      <th>32</th>\n",
       "      <td>14.43</td>\n",
       "      <td>236</td>\n",
       "      <td>2.736314</td>\n",
       "      <td>5.468060</td>\n",
       "      <td>1.0</td>\n",
       "    </tr>\n",
       "    <tr>\n",
       "      <th>29</th>\n",
       "      <td>14.89</td>\n",
       "      <td>371</td>\n",
       "      <td>2.765690</td>\n",
       "      <td>5.918894</td>\n",
       "      <td>1.0</td>\n",
       "    </tr>\n",
       "    <tr>\n",
       "      <th>48</th>\n",
       "      <td>15.13</td>\n",
       "      <td>130</td>\n",
       "      <td>2.780681</td>\n",
       "      <td>4.875197</td>\n",
       "      <td>1.0</td>\n",
       "    </tr>\n",
       "    <tr>\n",
       "      <th>38</th>\n",
       "      <td>15.15</td>\n",
       "      <td>461</td>\n",
       "      <td>2.781920</td>\n",
       "      <td>6.135565</td>\n",
       "      <td>1.0</td>\n",
       "    </tr>\n",
       "    <tr>\n",
       "      <th>34</th>\n",
       "      <td>18.22</td>\n",
       "      <td>63</td>\n",
       "      <td>2.955951</td>\n",
       "      <td>4.158883</td>\n",
       "      <td>1.0</td>\n",
       "    </tr>\n",
       "    <tr>\n",
       "      <th>2</th>\n",
       "      <td>18.65</td>\n",
       "      <td>70</td>\n",
       "      <td>2.978077</td>\n",
       "      <td>4.262680</td>\n",
       "      <td>1.0</td>\n",
       "    </tr>\n",
       "    <tr>\n",
       "      <th>3</th>\n",
       "      <td>18.65</td>\n",
       "      <td>52</td>\n",
       "      <td>2.978077</td>\n",
       "      <td>3.970292</td>\n",
       "      <td>1.0</td>\n",
       "    </tr>\n",
       "    <tr>\n",
       "      <th>6</th>\n",
       "      <td>18.65</td>\n",
       "      <td>47</td>\n",
       "      <td>2.978077</td>\n",
       "      <td>3.871201</td>\n",
       "      <td>1.0</td>\n",
       "    </tr>\n",
       "    <tr>\n",
       "      <th>4</th>\n",
       "      <td>18.65</td>\n",
       "      <td>64</td>\n",
       "      <td>2.978077</td>\n",
       "      <td>4.174387</td>\n",
       "      <td>1.0</td>\n",
       "    </tr>\n",
       "    <tr>\n",
       "      <th>5</th>\n",
       "      <td>18.65</td>\n",
       "      <td>72</td>\n",
       "      <td>2.978077</td>\n",
       "      <td>4.290459</td>\n",
       "      <td>1.0</td>\n",
       "    </tr>\n",
       "    <tr>\n",
       "      <th>1</th>\n",
       "      <td>18.65</td>\n",
       "      <td>98</td>\n",
       "      <td>2.978077</td>\n",
       "      <td>4.595120</td>\n",
       "      <td>1.0</td>\n",
       "    </tr>\n",
       "    <tr>\n",
       "      <th>19</th>\n",
       "      <td>18.72</td>\n",
       "      <td>91</td>\n",
       "      <td>2.981633</td>\n",
       "      <td>4.521789</td>\n",
       "      <td>1.0</td>\n",
       "    </tr>\n",
       "    <tr>\n",
       "      <th>7</th>\n",
       "      <td>18.73</td>\n",
       "      <td>85</td>\n",
       "      <td>2.982140</td>\n",
       "      <td>4.454347</td>\n",
       "      <td>1.0</td>\n",
       "    </tr>\n",
       "    <tr>\n",
       "      <th>22</th>\n",
       "      <td>18.74</td>\n",
       "      <td>41</td>\n",
       "      <td>2.982647</td>\n",
       "      <td>3.737670</td>\n",
       "      <td>1.0</td>\n",
       "    </tr>\n",
       "    <tr>\n",
       "      <th>25</th>\n",
       "      <td>18.75</td>\n",
       "      <td>85</td>\n",
       "      <td>2.983153</td>\n",
       "      <td>4.454347</td>\n",
       "      <td>1.0</td>\n",
       "    </tr>\n",
       "    <tr>\n",
       "      <th>8</th>\n",
       "      <td>18.75</td>\n",
       "      <td>59</td>\n",
       "      <td>2.983153</td>\n",
       "      <td>4.094345</td>\n",
       "      <td>1.0</td>\n",
       "    </tr>\n",
       "    <tr>\n",
       "      <th>9</th>\n",
       "      <td>18.75</td>\n",
       "      <td>63</td>\n",
       "      <td>2.983153</td>\n",
       "      <td>4.158883</td>\n",
       "      <td>1.0</td>\n",
       "    </tr>\n",
       "    <tr>\n",
       "      <th>26</th>\n",
       "      <td>18.75</td>\n",
       "      <td>116</td>\n",
       "      <td>2.983153</td>\n",
       "      <td>4.762174</td>\n",
       "      <td>1.0</td>\n",
       "    </tr>\n",
       "    <tr>\n",
       "      <th>11</th>\n",
       "      <td>18.75</td>\n",
       "      <td>54</td>\n",
       "      <td>2.983153</td>\n",
       "      <td>4.007333</td>\n",
       "      <td>1.0</td>\n",
       "    </tr>\n",
       "    <tr>\n",
       "      <th>10</th>\n",
       "      <td>18.75</td>\n",
       "      <td>57</td>\n",
       "      <td>2.983153</td>\n",
       "      <td>4.060443</td>\n",
       "      <td>1.0</td>\n",
       "    </tr>\n",
       "    <tr>\n",
       "      <th>24</th>\n",
       "      <td>18.75</td>\n",
       "      <td>84</td>\n",
       "      <td>2.983153</td>\n",
       "      <td>4.442651</td>\n",
       "      <td>1.0</td>\n",
       "    </tr>\n",
       "    <tr>\n",
       "      <th>23</th>\n",
       "      <td>18.75</td>\n",
       "      <td>47</td>\n",
       "      <td>2.983153</td>\n",
       "      <td>3.871201</td>\n",
       "      <td>1.0</td>\n",
       "    </tr>\n",
       "    <tr>\n",
       "      <th>33</th>\n",
       "      <td>18.75</td>\n",
       "      <td>43</td>\n",
       "      <td>2.983153</td>\n",
       "      <td>3.784190</td>\n",
       "      <td>1.0</td>\n",
       "    </tr>\n",
       "    <tr>\n",
       "      <th>18</th>\n",
       "      <td>18.76</td>\n",
       "      <td>61</td>\n",
       "      <td>2.983660</td>\n",
       "      <td>4.127134</td>\n",
       "      <td>1.0</td>\n",
       "    </tr>\n",
       "    <tr>\n",
       "      <th>21</th>\n",
       "      <td>18.76</td>\n",
       "      <td>83</td>\n",
       "      <td>2.983660</td>\n",
       "      <td>4.430817</td>\n",
       "      <td>1.0</td>\n",
       "    </tr>\n",
       "    <tr>\n",
       "      <th>20</th>\n",
       "      <td>18.76</td>\n",
       "      <td>59</td>\n",
       "      <td>2.983660</td>\n",
       "      <td>4.094345</td>\n",
       "      <td>1.0</td>\n",
       "    </tr>\n",
       "    <tr>\n",
       "      <th>14</th>\n",
       "      <td>18.76</td>\n",
       "      <td>65</td>\n",
       "      <td>2.983660</td>\n",
       "      <td>4.189655</td>\n",
       "      <td>1.0</td>\n",
       "    </tr>\n",
       "    <tr>\n",
       "      <th>15</th>\n",
       "      <td>18.77</td>\n",
       "      <td>40</td>\n",
       "      <td>2.984166</td>\n",
       "      <td>3.713572</td>\n",
       "      <td>1.0</td>\n",
       "    </tr>\n",
       "    <tr>\n",
       "      <th>45</th>\n",
       "      <td>19.29</td>\n",
       "      <td>80</td>\n",
       "      <td>3.010128</td>\n",
       "      <td>4.394449</td>\n",
       "      <td>1.0</td>\n",
       "    </tr>\n",
       "    <tr>\n",
       "      <th>44</th>\n",
       "      <td>19.31</td>\n",
       "      <td>70</td>\n",
       "      <td>3.011113</td>\n",
       "      <td>4.262680</td>\n",
       "      <td>1.0</td>\n",
       "    </tr>\n",
       "    <tr>\n",
       "      <th>49</th>\n",
       "      <td>19.43</td>\n",
       "      <td>69</td>\n",
       "      <td>3.017004</td>\n",
       "      <td>4.248495</td>\n",
       "      <td>1.0</td>\n",
       "    </tr>\n",
       "    <tr>\n",
       "      <th>37</th>\n",
       "      <td>19.48</td>\n",
       "      <td>75</td>\n",
       "      <td>3.019449</td>\n",
       "      <td>4.330733</td>\n",
       "      <td>1.0</td>\n",
       "    </tr>\n",
       "    <tr>\n",
       "      <th>41</th>\n",
       "      <td>19.50</td>\n",
       "      <td>32</td>\n",
       "      <td>3.020425</td>\n",
       "      <td>3.496508</td>\n",
       "      <td>1.0</td>\n",
       "    </tr>\n",
       "  </tbody>\n",
       "</table>\n",
       "</div>"
      ],
      "text/plain": [
       "    Price  Quantity  price_log  quantity_log  const\n",
       "50  13.26       493   2.657458      6.202536    1.0\n",
       "47  13.45       741   2.670694      6.609349    1.0\n",
       "28  13.49       890   2.673459      6.792344    1.0\n",
       "31  13.67       775   2.685805      6.654153    1.0\n",
       "46  13.76       523   2.691921      6.261492    1.0\n",
       "39  13.79       817   2.693951      6.706862    1.0\n",
       "27  13.79       544   2.693951      6.300786    1.0\n",
       "42  13.85       460   2.698000      6.133398    1.0\n",
       "16  13.87       456   2.699346      6.124683    1.0\n",
       "12  13.87       404   2.699346      6.003887    1.0\n",
       "51  13.92       814   2.702703      6.703188    1.0\n",
       "30  13.94       557   2.704042      6.324359    1.0\n",
       "35  14.06       469   2.712042      6.152733    1.0\n",
       "0   14.10       439   2.714695      6.086775    1.0\n",
       "17  14.14       176   2.717340      5.176150    1.0\n",
       "43  14.23       751   2.723267      6.622736    1.0\n",
       "13  14.27       380   2.725890      5.942799    1.0\n",
       "40  14.31       200   2.728506      5.303305    1.0\n",
       "36  14.43       335   2.736314      5.817111    1.0\n",
       "32  14.43       236   2.736314      5.468060    1.0\n",
       "29  14.89       371   2.765690      5.918894    1.0\n",
       "48  15.13       130   2.780681      4.875197    1.0\n",
       "38  15.15       461   2.781920      6.135565    1.0\n",
       "34  18.22        63   2.955951      4.158883    1.0\n",
       "2   18.65        70   2.978077      4.262680    1.0\n",
       "3   18.65        52   2.978077      3.970292    1.0\n",
       "6   18.65        47   2.978077      3.871201    1.0\n",
       "4   18.65        64   2.978077      4.174387    1.0\n",
       "5   18.65        72   2.978077      4.290459    1.0\n",
       "1   18.65        98   2.978077      4.595120    1.0\n",
       "19  18.72        91   2.981633      4.521789    1.0\n",
       "7   18.73        85   2.982140      4.454347    1.0\n",
       "22  18.74        41   2.982647      3.737670    1.0\n",
       "25  18.75        85   2.983153      4.454347    1.0\n",
       "8   18.75        59   2.983153      4.094345    1.0\n",
       "9   18.75        63   2.983153      4.158883    1.0\n",
       "26  18.75       116   2.983153      4.762174    1.0\n",
       "11  18.75        54   2.983153      4.007333    1.0\n",
       "10  18.75        57   2.983153      4.060443    1.0\n",
       "24  18.75        84   2.983153      4.442651    1.0\n",
       "23  18.75        47   2.983153      3.871201    1.0\n",
       "33  18.75        43   2.983153      3.784190    1.0\n",
       "18  18.76        61   2.983660      4.127134    1.0\n",
       "21  18.76        83   2.983660      4.430817    1.0\n",
       "20  18.76        59   2.983660      4.094345    1.0\n",
       "14  18.76        65   2.983660      4.189655    1.0\n",
       "15  18.77        40   2.984166      3.713572    1.0\n",
       "45  19.29        80   3.010128      4.394449    1.0\n",
       "44  19.31        70   3.011113      4.262680    1.0\n",
       "49  19.43        69   3.017004      4.248495    1.0\n",
       "37  19.48        75   3.019449      4.330733    1.0\n",
       "41  19.50        32   3.020425      3.496508    1.0"
      ]
     },
     "execution_count": 47,
     "metadata": {},
     "output_type": "execute_result"
    }
   ],
   "source": [
    "ex_data_loglog['const'] = np.ones([ex_data_loglog.shape[0],1])\n",
    "ex_data_loglog"
   ]
  },
  {
   "cell_type": "markdown",
   "id": "8f739fde",
   "metadata": {},
   "source": [
    "#### Task 5\n",
    "##### Fit the model using `sm.OLS` and pass the columns we transformed to log in the previous tasks.\n",
    "##### Name the model `ex_loglog`.\n",
    "#### Result:\n"
   ]
  },
  {
   "cell_type": "code",
   "execution_count": 48,
   "id": "164590e3",
   "metadata": {},
   "outputs": [],
   "source": [
    "y = ex_data_loglog[['quantity_log']]\n",
    "X = ex_data_loglog[['const','price_log']]\n",
    "ex_loglog = sm.OLS(y,X).fit()"
   ]
  },
  {
   "cell_type": "markdown",
   "id": "d4e7c5be",
   "metadata": {},
   "source": [
    "#### Task 6\n",
    "##### Use the fitted log-log model to predict. \n",
    "##### Save the predictions as `ex_prediction_loglog`.\n",
    "##### Take a look at the first 10 rows of the predictions.\n",
    "#### Result:\n"
   ]
  },
  {
   "cell_type": "code",
   "execution_count": 49,
   "id": "78f7069e",
   "metadata": {},
   "outputs": [
    {
     "data": {
      "text/plain": [
       "50    6.495929\n",
       "47    6.402347\n",
       "28    6.382803\n",
       "31    6.295515\n",
       "46    6.252272\n",
       "39    6.237917\n",
       "27    6.237917\n",
       "42    6.209292\n",
       "16    6.199777\n",
       "12    6.199777\n",
       "dtype: float64"
      ]
     },
     "execution_count": 49,
     "metadata": {},
     "output_type": "execute_result"
    }
   ],
   "source": [
    "ex_prediction_loglog = ex_loglog.predict(X)\n",
    "ex_prediction_loglog.head(10)"
   ]
  },
  {
   "cell_type": "markdown",
   "id": "4d6c8906",
   "metadata": {},
   "source": [
    "#### Task 7\n",
    "##### Exponentiate the predictions and save as `ex_prediction`.\n",
    "##### Print the first 10 rows of `ex_prediction`.\n",
    "#### Result:\n"
   ]
  },
  {
   "cell_type": "code",
   "execution_count": 50,
   "id": "24e22a57",
   "metadata": {},
   "outputs": [
    {
     "data": {
      "text/plain": [
       "50    661.439031\n",
       "47    602.259453\n",
       "28    590.583552\n",
       "31    541.135198\n",
       "46    518.191332\n",
       "39    510.791201\n",
       "27    510.791201\n",
       "42    496.349205\n",
       "16    491.639002\n",
       "12    491.639002\n",
       "dtype: float64"
      ]
     },
     "execution_count": 50,
     "metadata": {},
     "output_type": "execute_result"
    }
   ],
   "source": [
    "ex_prediction = np.expm1(ex_prediction_loglog)\n",
    "ex_prediction.head(10)"
   ]
  },
  {
   "cell_type": "markdown",
   "id": "dcfe192a",
   "metadata": {},
   "source": [
    "#### Task 8\n",
    "##### Create a scatterplot of the actual values of `quantity` and the predicted values of `quantity`. \n",
    "##### Plot the actual quantity as the scatter points and the predicted quantity as a red line to compare.\n",
    "#### Result:\n"
   ]
  },
  {
   "cell_type": "code",
   "execution_count": 51,
   "id": "6c7f6cdf",
   "metadata": {},
   "outputs": [
    {
     "data": {
      "text/plain": [
       "[<matplotlib.lines.Line2D at 0x7f83e7ea53d0>]"
      ]
     },
     "execution_count": 51,
     "metadata": {},
     "output_type": "execute_result"
    },
    {
     "data": {
      "image/png": "[encoded data removed]",
      "text/plain": [
       "<Figure size 432x288 with 1 Axes>"
      ]
     },
     "metadata": {
      "needs_background": "light"
     },
     "output_type": "display_data"
    }
   ],
   "source": [
    "ex_data_loglog.plot(kind = 'scatter', x = 'Price' , y = 'Quantity')\n",
    "plt.plot(ex_data_loglog['Price'],ex_prediction, color = 'r')"
   ]
  },
  {
   "cell_type": "markdown",
   "id": "fe97a6f1",
   "metadata": {},
   "source": [
    "#### Task 9\n",
    "##### Get the residuals and put them into a dataframe called `ex_loglog_results`, along with the actual values of `quantity` and the exponentiated predictions of `quantity`.\n",
    "##### Using the RMSE function, get the RMSE of our log-log model.\n"
   ]
  },
  {
   "cell_type": "code",
   "execution_count": 52,
   "id": "e63e117d",
   "metadata": {},
   "outputs": [],
   "source": [
    "def rmse(prediction,actual):\n",
    "    return np.sqrt(((prediction-actual) ** 2).mean())\n"
   ]
  },
  {
   "cell_type": "markdown",
   "id": "7b4bf9e9",
   "metadata": {},
   "source": [
    "#### Result:\n"
   ]
  },
  {
   "cell_type": "code",
   "execution_count": 53,
   "id": "2ee47f6e",
   "metadata": {},
   "outputs": [
    {
     "data": {
      "text/html": [
       "<div>\n",
       "<style scoped>\n",
       "    .dataframe tbody tr th:only-of-type {\n",
       "        vertical-align: middle;\n",
       "    }\n",
       "\n",
       "    .dataframe tbody tr th {\n",
       "        vertical-align: top;\n",
       "    }\n",
       "\n",
       "    .dataframe thead th {\n",
       "        text-align: right;\n",
       "    }\n",
       "</style>\n",
       "<table border=\"1\" class=\"dataframe\">\n",
       "  <thead>\n",
       "    <tr style=\"text-align: right;\">\n",
       "      <th></th>\n",
       "      <th>actual</th>\n",
       "      <th>predicted</th>\n",
       "      <th>residuals</th>\n",
       "    </tr>\n",
       "  </thead>\n",
       "  <tbody>\n",
       "    <tr>\n",
       "      <th>50</th>\n",
       "      <td>493</td>\n",
       "      <td>661.439031</td>\n",
       "      <td>-168.439031</td>\n",
       "    </tr>\n",
       "    <tr>\n",
       "      <th>47</th>\n",
       "      <td>741</td>\n",
       "      <td>602.259453</td>\n",
       "      <td>138.740547</td>\n",
       "    </tr>\n",
       "    <tr>\n",
       "      <th>28</th>\n",
       "      <td>890</td>\n",
       "      <td>590.583552</td>\n",
       "      <td>299.416448</td>\n",
       "    </tr>\n",
       "    <tr>\n",
       "      <th>31</th>\n",
       "      <td>775</td>\n",
       "      <td>541.135198</td>\n",
       "      <td>233.864802</td>\n",
       "    </tr>\n",
       "    <tr>\n",
       "      <th>46</th>\n",
       "      <td>523</td>\n",
       "      <td>518.191332</td>\n",
       "      <td>4.808668</td>\n",
       "    </tr>\n",
       "    <tr>\n",
       "      <th>39</th>\n",
       "      <td>817</td>\n",
       "      <td>510.791201</td>\n",
       "      <td>306.208799</td>\n",
       "    </tr>\n",
       "    <tr>\n",
       "      <th>27</th>\n",
       "      <td>544</td>\n",
       "      <td>510.791201</td>\n",
       "      <td>33.208799</td>\n",
       "    </tr>\n",
       "    <tr>\n",
       "      <th>42</th>\n",
       "      <td>460</td>\n",
       "      <td>496.349205</td>\n",
       "      <td>-36.349205</td>\n",
       "    </tr>\n",
       "    <tr>\n",
       "      <th>16</th>\n",
       "      <td>456</td>\n",
       "      <td>491.639002</td>\n",
       "      <td>-35.639002</td>\n",
       "    </tr>\n",
       "    <tr>\n",
       "      <th>12</th>\n",
       "      <td>404</td>\n",
       "      <td>491.639002</td>\n",
       "      <td>-87.639002</td>\n",
       "    </tr>\n",
       "    <tr>\n",
       "      <th>51</th>\n",
       "      <td>814</td>\n",
       "      <td>480.084616</td>\n",
       "      <td>333.915384</td>\n",
       "    </tr>\n",
       "    <tr>\n",
       "      <th>30</th>\n",
       "      <td>557</td>\n",
       "      <td>475.549710</td>\n",
       "      <td>81.450290</td>\n",
       "    </tr>\n",
       "    <tr>\n",
       "      <th>35</th>\n",
       "      <td>469</td>\n",
       "      <td>449.343285</td>\n",
       "      <td>19.656715</td>\n",
       "    </tr>\n",
       "    <tr>\n",
       "      <th>0</th>\n",
       "      <td>439</td>\n",
       "      <td>440.976314</td>\n",
       "      <td>-1.976314</td>\n",
       "    </tr>\n",
       "    <tr>\n",
       "      <th>17</th>\n",
       "      <td>176</td>\n",
       "      <td>432.786315</td>\n",
       "      <td>-256.786315</td>\n",
       "    </tr>\n",
       "    <tr>\n",
       "      <th>43</th>\n",
       "      <td>751</td>\n",
       "      <td>414.984315</td>\n",
       "      <td>336.015685</td>\n",
       "    </tr>\n",
       "    <tr>\n",
       "      <th>13</th>\n",
       "      <td>380</td>\n",
       "      <td>407.341062</td>\n",
       "      <td>-27.341062</td>\n",
       "    </tr>\n",
       "    <tr>\n",
       "      <th>40</th>\n",
       "      <td>200</td>\n",
       "      <td>399.857692</td>\n",
       "      <td>-199.857692</td>\n",
       "    </tr>\n",
       "    <tr>\n",
       "      <th>36</th>\n",
       "      <td>335</td>\n",
       "      <td>378.329875</td>\n",
       "      <td>-43.329875</td>\n",
       "    </tr>\n",
       "    <tr>\n",
       "      <th>32</th>\n",
       "      <td>236</td>\n",
       "      <td>378.329875</td>\n",
       "      <td>-142.329875</td>\n",
       "    </tr>\n",
       "    <tr>\n",
       "      <th>29</th>\n",
       "      <td>371</td>\n",
       "      <td>307.187950</td>\n",
       "      <td>63.812050</td>\n",
       "    </tr>\n",
       "    <tr>\n",
       "      <th>48</th>\n",
       "      <td>130</td>\n",
       "      <td>276.194963</td>\n",
       "      <td>-146.194963</td>\n",
       "    </tr>\n",
       "    <tr>\n",
       "      <th>38</th>\n",
       "      <td>461</td>\n",
       "      <td>273.777040</td>\n",
       "      <td>187.222960</td>\n",
       "    </tr>\n",
       "    <tr>\n",
       "      <th>34</th>\n",
       "      <td>63</td>\n",
       "      <td>79.280256</td>\n",
       "      <td>-16.280256</td>\n",
       "    </tr>\n",
       "    <tr>\n",
       "      <th>2</th>\n",
       "      <td>70</td>\n",
       "      <td>67.654656</td>\n",
       "      <td>2.345344</td>\n",
       "    </tr>\n",
       "    <tr>\n",
       "      <th>3</th>\n",
       "      <td>52</td>\n",
       "      <td>67.654656</td>\n",
       "      <td>-15.654656</td>\n",
       "    </tr>\n",
       "    <tr>\n",
       "      <th>6</th>\n",
       "      <td>47</td>\n",
       "      <td>67.654656</td>\n",
       "      <td>-20.654656</td>\n",
       "    </tr>\n",
       "    <tr>\n",
       "      <th>4</th>\n",
       "      <td>64</td>\n",
       "      <td>67.654656</td>\n",
       "      <td>-3.654656</td>\n",
       "    </tr>\n",
       "    <tr>\n",
       "      <th>5</th>\n",
       "      <td>72</td>\n",
       "      <td>67.654656</td>\n",
       "      <td>4.345344</td>\n",
       "    </tr>\n",
       "    <tr>\n",
       "      <th>1</th>\n",
       "      <td>98</td>\n",
       "      <td>67.654656</td>\n",
       "      <td>30.345344</td>\n",
       "    </tr>\n",
       "    <tr>\n",
       "      <th>19</th>\n",
       "      <td>91</td>\n",
       "      <td>65.950079</td>\n",
       "      <td>25.049921</td>\n",
       "    </tr>\n",
       "    <tr>\n",
       "      <th>7</th>\n",
       "      <td>85</td>\n",
       "      <td>65.710533</td>\n",
       "      <td>19.289467</td>\n",
       "    </tr>\n",
       "    <tr>\n",
       "      <th>22</th>\n",
       "      <td>41</td>\n",
       "      <td>65.471966</td>\n",
       "      <td>-24.471966</td>\n",
       "    </tr>\n",
       "    <tr>\n",
       "      <th>25</th>\n",
       "      <td>85</td>\n",
       "      <td>65.234372</td>\n",
       "      <td>19.765628</td>\n",
       "    </tr>\n",
       "    <tr>\n",
       "      <th>8</th>\n",
       "      <td>59</td>\n",
       "      <td>65.234372</td>\n",
       "      <td>-6.234372</td>\n",
       "    </tr>\n",
       "    <tr>\n",
       "      <th>9</th>\n",
       "      <td>63</td>\n",
       "      <td>65.234372</td>\n",
       "      <td>-2.234372</td>\n",
       "    </tr>\n",
       "    <tr>\n",
       "      <th>26</th>\n",
       "      <td>116</td>\n",
       "      <td>65.234372</td>\n",
       "      <td>50.765628</td>\n",
       "    </tr>\n",
       "    <tr>\n",
       "      <th>11</th>\n",
       "      <td>54</td>\n",
       "      <td>65.234372</td>\n",
       "      <td>-11.234372</td>\n",
       "    </tr>\n",
       "    <tr>\n",
       "      <th>10</th>\n",
       "      <td>57</td>\n",
       "      <td>65.234372</td>\n",
       "      <td>-8.234372</td>\n",
       "    </tr>\n",
       "    <tr>\n",
       "      <th>24</th>\n",
       "      <td>84</td>\n",
       "      <td>65.234372</td>\n",
       "      <td>18.765628</td>\n",
       "    </tr>\n",
       "    <tr>\n",
       "      <th>23</th>\n",
       "      <td>47</td>\n",
       "      <td>65.234372</td>\n",
       "      <td>-18.234372</td>\n",
       "    </tr>\n",
       "    <tr>\n",
       "      <th>33</th>\n",
       "      <td>43</td>\n",
       "      <td>65.234372</td>\n",
       "      <td>-22.234372</td>\n",
       "    </tr>\n",
       "    <tr>\n",
       "      <th>18</th>\n",
       "      <td>61</td>\n",
       "      <td>64.997747</td>\n",
       "      <td>-3.997747</td>\n",
       "    </tr>\n",
       "    <tr>\n",
       "      <th>21</th>\n",
       "      <td>83</td>\n",
       "      <td>64.997747</td>\n",
       "      <td>18.002253</td>\n",
       "    </tr>\n",
       "    <tr>\n",
       "      <th>20</th>\n",
       "      <td>59</td>\n",
       "      <td>64.997747</td>\n",
       "      <td>-5.997747</td>\n",
       "    </tr>\n",
       "    <tr>\n",
       "      <th>14</th>\n",
       "      <td>65</td>\n",
       "      <td>64.997747</td>\n",
       "      <td>0.002253</td>\n",
       "    </tr>\n",
       "    <tr>\n",
       "      <th>15</th>\n",
       "      <td>40</td>\n",
       "      <td>64.762086</td>\n",
       "      <td>-24.762086</td>\n",
       "    </tr>\n",
       "    <tr>\n",
       "      <th>45</th>\n",
       "      <td>80</td>\n",
       "      <td>53.733903</td>\n",
       "      <td>26.266097</td>\n",
       "    </tr>\n",
       "    <tr>\n",
       "      <th>44</th>\n",
       "      <td>70</td>\n",
       "      <td>53.353967</td>\n",
       "      <td>16.646033</td>\n",
       "    </tr>\n",
       "    <tr>\n",
       "      <th>49</th>\n",
       "      <td>69</td>\n",
       "      <td>51.136580</td>\n",
       "      <td>17.863420</td>\n",
       "    </tr>\n",
       "    <tr>\n",
       "      <th>37</th>\n",
       "      <td>75</td>\n",
       "      <td>50.243280</td>\n",
       "      <td>24.756720</td>\n",
       "    </tr>\n",
       "    <tr>\n",
       "      <th>41</th>\n",
       "      <td>32</td>\n",
       "      <td>49.890861</td>\n",
       "      <td>-17.890861</td>\n",
       "    </tr>\n",
       "  </tbody>\n",
       "</table>\n",
       "</div>"
      ],
      "text/plain": [
       "    actual   predicted   residuals\n",
       "50     493  661.439031 -168.439031\n",
       "47     741  602.259453  138.740547\n",
       "28     890  590.583552  299.416448\n",
       "31     775  541.135198  233.864802\n",
       "46     523  518.191332    4.808668\n",
       "39     817  510.791201  306.208799\n",
       "27     544  510.791201   33.208799\n",
       "42     460  496.349205  -36.349205\n",
       "16     456  491.639002  -35.639002\n",
       "12     404  491.639002  -87.639002\n",
       "51     814  480.084616  333.915384\n",
       "30     557  475.549710   81.450290\n",
       "35     469  449.343285   19.656715\n",
       "0      439  440.976314   -1.976314\n",
       "17     176  432.786315 -256.786315\n",
       "43     751  414.984315  336.015685\n",
       "13     380  407.341062  -27.341062\n",
       "40     200  399.857692 -199.857692\n",
       "36     335  378.329875  -43.329875\n",
       "32     236  378.329875 -142.329875\n",
       "29     371  307.187950   63.812050\n",
       "48     130  276.194963 -146.194963\n",
       "38     461  273.777040  187.222960\n",
       "34      63   79.280256  -16.280256\n",
       "2       70   67.654656    2.345344\n",
       "3       52   67.654656  -15.654656\n",
       "6       47   67.654656  -20.654656\n",
       "4       64   67.654656   -3.654656\n",
       "5       72   67.654656    4.345344\n",
       "1       98   67.654656   30.345344\n",
       "19      91   65.950079   25.049921\n",
       "7       85   65.710533   19.289467\n",
       "22      41   65.471966  -24.471966\n",
       "25      85   65.234372   19.765628\n",
       "8       59   65.234372   -6.234372\n",
       "9       63   65.234372   -2.234372\n",
       "26     116   65.234372   50.765628\n",
       "11      54   65.234372  -11.234372\n",
       "10      57   65.234372   -8.234372\n",
       "24      84   65.234372   18.765628\n",
       "23      47   65.234372  -18.234372\n",
       "33      43   65.234372  -22.234372\n",
       "18      61   64.997747   -3.997747\n",
       "21      83   64.997747   18.002253\n",
       "20      59   64.997747   -5.997747\n",
       "14      65   64.997747    0.002253\n",
       "15      40   64.762086  -24.762086\n",
       "45      80   53.733903   26.266097\n",
       "44      70   53.353967   16.646033\n",
       "49      69   51.136580   17.863420\n",
       "37      75   50.243280   24.756720\n",
       "41      32   49.890861  -17.890861"
      ]
     },
     "execution_count": 53,
     "metadata": {},
     "output_type": "execute_result"
    }
   ],
   "source": [
    "actual = ex_data_loglog['Quantity']\n",
    "predicted = ex_prediction\n",
    "\n",
    "residuals = actual - predicted\n",
    "\n",
    "ex_loglog_resuts = pd.DataFrame({'actual':actual,'predicted':predicted,'residuals':residuals})\n",
    "ex_loglog_resuts"
   ]
  },
  {
   "cell_type": "code",
   "execution_count": 54,
   "id": "1d326348-4a51-48d9-a3e3-f6a24b4450a1",
   "metadata": {},
   "outputs": [
    {
     "data": {
      "text/plain": [
       "118.39512505226527"
      ]
     },
     "execution_count": 54,
     "metadata": {},
     "output_type": "execute_result"
    }
   ],
   "source": [
    "rmse(actual,predicted)"
   ]
  },
  {
   "cell_type": "markdown",
   "id": "d2ac9a66",
   "metadata": {},
   "source": [
    "#### Task 10\n",
    "##### Build a standard linear model with the dataset, and get a plot of `actual vs.predicted`.\n",
    "##### Compare the plot with our previous log-log model plot.\n",
    "#### Result:\n"
   ]
  },
  {
   "cell_type": "code",
   "execution_count": 55,
   "id": "833d6313",
   "metadata": {},
   "outputs": [
    {
     "data": {
      "image/png": "[encoded data removed]",
      "text/plain": [
       "<Figure size 432x288 with 1 Axes>"
      ]
     },
     "metadata": {
      "needs_background": "light"
     },
     "output_type": "display_data"
    }
   ],
   "source": [
    "# Fit the model.\n",
    "model_lin = sm.OLS(ex_data_loglog['Quantity'], ex_data_loglog.loc[:,['const','Price']]).fit()\n",
    "prediction = model_lin.predict(ex_data_loglog.loc[:,['const','Price']])\n",
    "plt.scatter(ex_data_loglog['Price'],ex_data_loglog['Quantity'])\n",
    "plt.plot(ex_data_loglog['Price'], prediction, 'red')\n",
    "plt.title(\"Price vs Quantity for standard linear model\")\n",
    "plt.xlabel(\"Price\")\n",
    "plt.ylabel(\"Quantity\")\n",
    "plt.show()\n"
   ]
  },
  {
   "cell_type": "markdown",
   "id": "582ba2f6",
   "metadata": {},
   "source": [
    "#### Exercise 2\n",
    "#### Task 1\n",
    "##### Load `loglin.csv` and save as `ex_data_loglin`.\n",
    "##### The data consists of 200 weeks of stock data. \n",
    "##### We want to build a regression model that can predict `stock price` according to the changes in the `day`.\n",
    "##### Check the shape of the data, print the first few rows, and check for any missing values. \n",
    "#### Result:\n"
   ]
  },
  {
   "cell_type": "code",
   "execution_count": 56,
   "id": "317b4e53",
   "metadata": {},
   "outputs": [
    {
     "name": "stdout",
     "output_type": "stream",
     "text": [
      "['insurance.csv', 'diabetes.csv', 'loglin.csv', '.ipynb_checkpoints', 'beer-sold-by-price.csv', 'ChemicalManufacturingProcess.csv']\n",
      "shape: (504, 2)\n",
      "   Day  Stock Price\n",
      "0    1       105.26\n",
      "1    2       105.35\n",
      "2    3       102.71\n",
      "3    4       100.70\n",
      "4    5        96.45\n",
      "5    6        96.96\n",
      "6    7        98.53\n",
      "7    8        99.96\n",
      "8    9        97.39\n",
      "9   10        99.52\n"
     ]
    }
   ],
   "source": [
    "print(os.listdir())\n",
    "ex_data_loglin = pd.read_csv(str(data_dir) + '/loglin.csv')\n",
    "print(f'shape: {ex_data_loglin.shape}')\n",
    "print(ex_data_loglin.head(10))\n",
    "ex_data_loglin.isnull().values.any()\n",
    "#ex_data_loglog=ex_data_loglog.rename(columns={'PRICE 18PK':'Price', 'CASES 18PK':'Quantity'})\n",
    "ex_data_loglin.head()\n",
    "ex_data_loglin.sort_values(by=['Day'], inplace = True)\n"
   ]
  },
  {
   "cell_type": "markdown",
   "id": "f9b3fd7a",
   "metadata": {},
   "source": [
    "#### Task 2\n",
    "##### We need to transform the values of our target variable to the log of the actual values. \n",
    "##### Name the log values column as `price_log`.\n",
    "##### Print out the first few rows to check.\n",
    "#### Result:\n"
   ]
  },
  {
   "cell_type": "code",
   "execution_count": 57,
   "id": "53fee5f9",
   "metadata": {},
   "outputs": [
    {
     "data": {
      "text/html": [
       "<div>\n",
       "<style scoped>\n",
       "    .dataframe tbody tr th:only-of-type {\n",
       "        vertical-align: middle;\n",
       "    }\n",
       "\n",
       "    .dataframe tbody tr th {\n",
       "        vertical-align: top;\n",
       "    }\n",
       "\n",
       "    .dataframe thead th {\n",
       "        text-align: right;\n",
       "    }\n",
       "</style>\n",
       "<table border=\"1\" class=\"dataframe\">\n",
       "  <thead>\n",
       "    <tr style=\"text-align: right;\">\n",
       "      <th></th>\n",
       "      <th>const</th>\n",
       "      <th>Day</th>\n",
       "      <th>Stock Price</th>\n",
       "      <th>price_log</th>\n",
       "    </tr>\n",
       "  </thead>\n",
       "  <tbody>\n",
       "    <tr>\n",
       "      <th>0</th>\n",
       "      <td>1.0</td>\n",
       "      <td>1</td>\n",
       "      <td>105.26</td>\n",
       "      <td>4.665889</td>\n",
       "    </tr>\n",
       "    <tr>\n",
       "      <th>1</th>\n",
       "      <td>1.0</td>\n",
       "      <td>2</td>\n",
       "      <td>105.35</td>\n",
       "      <td>4.666736</td>\n",
       "    </tr>\n",
       "    <tr>\n",
       "      <th>2</th>\n",
       "      <td>1.0</td>\n",
       "      <td>3</td>\n",
       "      <td>102.71</td>\n",
       "      <td>4.641599</td>\n",
       "    </tr>\n",
       "    <tr>\n",
       "      <th>3</th>\n",
       "      <td>1.0</td>\n",
       "      <td>4</td>\n",
       "      <td>100.70</td>\n",
       "      <td>4.622027</td>\n",
       "    </tr>\n",
       "    <tr>\n",
       "      <th>4</th>\n",
       "      <td>1.0</td>\n",
       "      <td>5</td>\n",
       "      <td>96.45</td>\n",
       "      <td>4.579339</td>\n",
       "    </tr>\n",
       "    <tr>\n",
       "      <th>5</th>\n",
       "      <td>1.0</td>\n",
       "      <td>6</td>\n",
       "      <td>96.96</td>\n",
       "      <td>4.584559</td>\n",
       "    </tr>\n",
       "    <tr>\n",
       "      <th>6</th>\n",
       "      <td>1.0</td>\n",
       "      <td>7</td>\n",
       "      <td>98.53</td>\n",
       "      <td>4.600459</td>\n",
       "    </tr>\n",
       "    <tr>\n",
       "      <th>7</th>\n",
       "      <td>1.0</td>\n",
       "      <td>8</td>\n",
       "      <td>99.96</td>\n",
       "      <td>4.614724</td>\n",
       "    </tr>\n",
       "    <tr>\n",
       "      <th>8</th>\n",
       "      <td>1.0</td>\n",
       "      <td>9</td>\n",
       "      <td>97.39</td>\n",
       "      <td>4.588939</td>\n",
       "    </tr>\n",
       "    <tr>\n",
       "      <th>9</th>\n",
       "      <td>1.0</td>\n",
       "      <td>10</td>\n",
       "      <td>99.52</td>\n",
       "      <td>4.610357</td>\n",
       "    </tr>\n",
       "  </tbody>\n",
       "</table>\n",
       "</div>"
      ],
      "text/plain": [
       "   const  Day  Stock Price  price_log\n",
       "0    1.0    1       105.26   4.665889\n",
       "1    1.0    2       105.35   4.666736\n",
       "2    1.0    3       102.71   4.641599\n",
       "3    1.0    4       100.70   4.622027\n",
       "4    1.0    5        96.45   4.579339\n",
       "5    1.0    6        96.96   4.584559\n",
       "6    1.0    7        98.53   4.600459\n",
       "7    1.0    8        99.96   4.614724\n",
       "8    1.0    9        97.39   4.588939\n",
       "9    1.0   10        99.52   4.610357"
      ]
     },
     "execution_count": 57,
     "metadata": {},
     "output_type": "execute_result"
    }
   ],
   "source": [
    "ex_data_loglin['price_log'] = np.log1p(ex_data_loglin['Stock Price'])\n",
    "ex_data_loglin = sm.add_constant(ex_data_loglin)\n",
    "ex_data_loglin.head(10)"
   ]
  },
  {
   "cell_type": "markdown",
   "id": "5c2bcc17",
   "metadata": {},
   "source": [
    "#### Task 3\n",
    "##### Add a constant to the dataframe.\n",
    "#### Result:\n"
   ]
  },
  {
   "cell_type": "code",
   "execution_count": 58,
   "id": "ebfc19c9",
   "metadata": {},
   "outputs": [],
   "source": [
    "# done above"
   ]
  },
  {
   "cell_type": "markdown",
   "id": "31c908a6",
   "metadata": {},
   "source": [
    "#### Task 4\n",
    "##### Fit the model using `sm.OLS` and pass the target column (which we transformed to log in the previous task), the predictor column (which is `Day`), and the constant.\n",
    "##### Name the model `ex_loglin`.\n",
    "#### Result:\n"
   ]
  },
  {
   "cell_type": "code",
   "execution_count": 59,
   "id": "10d5e088",
   "metadata": {},
   "outputs": [],
   "source": [
    "y = ex_data_loglin['price_log']\n",
    "X = ex_data_loglin[['const','Day']]\n",
    "ex_loglin = sm.OLS(y,X).fit()"
   ]
  },
  {
   "cell_type": "markdown",
   "id": "a581da26",
   "metadata": {},
   "source": [
    "#### Task 5\n",
    "##### Use the fitted log-lin model to predict. \n",
    "##### Save the predictions as `ex_prediction_loglin`.\n",
    "##### Take a look at the first 10 rows of the predictions.\n",
    "#### Result:\n"
   ]
  },
  {
   "cell_type": "code",
   "execution_count": 60,
   "id": "9dcd3347",
   "metadata": {},
   "outputs": [
    {
     "data": {
      "text/plain": [
       "0    4.506499\n",
       "1    4.507809\n",
       "2    4.509119\n",
       "3    4.510429\n",
       "4    4.511738\n",
       "5    4.513048\n",
       "6    4.514358\n",
       "7    4.515668\n",
       "8    4.516977\n",
       "9    4.518287\n",
       "dtype: float64"
      ]
     },
     "execution_count": 60,
     "metadata": {},
     "output_type": "execute_result"
    }
   ],
   "source": [
    "ex_prediction_loglin = ex_loglin.predict(X)\n",
    "ex_prediction_loglin.head(10)"
   ]
  },
  {
   "cell_type": "markdown",
   "id": "4f80b86e",
   "metadata": {},
   "source": [
    "#### Task 6\n",
    "##### Exponentiate the predictions and save as `ex_prediction`.\n",
    "##### Print the first 10 rows of `ex_prediction`.\n",
    "#### Result:\n"
   ]
  },
  {
   "cell_type": "code",
   "execution_count": 61,
   "id": "e04e798a",
   "metadata": {},
   "outputs": [
    {
     "data": {
      "text/plain": [
       "0    89.604081\n",
       "1    89.722830\n",
       "2    89.841734\n",
       "3    89.960795\n",
       "4    90.080011\n",
       "5    90.199384\n",
       "6    90.318913\n",
       "7    90.438599\n",
       "8    90.558442\n",
       "9    90.678442\n",
       "dtype: float64"
      ]
     },
     "execution_count": 61,
     "metadata": {},
     "output_type": "execute_result"
    }
   ],
   "source": [
    "ex_prediction = np.expm1(ex_prediction_loglin)\n",
    "ex_prediction.head(10)"
   ]
  },
  {
   "cell_type": "markdown",
   "id": "cec209af",
   "metadata": {},
   "source": [
    "#### Task 7\n",
    "##### Create a scatterplot of the actual values of `Stock Price` and the predicted values of `Stock Price`. \n",
    "##### Plot the actual stock price as the scatter points and the predicted stock price as a red line to compare.\n",
    "#### Result:\n"
   ]
  },
  {
   "cell_type": "code",
   "execution_count": 62,
   "id": "4cc1a4b8",
   "metadata": {},
   "outputs": [
    {
     "data": {
      "text/plain": [
       "[<matplotlib.lines.Line2D at 0x7f83e7df3b90>]"
      ]
     },
     "execution_count": 62,
     "metadata": {},
     "output_type": "execute_result"
    },
    {
     "data": {
      "image/png": "[encoded data removed]",
      "text/plain": [
       "<Figure size 432x288 with 1 Axes>"
      ]
     },
     "metadata": {
      "needs_background": "light"
     },
     "output_type": "display_data"
    }
   ],
   "source": [
    "ex_data_loglin.plot(kind = 'scatter', x = 'Day', y = 'Stock Price')\n",
    "plt.plot(ex_data_loglin['Day'],ex_prediction, color = 'r')"
   ]
  },
  {
   "cell_type": "markdown",
   "id": "ed0aed47",
   "metadata": {},
   "source": [
    "#### Task 8\n",
    "##### Get the residuals and put them into a dataframe called `ex_loglin_results`, along with the actual values of `Stock Price` and the exponentiated predictions of `Stock Price`.\n",
    "##### Using the RMSE function, get the RMSE of our log-lin model.\n"
   ]
  },
  {
   "cell_type": "code",
   "execution_count": 63,
   "id": "ba839221",
   "metadata": {},
   "outputs": [],
   "source": [
    "def rmse(predictions,actual):\n",
    "    return np.sqrt(((prediction-actual) ** 2).mean())\n"
   ]
  },
  {
   "cell_type": "markdown",
   "id": "c805f769",
   "metadata": {},
   "source": [
    "#### Result:\n"
   ]
  },
  {
   "cell_type": "code",
   "execution_count": 64,
   "id": "2b89e00a",
   "metadata": {},
   "outputs": [
    {
     "data": {
      "text/html": [
       "<div>\n",
       "<style scoped>\n",
       "    .dataframe tbody tr th:only-of-type {\n",
       "        vertical-align: middle;\n",
       "    }\n",
       "\n",
       "    .dataframe tbody tr th {\n",
       "        vertical-align: top;\n",
       "    }\n",
       "\n",
       "    .dataframe thead th {\n",
       "        text-align: right;\n",
       "    }\n",
       "</style>\n",
       "<table border=\"1\" class=\"dataframe\">\n",
       "  <thead>\n",
       "    <tr style=\"text-align: right;\">\n",
       "      <th></th>\n",
       "      <th>actual</th>\n",
       "      <th>predicted</th>\n",
       "      <th>residuals</th>\n",
       "    </tr>\n",
       "  </thead>\n",
       "  <tbody>\n",
       "    <tr>\n",
       "      <th>0</th>\n",
       "      <td>105.26</td>\n",
       "      <td>89.604081</td>\n",
       "      <td>15.655919</td>\n",
       "    </tr>\n",
       "    <tr>\n",
       "      <th>1</th>\n",
       "      <td>105.35</td>\n",
       "      <td>89.722830</td>\n",
       "      <td>15.627170</td>\n",
       "    </tr>\n",
       "    <tr>\n",
       "      <th>2</th>\n",
       "      <td>102.71</td>\n",
       "      <td>89.841734</td>\n",
       "      <td>12.868266</td>\n",
       "    </tr>\n",
       "    <tr>\n",
       "      <th>3</th>\n",
       "      <td>100.70</td>\n",
       "      <td>89.960795</td>\n",
       "      <td>10.739205</td>\n",
       "    </tr>\n",
       "    <tr>\n",
       "      <th>4</th>\n",
       "      <td>96.45</td>\n",
       "      <td>90.080011</td>\n",
       "      <td>6.369989</td>\n",
       "    </tr>\n",
       "    <tr>\n",
       "      <th>...</th>\n",
       "      <td>...</td>\n",
       "      <td>...</td>\n",
       "      <td>...</td>\n",
       "    </tr>\n",
       "    <tr>\n",
       "      <th>499</th>\n",
       "      <td>175.01</td>\n",
       "      <td>173.178112</td>\n",
       "      <td>1.831888</td>\n",
       "    </tr>\n",
       "    <tr>\n",
       "      <th>500</th>\n",
       "      <td>170.57</td>\n",
       "      <td>173.406396</td>\n",
       "      <td>-2.836396</td>\n",
       "    </tr>\n",
       "    <tr>\n",
       "      <th>501</th>\n",
       "      <td>170.60</td>\n",
       "      <td>173.634980</td>\n",
       "      <td>-3.034980</td>\n",
       "    </tr>\n",
       "    <tr>\n",
       "      <th>502</th>\n",
       "      <td>171.08</td>\n",
       "      <td>173.863863</td>\n",
       "      <td>-2.783863</td>\n",
       "    </tr>\n",
       "    <tr>\n",
       "      <th>503</th>\n",
       "      <td>169.23</td>\n",
       "      <td>174.093046</td>\n",
       "      <td>-4.863046</td>\n",
       "    </tr>\n",
       "  </tbody>\n",
       "</table>\n",
       "<p>504 rows × 3 columns</p>\n",
       "</div>"
      ],
      "text/plain": [
       "     actual   predicted  residuals\n",
       "0    105.26   89.604081  15.655919\n",
       "1    105.35   89.722830  15.627170\n",
       "2    102.71   89.841734  12.868266\n",
       "3    100.70   89.960795  10.739205\n",
       "4     96.45   90.080011   6.369989\n",
       "..      ...         ...        ...\n",
       "499  175.01  173.178112   1.831888\n",
       "500  170.57  173.406396  -2.836396\n",
       "501  170.60  173.634980  -3.034980\n",
       "502  171.08  173.863863  -2.783863\n",
       "503  169.23  174.093046  -4.863046\n",
       "\n",
       "[504 rows x 3 columns]"
      ]
     },
     "execution_count": 64,
     "metadata": {},
     "output_type": "execute_result"
    }
   ],
   "source": [
    "actual = ex_data_loglin['Stock Price']\n",
    "predicted = ex_prediction\n",
    "\n",
    "residuals = actual - predicted\n",
    "\n",
    "ex_loglin_resuts = pd.DataFrame({'actual':actual,'predicted':predicted,'residuals':residuals})\n",
    "ex_loglin_resuts"
   ]
  },
  {
   "cell_type": "code",
   "execution_count": 65,
   "id": "e8319743-7fd9-4714-8007-e174e2f40d58",
   "metadata": {},
   "outputs": [
    {
     "data": {
      "text/plain": [
       "275.5042632773323"
      ]
     },
     "execution_count": 65,
     "metadata": {},
     "output_type": "execute_result"
    }
   ],
   "source": [
    "rmse(actual,predicted)"
   ]
  },
  {
   "cell_type": "markdown",
   "id": "953ebfc7",
   "metadata": {},
   "source": [
    "#### Task 9\n",
    "##### Build a standard linear model with the dataset, and get a plot of `actual vs.predicted`.\n",
    "##### Compare the plot with our previous plot of the log-lin model.\n",
    "##### Try calculating the RMSE for a more accurate comparison.\n",
    "#### Result:\n"
   ]
  },
  {
   "cell_type": "code",
   "execution_count": 66,
   "id": "8033d7b9",
   "metadata": {},
   "outputs": [
    {
     "data": {
      "image/png": "[encoded data removed]",
      "text/plain": [
       "<Figure size 432x288 with 1 Axes>"
      ]
     },
     "metadata": {
      "needs_background": "light"
     },
     "output_type": "display_data"
    }
   ],
   "source": [
    "# Fit the model.\n",
    "model_lin = sm.OLS(ex_data_loglin['Stock Price'], X).fit()\n",
    "prediction = model_lin.predict(X)\n",
    "\n",
    "plt.scatter(ex_data_loglin['Day'],ex_data_loglin['Stock Price'])\n",
    "plt.plot(ex_data_loglin['Day'], prediction, 'red')\n",
    "plt.title(\"Price vs Quantity for standard linear model\")\n",
    "plt.xlabel(\"Day\")\n",
    "plt.ylabel(\"Stock Price\")\n",
    "plt.show()\n"
   ]
  },
  {
   "cell_type": "markdown",
   "id": "bab9be69",
   "metadata": {},
   "source": [
    "#### Exercise 3\n",
    "#### Task 1\n",
    "##### Load `poly-data.csv` and save as `ex_data_poly`.\n",
    "##### This is a dataset generated to show 150 data points exhibiting a polynomial relationship.\n",
    "##### Check the shape of the data, print the first few rows, and check for any missing values. \n",
    "##### Sort the dataframe according to `x`.\n",
    "#### Result:\n"
   ]
  },
  {
   "cell_type": "code",
   "execution_count": 67,
   "id": "afcdcf52",
   "metadata": {},
   "outputs": [
    {
     "name": "stdout",
     "output_type": "stream",
     "text": [
      "['insurance.csv', 'diabetes.csv', 'loglin.csv', '.ipynb_checkpoints', 'beer-sold-by-price.csv', 'ChemicalManufacturingProcess.csv', 'poly-data.csv']\n"
     ]
    },
    {
     "data": {
      "text/plain": [
       "(150, 2)"
      ]
     },
     "execution_count": 67,
     "metadata": {},
     "output_type": "execute_result"
    }
   ],
   "source": [
    "print(os.listdir())\n",
    "ex_data_poly = pd.read_csv(str(data_dir) + '/poly-data.csv')\n",
    "ex_data_poly.shape\n"
   ]
  },
  {
   "cell_type": "code",
   "execution_count": 69,
   "id": "a867402f-3fcd-4031-85fc-d43a3c65e209",
   "metadata": {},
   "outputs": [
    {
     "name": "stdout",
     "output_type": "stream",
     "text": [
      "            x         y\n",
      "129  0.005676 -0.098644\n",
      "42   0.005998  1.091955\n",
      "108  0.012313 -0.202702\n",
      "141  0.016256 -0.389729\n",
      "140  0.018529  0.212417\n",
      "96   0.045366  0.307565\n",
      "24   0.055491  0.319058\n",
      "91   0.062518  0.378431\n",
      "10   0.088090  0.196870\n",
      "29   0.090890  1.381154\n"
     ]
    }
   ],
   "source": [
    "ex_data_poly.isnull().values.any()\n",
    "ex_data_poly.sort_values(by=['x'], inplace = True)\n",
    "print(ex_data_poly.head(10))\n"
   ]
  },
  {
   "cell_type": "markdown",
   "id": "2c56fd2b",
   "metadata": {},
   "source": [
    "#### Task 2\n",
    "##### Using `np.power()`, add two new predictors called `x2` and `x3`.\n",
    "##### Print out the first few rows with the new predictors.\n",
    "#### Result:\n"
   ]
  },
  {
   "cell_type": "code",
   "execution_count": 82,
   "id": "3845b214",
   "metadata": {},
   "outputs": [
    {
     "data": {
      "text/html": [
       "<div>\n",
       "<style scoped>\n",
       "    .dataframe tbody tr th:only-of-type {\n",
       "        vertical-align: middle;\n",
       "    }\n",
       "\n",
       "    .dataframe tbody tr th {\n",
       "        vertical-align: top;\n",
       "    }\n",
       "\n",
       "    .dataframe thead th {\n",
       "        text-align: right;\n",
       "    }\n",
       "</style>\n",
       "<table border=\"1\" class=\"dataframe\">\n",
       "  <thead>\n",
       "    <tr style=\"text-align: right;\">\n",
       "      <th></th>\n",
       "      <th>x</th>\n",
       "      <th>y</th>\n",
       "      <th>x2</th>\n",
       "      <th>x3</th>\n",
       "      <th>const</th>\n",
       "      <th>prediction</th>\n",
       "    </tr>\n",
       "  </thead>\n",
       "  <tbody>\n",
       "    <tr>\n",
       "      <th>129</th>\n",
       "      <td>0.005676</td>\n",
       "      <td>-0.098644</td>\n",
       "      <td>0.000032</td>\n",
       "      <td>1.829024e-07</td>\n",
       "      <td>1.0</td>\n",
       "      <td>-0.097369</td>\n",
       "    </tr>\n",
       "    <tr>\n",
       "      <th>42</th>\n",
       "      <td>0.005998</td>\n",
       "      <td>1.091955</td>\n",
       "      <td>0.000036</td>\n",
       "      <td>2.157555e-07</td>\n",
       "      <td>1.0</td>\n",
       "      <td>-0.093715</td>\n",
       "    </tr>\n",
       "    <tr>\n",
       "      <th>108</th>\n",
       "      <td>0.012313</td>\n",
       "      <td>-0.202702</td>\n",
       "      <td>0.000152</td>\n",
       "      <td>1.866939e-06</td>\n",
       "      <td>1.0</td>\n",
       "      <td>-0.023304</td>\n",
       "    </tr>\n",
       "    <tr>\n",
       "      <th>141</th>\n",
       "      <td>0.016256</td>\n",
       "      <td>-0.389729</td>\n",
       "      <td>0.000264</td>\n",
       "      <td>4.295415e-06</td>\n",
       "      <td>1.0</td>\n",
       "      <td>0.019291</td>\n",
       "    </tr>\n",
       "    <tr>\n",
       "      <th>140</th>\n",
       "      <td>0.018529</td>\n",
       "      <td>0.212417</td>\n",
       "      <td>0.000343</td>\n",
       "      <td>6.361774e-06</td>\n",
       "      <td>1.0</td>\n",
       "      <td>0.043389</td>\n",
       "    </tr>\n",
       "    <tr>\n",
       "      <th>96</th>\n",
       "      <td>0.045366</td>\n",
       "      <td>0.307565</td>\n",
       "      <td>0.002058</td>\n",
       "      <td>9.336406e-05</td>\n",
       "      <td>1.0</td>\n",
       "      <td>0.302458</td>\n",
       "    </tr>\n",
       "    <tr>\n",
       "      <th>24</th>\n",
       "      <td>0.055491</td>\n",
       "      <td>0.319058</td>\n",
       "      <td>0.003079</td>\n",
       "      <td>1.708698e-04</td>\n",
       "      <td>1.0</td>\n",
       "      <td>0.388395</td>\n",
       "    </tr>\n",
       "    <tr>\n",
       "      <th>91</th>\n",
       "      <td>0.062518</td>\n",
       "      <td>0.378431</td>\n",
       "      <td>0.003909</td>\n",
       "      <td>2.443535e-04</td>\n",
       "      <td>1.0</td>\n",
       "      <td>0.444356</td>\n",
       "    </tr>\n",
       "    <tr>\n",
       "      <th>10</th>\n",
       "      <td>0.088090</td>\n",
       "      <td>0.196870</td>\n",
       "      <td>0.007760</td>\n",
       "      <td>6.835690e-04</td>\n",
       "      <td>1.0</td>\n",
       "      <td>0.623348</td>\n",
       "    </tr>\n",
       "    <tr>\n",
       "      <th>29</th>\n",
       "      <td>0.090890</td>\n",
       "      <td>1.381154</td>\n",
       "      <td>0.008261</td>\n",
       "      <td>7.508517e-04</td>\n",
       "      <td>1.0</td>\n",
       "      <td>0.640664</td>\n",
       "    </tr>\n",
       "  </tbody>\n",
       "</table>\n",
       "</div>"
      ],
      "text/plain": [
       "            x         y        x2            x3  const  prediction\n",
       "129  0.005676 -0.098644  0.000032  1.829024e-07    1.0   -0.097369\n",
       "42   0.005998  1.091955  0.000036  2.157555e-07    1.0   -0.093715\n",
       "108  0.012313 -0.202702  0.000152  1.866939e-06    1.0   -0.023304\n",
       "141  0.016256 -0.389729  0.000264  4.295415e-06    1.0    0.019291\n",
       "140  0.018529  0.212417  0.000343  6.361774e-06    1.0    0.043389\n",
       "96   0.045366  0.307565  0.002058  9.336406e-05    1.0    0.302458\n",
       "24   0.055491  0.319058  0.003079  1.708698e-04    1.0    0.388395\n",
       "91   0.062518  0.378431  0.003909  2.443535e-04    1.0    0.444356\n",
       "10   0.088090  0.196870  0.007760  6.835690e-04    1.0    0.623348\n",
       "29   0.090890  1.381154  0.008261  7.508517e-04    1.0    0.640664"
      ]
     },
     "execution_count": 82,
     "metadata": {},
     "output_type": "execute_result"
    }
   ],
   "source": [
    "ex_data_poly['x2'] = np.power(ex_data_poly['x'],2)\n",
    "ex_data_poly['x3'] = np.power(ex_data_poly['x'],3)\n",
    "ex_data_poly['const'] = np.power(ex_data_poly['x'],0)\n",
    "ex_data_poly.head(10)\n",
    "\n"
   ]
  },
  {
   "cell_type": "markdown",
   "id": "7d0ccba8",
   "metadata": {},
   "source": [
    "#### Task 3\n",
    "##### Add a constant to our data and fit the model using `sm.OLS`. \n",
    "##### Name the fitted model as `ex_model_poly`.\n",
    "#### Result:\n"
   ]
  },
  {
   "cell_type": "code",
   "execution_count": 83,
   "id": "77bcb666",
   "metadata": {},
   "outputs": [
    {
     "data": {
      "text/plain": [
       "129   -0.097369\n",
       "42    -0.093715\n",
       "108   -0.023304\n",
       "141    0.019291\n",
       "140    0.043389\n",
       "96     0.302458\n",
       "24     0.388395\n",
       "91     0.444356\n",
       "10     0.623348\n",
       "29     0.640664\n",
       "dtype: float64"
      ]
     },
     "execution_count": 83,
     "metadata": {},
     "output_type": "execute_result"
    }
   ],
   "source": [
    "y = ex_data_poly['y']\n",
    "X = ex_data_poly[['const','x','x2','x3']]\n",
    "ex_model_poly = sm.OLS(y,X).fit()\n",
    "ex_prediction_poly = ex_model_poly.predict(X)\n",
    "ex_data_poly['prediction'] = ex_prediction_poly\n",
    "ex_prediction_poly.head(10)\n"
   ]
  },
  {
   "cell_type": "markdown",
   "id": "ba570d90",
   "metadata": {},
   "source": [
    "#### Task 4\n",
    "##### Using `ex_model_poly` model, predict the target using `x`, `x2`, and `x3` as predictors.\n",
    "##### Save the predictions as `ex_prediction_poly`.\n",
    "##### Print the first ten rows of the predictions.\n",
    "#### Result:\n"
   ]
  },
  {
   "cell_type": "code",
   "execution_count": 84,
   "id": "14011bd5",
   "metadata": {},
   "outputs": [],
   "source": [
    "# done above"
   ]
  },
  {
   "cell_type": "markdown",
   "id": "10012dfe",
   "metadata": {},
   "source": [
    "#### Task 5\n",
    "##### Create a plot that shows the actual values of `y` and the predicted values of `y`. \n",
    "##### Plot the actual points of `y` as scatter points and the predicted values of `y` as a red line. \n",
    "#### Result:\n"
   ]
  },
  {
   "cell_type": "code",
   "execution_count": 85,
   "id": "7fcb022f",
   "metadata": {},
   "outputs": [
    {
     "data": {
      "image/png": "[encoded data removed]",
      "text/plain": [
       "<Figure size 432x288 with 1 Axes>"
      ]
     },
     "metadata": {
      "needs_background": "light"
     },
     "output_type": "display_data"
    }
   ],
   "source": [
    "ex_data_poly.plot(kind = 'scatter', x = 'x', y = 'y')\n",
    "plt.plot(X['x'], ex_prediction_poly, 'red')\n",
    "plt.title(\"X vs. Y\")\n",
    "plt.xlabel(\"X\")\n",
    "plt.ylabel(\"Y\")\n",
    "plt.show()\n"
   ]
  },
  {
   "cell_type": "markdown",
   "id": "44bd1398",
   "metadata": {},
   "source": [
    "#### Task 6\n",
    "##### Get the residuals and put them into a dataframe called `ex_poly_results`, along with the actual values of `y` and the predictions of `y`.\n",
    "##### Using the RMSE function, get the RMSE of our polynomial model.\n"
   ]
  },
  {
   "cell_type": "markdown",
   "id": "0af708cc",
   "metadata": {},
   "source": [
    "#### Result:  \n"
   ]
  },
  {
   "cell_type": "code",
   "execution_count": 90,
   "id": "cb549d73-33cb-4c0e-99b0-483cf3ab4f83",
   "metadata": {},
   "outputs": [
    {
     "data": {
      "text/plain": [
       "97.73273831935217"
      ]
     },
     "execution_count": 90,
     "metadata": {},
     "output_type": "execute_result"
    }
   ],
   "source": [
    "actual = y\n",
    "predicted = ex_data_poly['prediction']\n",
    "residuals = actual - predicted\n",
    "ex_poly_results = [{'actual':actual,'predicted':predicted,'residuals':residuals}]\n",
    "rmse(actual,predicted)"
   ]
  },
  {
   "cell_type": "markdown",
   "id": "45cdec3d",
   "metadata": {},
   "source": [
    "#### Task 7\n",
    "##### Build a standard linear model and plot `actual vs predicted` to see how the model would have performed.\n",
    "##### Compare this plot with the previous plot we made with polynomial terms added in.\n",
    "#### Result:\n"
   ]
  },
  {
   "cell_type": "code",
   "execution_count": 96,
   "id": "1282ce53",
   "metadata": {},
   "outputs": [],
   "source": [
    "model_lin = sm.OLS(ex_data_poly['y'], ex_data_poly['x']).fit()\n",
    "\n"
   ]
  },
  {
   "cell_type": "code",
   "execution_count": 101,
   "id": "8e3c7a01-6ea7-4902-882e-4be6e802270d",
   "metadata": {},
   "outputs": [
    {
     "data": {
      "image/png": "[encoded data removed]",
      "text/plain": [
       "<Figure size 432x288 with 1 Axes>"
      ]
     },
     "metadata": {
      "needs_background": "light"
     },
     "output_type": "display_data"
    }
   ],
   "source": [
    "prediction = model_lin.predict(ex_data_poly['x'])\n",
    "\n",
    "#lin_model = sm.OLS(y,X['x']).fit()\n",
    "#prediction = lin_model.predicted(X['x'])\n",
    "\n",
    "\n",
    "plt.scatter(ex_data_poly['x'],ex_data_poly['y'])\n",
    "\n",
    "plt.plot(ex_data_poly['x'], prediction, 'red')\n",
    "plt.title(\"X vs. Y\")\n",
    "plt.xlabel(\"X\")\n",
    "plt.ylabel(\"Y\")\n",
    "plt.show()"
   ]
  },
  {
   "cell_type": "markdown",
   "id": "0ad1316b",
   "metadata": {},
   "source": [
    "#### Exercise 4\n",
    "#### Task 1\n",
    "##### Load the `interaction-data.csv` as `ex_interaction`. \n",
    "##### This is a dataset that predicts `Income` with `Illiteracy` and `High School Graduate Percentage` as predictors.\n",
    "##### Check the shape of `ex_interaction` and print the first few rows to see what the dataset looks like. \n",
    "##### Check if there are any missing values in the dataset. \n",
    "#### Result:\n"
   ]
  },
  {
   "cell_type": "code",
   "execution_count": 103,
   "id": "38ff419a",
   "metadata": {},
   "outputs": [
    {
     "name": "stdout",
     "output_type": "stream",
     "text": [
      "['insurance.csv', 'diabetes.csv', 'interaction-data.csv', 'loglin.csv', '.ipynb_checkpoints', 'beer-sold-by-price.csv', 'ChemicalManufacturingProcess.csv', 'poly-data.csv']\n"
     ]
    },
    {
     "data": {
      "text/plain": [
       "(50, 3)"
      ]
     },
     "execution_count": 103,
     "metadata": {},
     "output_type": "execute_result"
    }
   ],
   "source": [
    "print(os.listdir())\n",
    "ex_interaction = pd.read_csv(str(data_dir) + '/interaction-data.csv')\n",
    "ex_interaction.shape\n"
   ]
  },
  {
   "cell_type": "markdown",
   "id": "c064c0f0",
   "metadata": {},
   "source": [
    "#### Task 2\n",
    "##### Add the interaction term between `Illiteracy` and `HS Grad` as `illiteracy:hsgrad`.\n",
    "##### Take a look at the first few rows again.\n",
    "#### Result:\n"
   ]
  },
  {
   "cell_type": "code",
   "execution_count": 110,
   "id": "2a478478",
   "metadata": {},
   "outputs": [],
   "source": [
    "ex_interaction['const'] = np.ones([ex_interaction.shape[0],1])\n",
    "ex_interaction['illiteracy:hsgrad'] = ex_interaction['Illiteracy'] * ex_interaction['HS Grad']\n",
    "ex_interaction\n",
    "\n",
    "predictors = ['const','Illiteracy','HS Grad','illiteracy:hsgrad']\n",
    "target = 'Income'"
   ]
  },
  {
   "cell_type": "markdown",
   "id": "bc7c7a10",
   "metadata": {},
   "source": [
    "#### Task 3\n",
    "##### Add a constant to the dataframe and fit the model with `Income` as the target variable and the rest of the variables as predictors.\n",
    "##### Name the model as `ex_model_interact`.\n",
    "#### Result:\n"
   ]
  },
  {
   "cell_type": "code",
   "execution_count": 117,
   "id": "57a87106",
   "metadata": {},
   "outputs": [
    {
     "data": {
      "text/html": [
       "<div>\n",
       "<style scoped>\n",
       "    .dataframe tbody tr th:only-of-type {\n",
       "        vertical-align: middle;\n",
       "    }\n",
       "\n",
       "    .dataframe tbody tr th {\n",
       "        vertical-align: top;\n",
       "    }\n",
       "\n",
       "    .dataframe thead th {\n",
       "        text-align: right;\n",
       "    }\n",
       "</style>\n",
       "<table border=\"1\" class=\"dataframe\">\n",
       "  <thead>\n",
       "    <tr style=\"text-align: right;\">\n",
       "      <th></th>\n",
       "      <th>Income</th>\n",
       "      <th>Illiteracy</th>\n",
       "      <th>HS Grad</th>\n",
       "      <th>const</th>\n",
       "      <th>illiteracy:hsgrad</th>\n",
       "      <th>prediction</th>\n",
       "    </tr>\n",
       "  </thead>\n",
       "  <tbody>\n",
       "    <tr>\n",
       "      <th>0</th>\n",
       "      <td>3624</td>\n",
       "      <td>2.1</td>\n",
       "      <td>41.3</td>\n",
       "      <td>1.0</td>\n",
       "      <td>86.73</td>\n",
       "      <td>3685.379693</td>\n",
       "    </tr>\n",
       "    <tr>\n",
       "      <th>1</th>\n",
       "      <td>6315</td>\n",
       "      <td>1.5</td>\n",
       "      <td>66.7</td>\n",
       "      <td>1.0</td>\n",
       "      <td>100.05</td>\n",
       "      <td>5279.695256</td>\n",
       "    </tr>\n",
       "    <tr>\n",
       "      <th>2</th>\n",
       "      <td>4530</td>\n",
       "      <td>1.8</td>\n",
       "      <td>58.1</td>\n",
       "      <td>1.0</td>\n",
       "      <td>104.58</td>\n",
       "      <td>4928.555613</td>\n",
       "    </tr>\n",
       "    <tr>\n",
       "      <th>3</th>\n",
       "      <td>3378</td>\n",
       "      <td>1.9</td>\n",
       "      <td>39.9</td>\n",
       "      <td>1.0</td>\n",
       "      <td>75.81</td>\n",
       "      <td>3694.678020</td>\n",
       "    </tr>\n",
       "    <tr>\n",
       "      <th>4</th>\n",
       "      <td>5114</td>\n",
       "      <td>1.1</td>\n",
       "      <td>62.6</td>\n",
       "      <td>1.0</td>\n",
       "      <td>68.86</td>\n",
       "      <td>4880.432683</td>\n",
       "    </tr>\n",
       "    <tr>\n",
       "      <th>5</th>\n",
       "      <td>4884</td>\n",
       "      <td>0.7</td>\n",
       "      <td>63.9</td>\n",
       "      <td>1.0</td>\n",
       "      <td>44.73</td>\n",
       "      <td>4702.781546</td>\n",
       "    </tr>\n",
       "    <tr>\n",
       "      <th>6</th>\n",
       "      <td>5348</td>\n",
       "      <td>1.1</td>\n",
       "      <td>56.0</td>\n",
       "      <td>1.0</td>\n",
       "      <td>61.60</td>\n",
       "      <td>4674.796122</td>\n",
       "    </tr>\n",
       "    <tr>\n",
       "      <th>7</th>\n",
       "      <td>4809</td>\n",
       "      <td>0.9</td>\n",
       "      <td>54.6</td>\n",
       "      <td>1.0</td>\n",
       "      <td>49.14</td>\n",
       "      <td>4610.719855</td>\n",
       "    </tr>\n",
       "    <tr>\n",
       "      <th>8</th>\n",
       "      <td>4815</td>\n",
       "      <td>1.3</td>\n",
       "      <td>52.6</td>\n",
       "      <td>1.0</td>\n",
       "      <td>68.38</td>\n",
       "      <td>4570.260191</td>\n",
       "    </tr>\n",
       "    <tr>\n",
       "      <th>9</th>\n",
       "      <td>4091</td>\n",
       "      <td>2.0</td>\n",
       "      <td>40.6</td>\n",
       "      <td>1.0</td>\n",
       "      <td>81.20</td>\n",
       "      <td>3686.693648</td>\n",
       "    </tr>\n",
       "  </tbody>\n",
       "</table>\n",
       "</div>"
      ],
      "text/plain": [
       "   Income  Illiteracy  HS Grad  const  illiteracy:hsgrad   prediction\n",
       "0    3624         2.1     41.3    1.0              86.73  3685.379693\n",
       "1    6315         1.5     66.7    1.0             100.05  5279.695256\n",
       "2    4530         1.8     58.1    1.0             104.58  4928.555613\n",
       "3    3378         1.9     39.9    1.0              75.81  3694.678020\n",
       "4    5114         1.1     62.6    1.0              68.86  4880.432683\n",
       "5    4884         0.7     63.9    1.0              44.73  4702.781546\n",
       "6    5348         1.1     56.0    1.0              61.60  4674.796122\n",
       "7    4809         0.9     54.6    1.0              49.14  4610.719855\n",
       "8    4815         1.3     52.6    1.0              68.38  4570.260191\n",
       "9    4091         2.0     40.6    1.0              81.20  3686.693648"
      ]
     },
     "execution_count": 117,
     "metadata": {},
     "output_type": "execute_result"
    }
   ],
   "source": [
    "y = ex_interaction[target]\n",
    "X = ex_interaction[predictors]\n",
    "model_interact = sm.OLS(y,X).fit()\n",
    "prediction = model_interact.predict(X)\n",
    "ex_interaction['prediction'] = prediction\n",
    "ex_interaction.head(10)"
   ]
  },
  {
   "cell_type": "markdown",
   "id": "efeff2ad",
   "metadata": {},
   "source": [
    "#### Task 4\n",
    "##### Using the fitted model, predict using the same variables as predictors.\n",
    "##### Name the predictions as `ex_prediction_interact` and take a look at the first 10 rows of the prediction.\n",
    "#### Result:\n"
   ]
  },
  {
   "cell_type": "code",
   "execution_count": 118,
   "id": "c1263be6",
   "metadata": {},
   "outputs": [],
   "source": [
    "# done above"
   ]
  },
  {
   "cell_type": "markdown",
   "id": "2023e644",
   "metadata": {},
   "source": [
    "#### Task 5\n",
    "##### Evaluate the model using the defined RMSE function.\n"
   ]
  },
  {
   "cell_type": "code",
   "execution_count": 119,
   "id": "edb3500b",
   "metadata": {},
   "outputs": [],
   "source": [
    "def rmse(prediction,actual):\n",
    "    return np.sqrt(((prediction-actual) ** 2).mean())\n"
   ]
  },
  {
   "cell_type": "markdown",
   "id": "1f0216fc",
   "metadata": {},
   "source": [
    "#### Result:\n"
   ]
  },
  {
   "cell_type": "code",
   "execution_count": 120,
   "id": "073478cb",
   "metadata": {},
   "outputs": [
    {
     "data": {
      "text/plain": [
       "429.20369455974986"
      ]
     },
     "execution_count": 120,
     "metadata": {},
     "output_type": "execute_result"
    }
   ],
   "source": [
    "actual = ex_interaction['Income']\n",
    "predicted = ex_interaction['prediction']\n",
    "\n",
    "ex_interaction['residuals'] = actual-predicted\n",
    "\n",
    "rmse(actual,predicted)"
   ]
  },
  {
   "cell_type": "markdown",
   "id": "2bb1dc4e",
   "metadata": {},
   "source": [
    "#### Task 6\n",
    "##### How would the model have performed if we did not add the interaction term?\n",
    "##### Build a new model without the interaction term and calculate the RMSE. \n",
    "#### Result:\n"
   ]
  },
  {
   "cell_type": "code",
   "execution_count": 121,
   "id": "d87c562d",
   "metadata": {},
   "outputs": [],
   "source": [
    "ex_interaction['const'] = np.ones([ex_interaction.shape[0],1])\n",
    "ex_interaction['illiteracy:hsgrad'] = ex_interaction['Illiteracy'] * ex_interaction['HS Grad']\n",
    "ex_interaction\n",
    "\n",
    "predictors = ['const','Illiteracy','HS Grad']\n",
    "target = 'Income'"
   ]
  },
  {
   "cell_type": "code",
   "execution_count": 122,
   "id": "9029f8a5-a5f8-4ccb-806b-c4d13919c53b",
   "metadata": {},
   "outputs": [
    {
     "data": {
      "text/html": [
       "<div>\n",
       "<style scoped>\n",
       "    .dataframe tbody tr th:only-of-type {\n",
       "        vertical-align: middle;\n",
       "    }\n",
       "\n",
       "    .dataframe tbody tr th {\n",
       "        vertical-align: top;\n",
       "    }\n",
       "\n",
       "    .dataframe thead th {\n",
       "        text-align: right;\n",
       "    }\n",
       "</style>\n",
       "<table border=\"1\" class=\"dataframe\">\n",
       "  <thead>\n",
       "    <tr style=\"text-align: right;\">\n",
       "      <th></th>\n",
       "      <th>Income</th>\n",
       "      <th>Illiteracy</th>\n",
       "      <th>HS Grad</th>\n",
       "      <th>const</th>\n",
       "      <th>illiteracy:hsgrad</th>\n",
       "      <th>prediction</th>\n",
       "      <th>residuals</th>\n",
       "    </tr>\n",
       "  </thead>\n",
       "  <tbody>\n",
       "    <tr>\n",
       "      <th>0</th>\n",
       "      <td>3624</td>\n",
       "      <td>2.1</td>\n",
       "      <td>41.3</td>\n",
       "      <td>1.0</td>\n",
       "      <td>86.73</td>\n",
       "      <td>3860.780466</td>\n",
       "      <td>-61.379693</td>\n",
       "    </tr>\n",
       "    <tr>\n",
       "      <th>1</th>\n",
       "      <td>6315</td>\n",
       "      <td>1.5</td>\n",
       "      <td>66.7</td>\n",
       "      <td>1.0</td>\n",
       "      <td>100.05</td>\n",
       "      <td>5023.977913</td>\n",
       "      <td>1035.304744</td>\n",
       "    </tr>\n",
       "    <tr>\n",
       "      <th>2</th>\n",
       "      <td>4530</td>\n",
       "      <td>1.8</td>\n",
       "      <td>58.1</td>\n",
       "      <td>1.0</td>\n",
       "      <td>104.58</td>\n",
       "      <td>4625.041540</td>\n",
       "      <td>-398.555613</td>\n",
       "    </tr>\n",
       "    <tr>\n",
       "      <th>3</th>\n",
       "      <td>3378</td>\n",
       "      <td>1.9</td>\n",
       "      <td>39.9</td>\n",
       "      <td>1.0</td>\n",
       "      <td>75.81</td>\n",
       "      <td>3808.935261</td>\n",
       "      <td>-316.678020</td>\n",
       "    </tr>\n",
       "    <tr>\n",
       "      <th>4</th>\n",
       "      <td>5114</td>\n",
       "      <td>1.1</td>\n",
       "      <td>62.6</td>\n",
       "      <td>1.0</td>\n",
       "      <td>68.86</td>\n",
       "      <td>4862.370173</td>\n",
       "      <td>233.567317</td>\n",
       "    </tr>\n",
       "    <tr>\n",
       "      <th>5</th>\n",
       "      <td>4884</td>\n",
       "      <td>0.7</td>\n",
       "      <td>63.9</td>\n",
       "      <td>1.0</td>\n",
       "      <td>44.73</td>\n",
       "      <td>4941.342112</td>\n",
       "      <td>181.218454</td>\n",
       "    </tr>\n",
       "    <tr>\n",
       "      <th>6</th>\n",
       "      <td>5348</td>\n",
       "      <td>1.1</td>\n",
       "      <td>56.0</td>\n",
       "      <td>1.0</td>\n",
       "      <td>61.60</td>\n",
       "      <td>4568.328341</td>\n",
       "      <td>673.203878</td>\n",
       "    </tr>\n",
       "    <tr>\n",
       "      <th>7</th>\n",
       "      <td>4809</td>\n",
       "      <td>0.9</td>\n",
       "      <td>54.6</td>\n",
       "      <td>1.0</td>\n",
       "      <td>49.14</td>\n",
       "      <td>4516.483136</td>\n",
       "      <td>198.280145</td>\n",
       "    </tr>\n",
       "    <tr>\n",
       "      <th>8</th>\n",
       "      <td>4815</td>\n",
       "      <td>1.3</td>\n",
       "      <td>52.6</td>\n",
       "      <td>1.0</td>\n",
       "      <td>68.38</td>\n",
       "      <td>4406.324941</td>\n",
       "      <td>244.739809</td>\n",
       "    </tr>\n",
       "    <tr>\n",
       "      <th>9</th>\n",
       "      <td>4091</td>\n",
       "      <td>2.0</td>\n",
       "      <td>40.6</td>\n",
       "      <td>1.0</td>\n",
       "      <td>81.20</td>\n",
       "      <td>3834.857864</td>\n",
       "      <td>404.306352</td>\n",
       "    </tr>\n",
       "  </tbody>\n",
       "</table>\n",
       "</div>"
      ],
      "text/plain": [
       "   Income  Illiteracy  HS Grad  const  illiteracy:hsgrad   prediction  \\\n",
       "0    3624         2.1     41.3    1.0              86.73  3860.780466   \n",
       "1    6315         1.5     66.7    1.0             100.05  5023.977913   \n",
       "2    4530         1.8     58.1    1.0             104.58  4625.041540   \n",
       "3    3378         1.9     39.9    1.0              75.81  3808.935261   \n",
       "4    5114         1.1     62.6    1.0              68.86  4862.370173   \n",
       "5    4884         0.7     63.9    1.0              44.73  4941.342112   \n",
       "6    5348         1.1     56.0    1.0              61.60  4568.328341   \n",
       "7    4809         0.9     54.6    1.0              49.14  4516.483136   \n",
       "8    4815         1.3     52.6    1.0              68.38  4406.324941   \n",
       "9    4091         2.0     40.6    1.0              81.20  3834.857864   \n",
       "\n",
       "     residuals  \n",
       "0   -61.379693  \n",
       "1  1035.304744  \n",
       "2  -398.555613  \n",
       "3  -316.678020  \n",
       "4   233.567317  \n",
       "5   181.218454  \n",
       "6   673.203878  \n",
       "7   198.280145  \n",
       "8   244.739809  \n",
       "9   404.306352  "
      ]
     },
     "execution_count": 122,
     "metadata": {},
     "output_type": "execute_result"
    }
   ],
   "source": [
    "y = ex_interaction[target]\n",
    "X = ex_interaction[predictors]\n",
    "model_interact = sm.OLS(y,X).fit()\n",
    "prediction = model_interact.predict(X)\n",
    "ex_interaction['prediction'] = prediction\n",
    "ex_interaction.head(10)"
   ]
  },
  {
   "cell_type": "code",
   "execution_count": 123,
   "id": "aa5e6fbb-ce5c-44a7-9977-7ecffd02b257",
   "metadata": {},
   "outputs": [
    {
     "data": {
      "text/plain": [
       "476.70054097232804"
      ]
     },
     "execution_count": 123,
     "metadata": {},
     "output_type": "execute_result"
    }
   ],
   "source": [
    "actual = ex_interaction['Income']\n",
    "predicted = ex_interaction['prediction']\n",
    "\n",
    "ex_interaction['residuals'] = actual-predicted\n",
    "\n",
    "rmse(actual,predicted)"
   ]
  },
  {
   "cell_type": "code",
   "execution_count": null,
   "id": "cb29a2e8-e552-49b5-a9d3-3749f5248c6e",
   "metadata": {},
   "outputs": [],
   "source": []
  }
 ],
 "metadata": {
  "kernelspec": {
   "display_name": "Python 3",
   "language": "python",
   "name": "python3"
  },
  "language": "python",
  "language_info": {
   "codemirror_mode": {
    "name": "ipython",
    "version": 3
   },
   "file_extension": ".py",
   "mimetype": "text/x-python",
   "name": "python",
   "nbconvert_exporter": "python",
   "pygments_lexer": "ipython3",
   "version": "3.7.12"
  }
 },
 "nbformat": 4,
 "nbformat_minor": 5
}
